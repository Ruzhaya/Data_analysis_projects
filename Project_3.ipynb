{
 "cells": [
  {
   "cell_type": "markdown",
   "metadata": {
    "toc": true
   },
   "source": [
    "<h1>Содержание<span class=\"tocSkip\"></span></h1>\n",
    "<div class=\"toc\"><ul class=\"toc-item\"><li><span><a href=\"#Изучение-данных-из-файла\" data-toc-modified-id=\"Изучение-данных-из-файла-1\"><span class=\"toc-item-num\">1&nbsp;&nbsp;</span>Изучение данных из файла</a></span><ul class=\"toc-item\"><li><span><a href=\"#Вывод\" data-toc-modified-id=\"Вывод-1.1\"><span class=\"toc-item-num\">1.1&nbsp;&nbsp;</span>Вывод</a></span></li></ul></li><li><span><a href=\"#Предобработка-данных\" data-toc-modified-id=\"Предобработка-данных-2\"><span class=\"toc-item-num\">2&nbsp;&nbsp;</span>Предобработка данных</a></span><ul class=\"toc-item\"><li><span><a href=\"#Обработка-дубликатов\" data-toc-modified-id=\"Обработка-дубликатов-2.1\"><span class=\"toc-item-num\">2.1&nbsp;&nbsp;</span>Обработка дубликатов</a></span><ul class=\"toc-item\"><li><span><a href=\"#Проверка-на-явные-дубликаты\" data-toc-modified-id=\"Проверка-на-явные-дубликаты-2.1.1\"><span class=\"toc-item-num\">2.1.1&nbsp;&nbsp;</span>Проверка на явные дубликаты</a></span></li><li><span><a href=\"#Обработка-столбца-locality_name\" data-toc-modified-id=\"Обработка-столбца-locality_name-2.1.2\"><span class=\"toc-item-num\">2.1.2&nbsp;&nbsp;</span>Обработка столбца <code>locality_name</code></a></span></li></ul></li><li><span><a href=\"#Заполнение-пропусков-и-изменение-типа-данных\" data-toc-modified-id=\"Заполнение-пропусков-и-изменение-типа-данных-2.2\"><span class=\"toc-item-num\">2.2&nbsp;&nbsp;</span>Заполнение пропусков и изменение типа данных</a></span><ul class=\"toc-item\"><li><span><a href=\"#Обработка-столбца-locality_name_corr\" data-toc-modified-id=\"Обработка-столбца-locality_name_corr-2.2.1\"><span class=\"toc-item-num\">2.2.1&nbsp;&nbsp;</span>Обработка столбца <code>locality_name_corr</code></a></span></li><li><span><a href=\"#Обработка-столбца-floors_total\" data-toc-modified-id=\"Обработка-столбца-floors_total-2.2.2\"><span class=\"toc-item-num\">2.2.2&nbsp;&nbsp;</span>Обработка столбца <code>floors_total</code></a></span></li><li><span><a href=\"#Обработка-столбца-ceiling_height\" data-toc-modified-id=\"Обработка-столбца-ceiling_height-2.2.3\"><span class=\"toc-item-num\">2.2.3&nbsp;&nbsp;</span>Обработка столбца <code>ceiling_height</code></a></span></li><li><span><a href=\"#Обработка-столбца-is_apartment\" data-toc-modified-id=\"Обработка-столбца-is_apartment-2.2.4\"><span class=\"toc-item-num\">2.2.4&nbsp;&nbsp;</span>Обработка столбца <code>is_apartment</code></a></span></li><li><span><a href=\"#Обработка-столбца-balcony\" data-toc-modified-id=\"Обработка-столбца-balcony-2.2.5\"><span class=\"toc-item-num\">2.2.5&nbsp;&nbsp;</span>Обработка столбца <code>balcony</code></a></span></li><li><span><a href=\"#Обработка-столбца-first_day_exposition\" data-toc-modified-id=\"Обработка-столбца-first_day_exposition-2.2.6\"><span class=\"toc-item-num\">2.2.6&nbsp;&nbsp;</span>Обработка столбца <code>first_day_exposition</code></a></span></li><li><span><a href=\"#Обработка-столбца-days_exposition\" data-toc-modified-id=\"Обработка-столбца-days_exposition-2.2.7\"><span class=\"toc-item-num\">2.2.7&nbsp;&nbsp;</span>Обработка столбца <code>days_exposition</code></a></span></li><li><span><a href=\"#Изменение-типа-данных\" data-toc-modified-id=\"Изменение-типа-данных-2.2.8\"><span class=\"toc-item-num\">2.2.8&nbsp;&nbsp;</span>Изменение типа данных</a></span></li><li><span><a href=\"#Обработка-столбца-living_area\" data-toc-modified-id=\"Обработка-столбца-living_area-2.2.9\"><span class=\"toc-item-num\">2.2.9&nbsp;&nbsp;</span>Обработка столбца <code>living_area</code></a></span></li><li><span><a href=\"#Обработка-столбца-kitchen_area\" data-toc-modified-id=\"Обработка-столбца-kitchen_area-2.2.10\"><span class=\"toc-item-num\">2.2.10&nbsp;&nbsp;</span>Обработка столбца <code>kitchen_area</code></a></span></li><li><span><a href=\"#Обработка-столбца-last_price\" data-toc-modified-id=\"Обработка-столбца-last_price-2.2.11\"><span class=\"toc-item-num\">2.2.11&nbsp;&nbsp;</span>Обработка столбца <code>last_price</code></a></span></li></ul></li><li><span><a href=\"#Проверка-итоговой-таблицы\" data-toc-modified-id=\"Проверка-итоговой-таблицы-2.3\"><span class=\"toc-item-num\">2.3&nbsp;&nbsp;</span>Проверка итоговой таблицы</a></span></li><li><span><a href=\"#Вывод\" data-toc-modified-id=\"Вывод-2.4\"><span class=\"toc-item-num\">2.4&nbsp;&nbsp;</span>Вывод</a></span></li></ul></li><li><span><a href=\"#Расчёты-и-добавление-результатов-в-таблицу\" data-toc-modified-id=\"Расчёты-и-добавление-результатов-в-таблицу-3\"><span class=\"toc-item-num\">3&nbsp;&nbsp;</span>Расчёты и добавление результатов в таблицу</a></span><ul class=\"toc-item\"><li><span><a href=\"#Рассчет-и-добавление-стоимости-1$м^2$\" data-toc-modified-id=\"Рассчет-и-добавление-стоимости-1$м^2$-3.1\"><span class=\"toc-item-num\">3.1&nbsp;&nbsp;</span>Рассчет и добавление стоимости 1$м^2$</a></span></li><li><span><a href=\"#Выделение-дня-недели,-месяца-и-года-публикации-объявления\" data-toc-modified-id=\"Выделение-дня-недели,-месяца-и-года-публикации-объявления-3.2\"><span class=\"toc-item-num\">3.2&nbsp;&nbsp;</span>Выделение дня недели, месяца и года публикации объявления</a></span></li><li><span><a href=\"#Категоризация-этажей\" data-toc-modified-id=\"Категоризация-этажей-3.3\"><span class=\"toc-item-num\">3.3&nbsp;&nbsp;</span>Категоризация этажей</a></span></li></ul></li><li><span><a href=\"#Исследовательский-анализ-данных\" data-toc-modified-id=\"Исследовательский-анализ-данных-4\"><span class=\"toc-item-num\">4&nbsp;&nbsp;</span>Исследовательский анализ данных</a></span><ul class=\"toc-item\"><li><span><a href=\"#Изучение-параметров:-площадь,-цена,-число-комнат-и-высота-потолков\" data-toc-modified-id=\"Изучение-параметров:-площадь,-цена,-число-комнат-и-высота-потолков-4.1\"><span class=\"toc-item-num\">4.1&nbsp;&nbsp;</span>Изучение параметров: площадь, цена, число комнат и высота потолков</a></span><ul class=\"toc-item\"><li><span><a href=\"#Исследование-параметра-общая-площадь\" data-toc-modified-id=\"Исследование-параметра-общая-площадь-4.1.1\"><span class=\"toc-item-num\">4.1.1&nbsp;&nbsp;</span>Исследование параметра общая площадь</a></span></li><li><span><a href=\"#Исследование-параметра-цена\" data-toc-modified-id=\"Исследование-параметра-цена-4.1.2\"><span class=\"toc-item-num\">4.1.2&nbsp;&nbsp;</span>Исследование параметра цена</a></span></li><li><span><a href=\"#Исследование-параметра-число-комнат\" data-toc-modified-id=\"Исследование-параметра-число-комнат-4.1.3\"><span class=\"toc-item-num\">4.1.3&nbsp;&nbsp;</span>Исследование параметра число комнат</a></span></li><li><span><a href=\"#Исследование-параметра-высота-потолков\" data-toc-modified-id=\"Исследование-параметра-высота-потолков-4.1.4\"><span class=\"toc-item-num\">4.1.4&nbsp;&nbsp;</span>Исследование параметра высота потолков</a></span></li><li><span><a href=\"#Вывод\" data-toc-modified-id=\"Вывод-4.1.5\"><span class=\"toc-item-num\">4.1.5&nbsp;&nbsp;</span>Вывод</a></span></li></ul></li><li><span><a href=\"#Изучение-времени-продажи\" data-toc-modified-id=\"Изучение-времени-продажи-4.2\"><span class=\"toc-item-num\">4.2&nbsp;&nbsp;</span>Изучение времени продажи</a></span><ul class=\"toc-item\"><li><span><a href=\"#Графики\" data-toc-modified-id=\"Графики-4.2.1\"><span class=\"toc-item-num\">4.2.1&nbsp;&nbsp;</span>Графики</a></span></li><li><span><a href=\"#Сводная-таблица\" data-toc-modified-id=\"Сводная-таблица-4.2.2\"><span class=\"toc-item-num\">4.2.2&nbsp;&nbsp;</span>Сводная таблица</a></span></li><li><span><a href=\"#Вывод\" data-toc-modified-id=\"Вывод-4.2.3\"><span class=\"toc-item-num\">4.2.3&nbsp;&nbsp;</span>Вывод</a></span></li></ul></li><li><span><a href=\"#Убираем-выбросы\" data-toc-modified-id=\"Убираем-выбросы-4.3\"><span class=\"toc-item-num\">4.3&nbsp;&nbsp;</span>Убираем выбросы</a></span><ul class=\"toc-item\"><li><span><a href=\"#Формируем-таблицу-для-анализа\" data-toc-modified-id=\"Формируем-таблицу-для-анализа-4.3.1\"><span class=\"toc-item-num\">4.3.1&nbsp;&nbsp;</span>Формируем таблицу для анализа</a></span></li><li><span><a href=\"#Рассчитываем-ограничения-по-выбросам\" data-toc-modified-id=\"Рассчитываем-ограничения-по-выбросам-4.3.2\"><span class=\"toc-item-num\">4.3.2&nbsp;&nbsp;</span>Рассчитываем ограничения по выбросам</a></span></li><li><span><a href=\"#Фильтруем-таблицу\" data-toc-modified-id=\"Фильтруем-таблицу-4.3.3\"><span class=\"toc-item-num\">4.3.3&nbsp;&nbsp;</span>Фильтруем таблицу</a></span></li><li><span><a href=\"#Вывод\" data-toc-modified-id=\"Вывод-4.3.4\"><span class=\"toc-item-num\">4.3.4&nbsp;&nbsp;</span>Вывод</a></span></li></ul></li><li><span><a href=\"#Изучение-факторов,-влияющих-на-стоимость\" data-toc-modified-id=\"Изучение-факторов,-влияющих-на-стоимость-4.4\"><span class=\"toc-item-num\">4.4&nbsp;&nbsp;</span>Изучение факторов, влияющих на стоимость</a></span><ul class=\"toc-item\"><li><span><a href=\"#Зависимость-стоимости-от-площади,-числа-комнат,-удаленности-от-центра\" data-toc-modified-id=\"Зависимость-стоимости-от-площади,-числа-комнат,-удаленности-от-центра-4.4.1\"><span class=\"toc-item-num\">4.4.1&nbsp;&nbsp;</span>Зависимость стоимости от площади, числа комнат, удаленности от центра</a></span></li><li><span><a href=\"#Зависимость-стоимости-от-этажа\" data-toc-modified-id=\"Зависимость-стоимости-от-этажа-4.4.2\"><span class=\"toc-item-num\">4.4.2&nbsp;&nbsp;</span>Зависимость стоимости от этажа</a></span></li><li><span><a href=\"#Зависимость-стоимости-от-даты-размещения\" data-toc-modified-id=\"Зависимость-стоимости-от-даты-размещения-4.4.3\"><span class=\"toc-item-num\">4.4.3&nbsp;&nbsp;</span>Зависимость стоимости от даты размещения</a></span></li><li><span><a href=\"#Вывод\" data-toc-modified-id=\"Вывод-4.4.4\"><span class=\"toc-item-num\">4.4.4&nbsp;&nbsp;</span>Вывод</a></span></li></ul></li><li><span><a href=\"#Изучение-10-населенных-пунктов-с-наибольшим-количеством-объявлений\" data-toc-modified-id=\"Изучение-10-населенных-пунктов-с-наибольшим-количеством-объявлений-4.5\"><span class=\"toc-item-num\">4.5&nbsp;&nbsp;</span>Изучение 10 населенных пунктов с наибольшим количеством объявлений</a></span></li><li><span><a href=\"#Изучение-квартир-в-Санкт-Петербурге\" data-toc-modified-id=\"Изучение-квартир-в-Санкт-Петербурге-4.6\"><span class=\"toc-item-num\">4.6&nbsp;&nbsp;</span>Изучение квартир в Санкт-Петербурге</a></span></li><li><span><a href=\"#Исследование-квартир-в-центре-Санкт-Петербурга\" data-toc-modified-id=\"Исследование-квартир-в-центре-Санкт-Петербурга-4.7\"><span class=\"toc-item-num\">4.7&nbsp;&nbsp;</span>Исследование квартир в центре Санкт-Петербурга</a></span><ul class=\"toc-item\"><li><span><a href=\"#Исследование-площади\" data-toc-modified-id=\"Исследование-площади-4.7.1\"><span class=\"toc-item-num\">4.7.1&nbsp;&nbsp;</span>Исследование площади</a></span></li><li><span><a href=\"#Исследование-цены\" data-toc-modified-id=\"Исследование-цены-4.7.2\"><span class=\"toc-item-num\">4.7.2&nbsp;&nbsp;</span>Исследование цены</a></span></li><li><span><a href=\"#Исследование-числа-комнат\" data-toc-modified-id=\"Исследование-числа-комнат-4.7.3\"><span class=\"toc-item-num\">4.7.3&nbsp;&nbsp;</span>Исследование числа комнат</a></span></li><li><span><a href=\"#Исследование-высоты-потолков\" data-toc-modified-id=\"Исследование-высоты-потолков-4.7.4\"><span class=\"toc-item-num\">4.7.4&nbsp;&nbsp;</span>Исследование высоты потолков</a></span></li><li><span><a href=\"#Исследование-факторов,-влияющих-на-стоимость-квартиры\" data-toc-modified-id=\"Исследование-факторов,-влияющих-на-стоимость-квартиры-4.7.5\"><span class=\"toc-item-num\">4.7.5&nbsp;&nbsp;</span>Исследование факторов, влияющих на стоимость квартиры</a></span></li></ul></li><li><span><a href=\"#Вывод\" data-toc-modified-id=\"Вывод-4.8\"><span class=\"toc-item-num\">4.8&nbsp;&nbsp;</span>Вывод</a></span></li></ul></li><li><span><a href=\"#Общий-вывод\" data-toc-modified-id=\"Общий-вывод-5\"><span class=\"toc-item-num\">5&nbsp;&nbsp;</span>Общий вывод</a></span></li><li><span><a href=\"#Чек-лист-готовности-проекта\" data-toc-modified-id=\"Чек-лист-готовности-проекта-6\"><span class=\"toc-item-num\">6&nbsp;&nbsp;</span>Чек-лист готовности проекта</a></span></li></ul></div>"
   ]
  },
  {
   "cell_type": "markdown",
   "metadata": {},
   "source": [
    "# Исследование объявлений о продаже квартир\n",
    "\n",
    "В вашем распоряжении данные сервиса Яндекс.Недвижимость — архив объявлений о продаже квартир в Санкт-Петербурге и соседних населённых пунктах за несколько лет. Нужно научиться определять рыночную стоимость объектов недвижимости. Ваша задача — установить параметры. Это позволит построить автоматизированную систему: она отследит аномалии и мошенническую деятельность. \n",
    "\n",
    "По каждой квартире на продажу доступны два вида данных. Первые вписаны пользователем, вторые получены автоматически на основе картографических данных. Например, расстояние до центра, аэропорта, ближайшего парка и водоёма. "
   ]
  },
  {
   "cell_type": "markdown",
   "metadata": {},
   "source": [
    "## Изучение данных из файла"
   ]
  },
  {
   "cell_type": "markdown",
   "metadata": {},
   "source": [
    "**Описание данных**\n",
    "* airports_nearest — расстояние до ближайшего аэропорта в метрах (м)\n",
    "* balcony — число балконов\n",
    "* ceiling_height — высота потолков (м)\n",
    "* cityCenters_nearest — расстояние до центра города (м)\n",
    "* days_exposition — сколько дней было размещено объявление (от публикации до снятия)\n",
    "* first_day_exposition — дата публикации\n",
    "* floor — этаж\n",
    "* floors_total — всего этажей в доме\n",
    "* is_apartment — апартаменты (булев тип)\n",
    "* kitchen_area — площадь кухни в квадратных метрах (м²)\n",
    "* last_price — цена на момент снятия с публикации\n",
    "* living_area — жилая площадь в квадратных метрах (м²)\n",
    "* locality_name — название населённого пункта\n",
    "* open_plan — свободная планировка (булев тип)\n",
    "* parks_around3000 — число парков в радиусе 3 км\n",
    "* parks_nearest — расстояние до ближайшего парка (м)\n",
    "* ponds_around3000 — число водоёмов в радиусе 3 км\n",
    "* ponds_nearest — расстояние до ближайшего водоёма (м)\n",
    "* rooms — число комнат\n",
    "* studio — квартира-студия (булев тип)\n",
    "* total_area — площадь квартиры в квадратных метрах (м²)\n",
    "* total_images — число фотографий квартиры в объявлении"
   ]
  },
  {
   "cell_type": "code",
   "execution_count": 1,
   "metadata": {},
   "outputs": [
    {
     "data": {
      "text/html": [
       "<div>\n",
       "<style scoped>\n",
       "    .dataframe tbody tr th:only-of-type {\n",
       "        vertical-align: middle;\n",
       "    }\n",
       "\n",
       "    .dataframe tbody tr th {\n",
       "        vertical-align: top;\n",
       "    }\n",
       "\n",
       "    .dataframe thead th {\n",
       "        text-align: right;\n",
       "    }\n",
       "</style>\n",
       "<table border=\"1\" class=\"dataframe\">\n",
       "  <thead>\n",
       "    <tr style=\"text-align: right;\">\n",
       "      <th></th>\n",
       "      <th>total_images</th>\n",
       "      <th>last_price</th>\n",
       "      <th>total_area</th>\n",
       "      <th>first_day_exposition</th>\n",
       "      <th>rooms</th>\n",
       "      <th>ceiling_height</th>\n",
       "      <th>floors_total</th>\n",
       "      <th>living_area</th>\n",
       "      <th>floor</th>\n",
       "      <th>is_apartment</th>\n",
       "      <th>...</th>\n",
       "      <th>kitchen_area</th>\n",
       "      <th>balcony</th>\n",
       "      <th>locality_name</th>\n",
       "      <th>airports_nearest</th>\n",
       "      <th>cityCenters_nearest</th>\n",
       "      <th>parks_around3000</th>\n",
       "      <th>parks_nearest</th>\n",
       "      <th>ponds_around3000</th>\n",
       "      <th>ponds_nearest</th>\n",
       "      <th>days_exposition</th>\n",
       "    </tr>\n",
       "  </thead>\n",
       "  <tbody>\n",
       "    <tr>\n",
       "      <th>0</th>\n",
       "      <td>20</td>\n",
       "      <td>13000000.0</td>\n",
       "      <td>108.00</td>\n",
       "      <td>2019-03-07T00:00:00</td>\n",
       "      <td>3</td>\n",
       "      <td>2.70</td>\n",
       "      <td>16.0</td>\n",
       "      <td>51.00</td>\n",
       "      <td>8</td>\n",
       "      <td>NaN</td>\n",
       "      <td>...</td>\n",
       "      <td>25.00</td>\n",
       "      <td>NaN</td>\n",
       "      <td>Санкт-Петербург</td>\n",
       "      <td>18863.0</td>\n",
       "      <td>16028.0</td>\n",
       "      <td>1.0</td>\n",
       "      <td>482.0</td>\n",
       "      <td>2.0</td>\n",
       "      <td>755.0</td>\n",
       "      <td>NaN</td>\n",
       "    </tr>\n",
       "    <tr>\n",
       "      <th>1</th>\n",
       "      <td>7</td>\n",
       "      <td>3350000.0</td>\n",
       "      <td>40.40</td>\n",
       "      <td>2018-12-04T00:00:00</td>\n",
       "      <td>1</td>\n",
       "      <td>NaN</td>\n",
       "      <td>11.0</td>\n",
       "      <td>18.60</td>\n",
       "      <td>1</td>\n",
       "      <td>NaN</td>\n",
       "      <td>...</td>\n",
       "      <td>11.00</td>\n",
       "      <td>2.0</td>\n",
       "      <td>посёлок Шушары</td>\n",
       "      <td>12817.0</td>\n",
       "      <td>18603.0</td>\n",
       "      <td>0.0</td>\n",
       "      <td>NaN</td>\n",
       "      <td>0.0</td>\n",
       "      <td>NaN</td>\n",
       "      <td>81.0</td>\n",
       "    </tr>\n",
       "    <tr>\n",
       "      <th>2</th>\n",
       "      <td>10</td>\n",
       "      <td>5196000.0</td>\n",
       "      <td>56.00</td>\n",
       "      <td>2015-08-20T00:00:00</td>\n",
       "      <td>2</td>\n",
       "      <td>NaN</td>\n",
       "      <td>5.0</td>\n",
       "      <td>34.30</td>\n",
       "      <td>4</td>\n",
       "      <td>NaN</td>\n",
       "      <td>...</td>\n",
       "      <td>8.30</td>\n",
       "      <td>0.0</td>\n",
       "      <td>Санкт-Петербург</td>\n",
       "      <td>21741.0</td>\n",
       "      <td>13933.0</td>\n",
       "      <td>1.0</td>\n",
       "      <td>90.0</td>\n",
       "      <td>2.0</td>\n",
       "      <td>574.0</td>\n",
       "      <td>558.0</td>\n",
       "    </tr>\n",
       "    <tr>\n",
       "      <th>3</th>\n",
       "      <td>0</td>\n",
       "      <td>64900000.0</td>\n",
       "      <td>159.00</td>\n",
       "      <td>2015-07-24T00:00:00</td>\n",
       "      <td>3</td>\n",
       "      <td>NaN</td>\n",
       "      <td>14.0</td>\n",
       "      <td>NaN</td>\n",
       "      <td>9</td>\n",
       "      <td>NaN</td>\n",
       "      <td>...</td>\n",
       "      <td>NaN</td>\n",
       "      <td>0.0</td>\n",
       "      <td>Санкт-Петербург</td>\n",
       "      <td>28098.0</td>\n",
       "      <td>6800.0</td>\n",
       "      <td>2.0</td>\n",
       "      <td>84.0</td>\n",
       "      <td>3.0</td>\n",
       "      <td>234.0</td>\n",
       "      <td>424.0</td>\n",
       "    </tr>\n",
       "    <tr>\n",
       "      <th>4</th>\n",
       "      <td>2</td>\n",
       "      <td>10000000.0</td>\n",
       "      <td>100.00</td>\n",
       "      <td>2018-06-19T00:00:00</td>\n",
       "      <td>2</td>\n",
       "      <td>3.03</td>\n",
       "      <td>14.0</td>\n",
       "      <td>32.00</td>\n",
       "      <td>13</td>\n",
       "      <td>NaN</td>\n",
       "      <td>...</td>\n",
       "      <td>41.00</td>\n",
       "      <td>NaN</td>\n",
       "      <td>Санкт-Петербург</td>\n",
       "      <td>31856.0</td>\n",
       "      <td>8098.0</td>\n",
       "      <td>2.0</td>\n",
       "      <td>112.0</td>\n",
       "      <td>1.0</td>\n",
       "      <td>48.0</td>\n",
       "      <td>121.0</td>\n",
       "    </tr>\n",
       "    <tr>\n",
       "      <th>5</th>\n",
       "      <td>10</td>\n",
       "      <td>2890000.0</td>\n",
       "      <td>30.40</td>\n",
       "      <td>2018-09-10T00:00:00</td>\n",
       "      <td>1</td>\n",
       "      <td>NaN</td>\n",
       "      <td>12.0</td>\n",
       "      <td>14.40</td>\n",
       "      <td>5</td>\n",
       "      <td>NaN</td>\n",
       "      <td>...</td>\n",
       "      <td>9.10</td>\n",
       "      <td>NaN</td>\n",
       "      <td>городской посёлок Янино-1</td>\n",
       "      <td>NaN</td>\n",
       "      <td>NaN</td>\n",
       "      <td>NaN</td>\n",
       "      <td>NaN</td>\n",
       "      <td>NaN</td>\n",
       "      <td>NaN</td>\n",
       "      <td>55.0</td>\n",
       "    </tr>\n",
       "    <tr>\n",
       "      <th>6</th>\n",
       "      <td>6</td>\n",
       "      <td>3700000.0</td>\n",
       "      <td>37.30</td>\n",
       "      <td>2017-11-02T00:00:00</td>\n",
       "      <td>1</td>\n",
       "      <td>NaN</td>\n",
       "      <td>26.0</td>\n",
       "      <td>10.60</td>\n",
       "      <td>6</td>\n",
       "      <td>NaN</td>\n",
       "      <td>...</td>\n",
       "      <td>14.40</td>\n",
       "      <td>1.0</td>\n",
       "      <td>посёлок Парголово</td>\n",
       "      <td>52996.0</td>\n",
       "      <td>19143.0</td>\n",
       "      <td>0.0</td>\n",
       "      <td>NaN</td>\n",
       "      <td>0.0</td>\n",
       "      <td>NaN</td>\n",
       "      <td>155.0</td>\n",
       "    </tr>\n",
       "    <tr>\n",
       "      <th>7</th>\n",
       "      <td>5</td>\n",
       "      <td>7915000.0</td>\n",
       "      <td>71.60</td>\n",
       "      <td>2019-04-18T00:00:00</td>\n",
       "      <td>2</td>\n",
       "      <td>NaN</td>\n",
       "      <td>24.0</td>\n",
       "      <td>NaN</td>\n",
       "      <td>22</td>\n",
       "      <td>NaN</td>\n",
       "      <td>...</td>\n",
       "      <td>18.90</td>\n",
       "      <td>2.0</td>\n",
       "      <td>Санкт-Петербург</td>\n",
       "      <td>23982.0</td>\n",
       "      <td>11634.0</td>\n",
       "      <td>0.0</td>\n",
       "      <td>NaN</td>\n",
       "      <td>0.0</td>\n",
       "      <td>NaN</td>\n",
       "      <td>NaN</td>\n",
       "    </tr>\n",
       "    <tr>\n",
       "      <th>8</th>\n",
       "      <td>20</td>\n",
       "      <td>2900000.0</td>\n",
       "      <td>33.16</td>\n",
       "      <td>2018-05-23T00:00:00</td>\n",
       "      <td>1</td>\n",
       "      <td>NaN</td>\n",
       "      <td>27.0</td>\n",
       "      <td>15.43</td>\n",
       "      <td>26</td>\n",
       "      <td>NaN</td>\n",
       "      <td>...</td>\n",
       "      <td>8.81</td>\n",
       "      <td>NaN</td>\n",
       "      <td>посёлок Мурино</td>\n",
       "      <td>NaN</td>\n",
       "      <td>NaN</td>\n",
       "      <td>NaN</td>\n",
       "      <td>NaN</td>\n",
       "      <td>NaN</td>\n",
       "      <td>NaN</td>\n",
       "      <td>189.0</td>\n",
       "    </tr>\n",
       "    <tr>\n",
       "      <th>9</th>\n",
       "      <td>18</td>\n",
       "      <td>5400000.0</td>\n",
       "      <td>61.00</td>\n",
       "      <td>2017-02-26T00:00:00</td>\n",
       "      <td>3</td>\n",
       "      <td>2.50</td>\n",
       "      <td>9.0</td>\n",
       "      <td>43.60</td>\n",
       "      <td>7</td>\n",
       "      <td>NaN</td>\n",
       "      <td>...</td>\n",
       "      <td>6.50</td>\n",
       "      <td>2.0</td>\n",
       "      <td>Санкт-Петербург</td>\n",
       "      <td>50898.0</td>\n",
       "      <td>15008.0</td>\n",
       "      <td>0.0</td>\n",
       "      <td>NaN</td>\n",
       "      <td>0.0</td>\n",
       "      <td>NaN</td>\n",
       "      <td>289.0</td>\n",
       "    </tr>\n",
       "  </tbody>\n",
       "</table>\n",
       "<p>10 rows × 22 columns</p>\n",
       "</div>"
      ],
      "text/plain": [
       "   total_images  last_price  total_area first_day_exposition  rooms  \\\n",
       "0            20  13000000.0      108.00  2019-03-07T00:00:00      3   \n",
       "1             7   3350000.0       40.40  2018-12-04T00:00:00      1   \n",
       "2            10   5196000.0       56.00  2015-08-20T00:00:00      2   \n",
       "3             0  64900000.0      159.00  2015-07-24T00:00:00      3   \n",
       "4             2  10000000.0      100.00  2018-06-19T00:00:00      2   \n",
       "5            10   2890000.0       30.40  2018-09-10T00:00:00      1   \n",
       "6             6   3700000.0       37.30  2017-11-02T00:00:00      1   \n",
       "7             5   7915000.0       71.60  2019-04-18T00:00:00      2   \n",
       "8            20   2900000.0       33.16  2018-05-23T00:00:00      1   \n",
       "9            18   5400000.0       61.00  2017-02-26T00:00:00      3   \n",
       "\n",
       "   ceiling_height  floors_total  living_area  floor is_apartment  ...  \\\n",
       "0            2.70          16.0        51.00      8          NaN  ...   \n",
       "1             NaN          11.0        18.60      1          NaN  ...   \n",
       "2             NaN           5.0        34.30      4          NaN  ...   \n",
       "3             NaN          14.0          NaN      9          NaN  ...   \n",
       "4            3.03          14.0        32.00     13          NaN  ...   \n",
       "5             NaN          12.0        14.40      5          NaN  ...   \n",
       "6             NaN          26.0        10.60      6          NaN  ...   \n",
       "7             NaN          24.0          NaN     22          NaN  ...   \n",
       "8             NaN          27.0        15.43     26          NaN  ...   \n",
       "9            2.50           9.0        43.60      7          NaN  ...   \n",
       "\n",
       "   kitchen_area  balcony              locality_name  airports_nearest  \\\n",
       "0         25.00      NaN            Санкт-Петербург           18863.0   \n",
       "1         11.00      2.0             посёлок Шушары           12817.0   \n",
       "2          8.30      0.0            Санкт-Петербург           21741.0   \n",
       "3           NaN      0.0            Санкт-Петербург           28098.0   \n",
       "4         41.00      NaN            Санкт-Петербург           31856.0   \n",
       "5          9.10      NaN  городской посёлок Янино-1               NaN   \n",
       "6         14.40      1.0          посёлок Парголово           52996.0   \n",
       "7         18.90      2.0            Санкт-Петербург           23982.0   \n",
       "8          8.81      NaN             посёлок Мурино               NaN   \n",
       "9          6.50      2.0            Санкт-Петербург           50898.0   \n",
       "\n",
       "  cityCenters_nearest  parks_around3000  parks_nearest  ponds_around3000  \\\n",
       "0             16028.0               1.0          482.0               2.0   \n",
       "1             18603.0               0.0            NaN               0.0   \n",
       "2             13933.0               1.0           90.0               2.0   \n",
       "3              6800.0               2.0           84.0               3.0   \n",
       "4              8098.0               2.0          112.0               1.0   \n",
       "5                 NaN               NaN            NaN               NaN   \n",
       "6             19143.0               0.0            NaN               0.0   \n",
       "7             11634.0               0.0            NaN               0.0   \n",
       "8                 NaN               NaN            NaN               NaN   \n",
       "9             15008.0               0.0            NaN               0.0   \n",
       "\n",
       "   ponds_nearest  days_exposition  \n",
       "0          755.0              NaN  \n",
       "1            NaN             81.0  \n",
       "2          574.0            558.0  \n",
       "3          234.0            424.0  \n",
       "4           48.0            121.0  \n",
       "5            NaN             55.0  \n",
       "6            NaN            155.0  \n",
       "7            NaN              NaN  \n",
       "8            NaN            189.0  \n",
       "9            NaN            289.0  \n",
       "\n",
       "[10 rows x 22 columns]"
      ]
     },
     "metadata": {},
     "output_type": "display_data"
    },
    {
     "name": "stdout",
     "output_type": "stream",
     "text": [
      "<class 'pandas.core.frame.DataFrame'>\n",
      "RangeIndex: 23699 entries, 0 to 23698\n",
      "Data columns (total 22 columns):\n",
      " #   Column                Non-Null Count  Dtype  \n",
      "---  ------                --------------  -----  \n",
      " 0   total_images          23699 non-null  int64  \n",
      " 1   last_price            23699 non-null  float64\n",
      " 2   total_area            23699 non-null  float64\n",
      " 3   first_day_exposition  23699 non-null  object \n",
      " 4   rooms                 23699 non-null  int64  \n",
      " 5   ceiling_height        14504 non-null  float64\n",
      " 6   floors_total          23613 non-null  float64\n",
      " 7   living_area           21796 non-null  float64\n",
      " 8   floor                 23699 non-null  int64  \n",
      " 9   is_apartment          2775 non-null   object \n",
      " 10  studio                23699 non-null  bool   \n",
      " 11  open_plan             23699 non-null  bool   \n",
      " 12  kitchen_area          21421 non-null  float64\n",
      " 13  balcony               12180 non-null  float64\n",
      " 14  locality_name         23650 non-null  object \n",
      " 15  airports_nearest      18157 non-null  float64\n",
      " 16  cityCenters_nearest   18180 non-null  float64\n",
      " 17  parks_around3000      18181 non-null  float64\n",
      " 18  parks_nearest         8079 non-null   float64\n",
      " 19  ponds_around3000      18181 non-null  float64\n",
      " 20  ponds_nearest         9110 non-null   float64\n",
      " 21  days_exposition       20518 non-null  float64\n",
      "dtypes: bool(2), float64(14), int64(3), object(3)\n",
      "memory usage: 3.7+ MB\n"
     ]
    }
   ],
   "source": [
    "import pandas as pd\n",
    "try:\n",
    "    data = pd.read_csv('real_estate_data.csv', sep='\\t')\n",
    "except:\n",
    "    data = pd.read_csv('/datasets/real_estate_data.csv', sep='\\t')\n",
    "display(data.head(10))\n",
    "data.info()"
   ]
  },
  {
   "cell_type": "markdown",
   "metadata": {},
   "source": [
    "### Вывод"
   ]
  },
  {
   "cell_type": "markdown",
   "metadata": {},
   "source": [
    "Изучив данные в таблице, видно, что есть много пропусков, неявных дубликатов в названиях населенных пунктов, а так же тип данных не везде соответствует смыслу."
   ]
  },
  {
   "cell_type": "markdown",
   "metadata": {},
   "source": [
    "## Предобработка данных"
   ]
  },
  {
   "cell_type": "markdown",
   "metadata": {},
   "source": [
    "### Обработка дубликатов"
   ]
  },
  {
   "cell_type": "markdown",
   "metadata": {},
   "source": [
    "#### Проверка на явные дубликаты"
   ]
  },
  {
   "cell_type": "code",
   "execution_count": 2,
   "metadata": {},
   "outputs": [
    {
     "data": {
      "text/plain": [
       "0"
      ]
     },
     "metadata": {},
     "output_type": "display_data"
    }
   ],
   "source": [
    "display(data.duplicated().sum())"
   ]
  },
  {
   "cell_type": "markdown",
   "metadata": {},
   "source": [
    "#### Обработка столбца `locality_name`"
   ]
  },
  {
   "cell_type": "markdown",
   "metadata": {},
   "source": [
    "Создаю функцию `corr_names`, которая с помощью регулярных выражений возвращает строку только с названием населенного пункта. Обрабатываю столбец `locality_name` и сохраняю корректные наименования в отдельном столбце."
   ]
  },
  {
   "cell_type": "code",
   "execution_count": 3,
   "metadata": {},
   "outputs": [
    {
     "data": {
      "text/plain": [
       "array(['Санкт-Петербург', 'Шушары', 'Янино-1', 'Парголово', 'Мурино',\n",
       "       'Ломоносов', 'Сертолово', 'Петергоф', 'Пушкин', 'Кудрово',\n",
       "       'Коммунар', 'Колпино', 'Красный Бор', 'Гатчина', 'Фёдоровское',\n",
       "       'Выборг', 'Кронштадт', 'Кировск', 'Новое Девяткино',\n",
       "       'Металлострой', 'Лебяжье', 'Сиверский', 'Молодцово',\n",
       "       'Кузьмоловский', 'Новая Ропша', 'Павловск', 'Пикколово',\n",
       "       'Всеволожск', 'Волхов', 'Кингисепп', 'Приозерск', 'Сестрорецк',\n",
       "       'Куттузи', 'Аннино', 'Ефимовский', 'Плодовое', 'Заклинье',\n",
       "       'Торковичи', 'Первомайское', 'Красное Село', 'Понтонный',\n",
       "       'Сясьстрой', 'Старая', 'Лесколово', 'Новый Свет', 'Сланцы',\n",
       "       'Путилово', 'Ивангород', 'Шлиссельбург', 'Никольское',\n",
       "       'Зеленогорск', 'Сосновый Бор', 'Оржицы', 'Кальтино', 'Романовка',\n",
       "       'Бугры', 'Рощино', 'Кириши', 'Луга', 'Волосово', 'Отрадное',\n",
       "       'Павлово', 'Оредеж', 'Копорье', 'Молодёжное', 'Тихвин', 'Победа',\n",
       "       'Нурма', 'Синявино', 'Тосно', 'Стрельна', 'Бокситогорск',\n",
       "       'Александровская', 'Лопухинка', 'Пикалёво', 'Терволово',\n",
       "       'Советский', 'Подпорожье', 'Петровское', 'Токсово', 'Сельцо',\n",
       "       'Вырица', 'Кипень', 'Келози', 'Вартемяги', 'Тельмана',\n",
       "       'Севастьяново', 'Большая Ижора', nan, 'Агалатово', 'Новогорелово',\n",
       "       'Лесогорский', 'Лаголово', 'Цвелодубово', 'Рахья', 'Белогорка',\n",
       "       'Заводской', 'Новоселье', 'Большие Колпаны', 'Горбунки', 'Батово',\n",
       "       'Заневка', 'Иссад', 'Приморск', 'Мистолово', 'Новая Ладога',\n",
       "       'Зимитицы', 'Барышево', 'Разметелево', 'Свердлова', 'Пеники',\n",
       "       'Рябово', 'Пудомяги', 'Корнево', 'Низино', 'Бегуницы', 'Поляны',\n",
       "       'Мга', 'Елизаветино', 'Кузнечное', 'Колтуши', 'Запорожское',\n",
       "       'Гостилицы', 'Малое Карлино', 'Мичуринское', 'Морозова',\n",
       "       'Песочный', 'Сосново', 'Аро', 'Ильичёво', 'Тайцы', 'Малое Верево',\n",
       "       'Извара', 'Вещево', 'Паша', 'Калитино', 'Ульяновка', 'Чудской Бор',\n",
       "       'Дубровка', 'Мины', 'Войсковицы', 'Коркино', 'Ропша',\n",
       "       'Приладожский', 'Щеглово', 'Гаврилово', 'Лодейное Поле',\n",
       "       'Рабитицы', 'Никольский', 'Кузьмолово', 'Малые Колпаны',\n",
       "       'Петро-Славянка', 'Назия', 'Репино', 'Углово', 'Старая Малукса',\n",
       "       'Меньково', 'Старые Бегуницы', 'Сапёрный', 'Семрино', 'Глажево',\n",
       "       'Кобринское', 'Гарболово', 'Юкки', 'Приветнинское', 'Мануйлово',\n",
       "       'Пчева', 'Цвылёво', 'Мельниково', 'Пудость', 'Усть-Луга',\n",
       "       'Светогорск', 'Любань', 'Селезнёво', 'Каменногорск', 'Кривко',\n",
       "       'Глебычево', 'Парицы', 'Жил', 'Войскорово', 'Стеклянный', 'Важины',\n",
       "       'Мыза-Ивановка', 'Русско-Высоцкое', 'Форносово', 'Старая Ладога',\n",
       "       'Житково', 'Виллози', 'Лампово', 'Шпаньково', 'Лаврики', 'Сумино',\n",
       "       'Возрождение', 'Старосиверская', 'Кикерино', 'Старое Хинколово',\n",
       "       'Пригородный', 'Торфяное', 'Будогощь', 'Суходолье',\n",
       "       'Красная Долина', 'Хапо-Ое', 'Дружная Горка', 'Лисий Нос',\n",
       "       'Яльгелево', 'Рождествено', 'Старополье', 'Левашово', 'Сяськелево',\n",
       "       'Камышовка', 'Лесная Поляна', 'Хязельки', 'Жилгородок', 'Ялгино',\n",
       "       'Новый Учхоз', 'Гончарово', 'Почап', 'Сапёрное',\n",
       "       'Платформа 69-й километр', 'Каложицы', 'Фалилеево', 'Пельгора',\n",
       "       'Торошковичи', 'Белоостров', 'Алексеевка', 'Серебрянский',\n",
       "       'Лукаши', 'Тарасово', 'Кингисеппский', 'Ушаки', 'Котлы', 'Сижно',\n",
       "       'Торосово', 'Форт Красная Горка', 'Новолисино', 'Громово',\n",
       "       'Глинка', 'Старая Пустошь', 'Коммунары', 'Починок', 'Вознесенье',\n",
       "       'Разбегаево', 'Гладкое', 'Тёсово-4', 'Бор', 'Коробицыно',\n",
       "       'Большая Вруда', 'Курковицы', 'Кобралово', 'Суоранда',\n",
       "       'Кондратьево', 'Счастье', 'Реброво', 'Тойворово', 'Семиозерье',\n",
       "       'Лесное', 'Совхозный', 'Ленинское', 'Суйда', 'Нижние Осельки',\n",
       "       'Свирь', 'Перово', 'Высоцк', 'Шум', 'Котельский', 'Лужайка',\n",
       "       'Большая Пустомержа', 'Красносельское', 'Вахнова Кара', 'Пижма',\n",
       "       'Кивеннапа Север', 'Ромашки', 'Каськово', 'Куровицы', 'Плоское',\n",
       "       'Кирпичное', 'Ям-Тесово', 'Раздолье', 'Терпилицы', 'Шугозеро',\n",
       "       'Ваганово', 'Пушное', 'Садко', 'Усть-Ижора', 'Выскатка',\n",
       "       'Свирьстрой', 'Кисельня', 'Трубников Бор', 'Высокоключевой',\n",
       "       'Зелёный Бор', 'Ненимяки', 'Снегирёвка', 'Рапполово', 'Пустынка',\n",
       "       'Большой Сабск', 'Русско', 'Лупполово', 'Большое Рейзино',\n",
       "       'Малая Романовка', 'Дружноселье', 'Пчевжа', 'Володарское',\n",
       "       'Нижняя', 'Тихковицы', 'Борисова Грива', 'Дзержинского'],\n",
       "      dtype=object)"
      ]
     },
     "execution_count": 3,
     "metadata": {},
     "output_type": "execute_result"
    }
   ],
   "source": [
    "import re\n",
    "def corr_names(row):\n",
    "    names = ['поселок', \n",
    "        'посёлок', \n",
    "        'городской', \n",
    "        'деревня', \n",
    "        'городского типа',  \n",
    "        'садовое', 'товарищество', 'село', \n",
    "        'имени',  \n",
    "        'станции', \n",
    "        'садоводческое некоммерческое', \n",
    "        'при железнодорожной', 'коттеджный', 'Пансионат']\n",
    "    try:\n",
    "        for name in names:\n",
    "            row['locality_name'] = re.sub(name, '', row['locality_name'])\n",
    "        row['locality_name'] = re.sub(r'\\B\\W', '', row['locality_name'])\n",
    "        return row['locality_name']\n",
    "    except:\n",
    "        return row['locality_name']\n",
    "data['locality_name_corr'] = data.apply(corr_names, axis=1)\n",
    "data['locality_name_corr'].unique()"
   ]
  },
  {
   "cell_type": "markdown",
   "metadata": {},
   "source": [
    "### Заполнение пропусков и изменение типа данных"
   ]
  },
  {
   "cell_type": "markdown",
   "metadata": {},
   "source": [
    "#### Обработка столбца `locality_name_corr`"
   ]
  },
  {
   "cell_type": "code",
   "execution_count": 4,
   "metadata": {},
   "outputs": [
    {
     "data": {
      "text/plain": [
       "49"
      ]
     },
     "execution_count": 4,
     "metadata": {},
     "output_type": "execute_result"
    }
   ],
   "source": [
    "data['locality_name_corr'].isna().sum()"
   ]
  },
  {
   "cell_type": "markdown",
   "metadata": {},
   "source": [
    "Пропущенные значения могли возникнуть из-за человеческого фактора - продавец забыл указать населенный пункт или из-за технической ошибки - сбой при выгрузке данных. <br>\n",
    "Так как запросить корректные данные возможности нет, а для заполнения пропусков самостоятельно не хватает данных, мною принято решение удалить строки с недостающими значениями столбца `locality_name_corr`. "
   ]
  },
  {
   "cell_type": "code",
   "execution_count": 5,
   "metadata": {},
   "outputs": [
    {
     "data": {
      "text/plain": [
       "0"
      ]
     },
     "execution_count": 5,
     "metadata": {},
     "output_type": "execute_result"
    }
   ],
   "source": [
    "data = data.dropna(subset=['locality_name_corr'])\n",
    "data['locality_name_corr'].isna().sum()"
   ]
  },
  {
   "cell_type": "markdown",
   "metadata": {},
   "source": [
    "#### Обработка столбца `floors_total`"
   ]
  },
  {
   "cell_type": "markdown",
   "metadata": {},
   "source": [
    "Заполняю пропущенные значения в столбце `floors_total` медианой этажности зданий, сгруппированных относительно населенного пункта. <br>\n",
    "Удаляю строку с пропущенным значением, т.к. заполнить его не представляется возможным. <br>\n",
    "Меняю тип данных с `float64` на `int64`."
   ]
  },
  {
   "cell_type": "code",
   "execution_count": 6,
   "metadata": {},
   "outputs": [
    {
     "data": {
      "text/plain": [
       "85"
      ]
     },
     "metadata": {},
     "output_type": "display_data"
    },
    {
     "data": {
      "text/html": [
       "<div>\n",
       "<style scoped>\n",
       "    .dataframe tbody tr th:only-of-type {\n",
       "        vertical-align: middle;\n",
       "    }\n",
       "\n",
       "    .dataframe tbody tr th {\n",
       "        vertical-align: top;\n",
       "    }\n",
       "\n",
       "    .dataframe thead th {\n",
       "        text-align: right;\n",
       "    }\n",
       "</style>\n",
       "<table border=\"1\" class=\"dataframe\">\n",
       "  <thead>\n",
       "    <tr style=\"text-align: right;\">\n",
       "      <th></th>\n",
       "      <th>total_images</th>\n",
       "      <th>last_price</th>\n",
       "      <th>total_area</th>\n",
       "      <th>first_day_exposition</th>\n",
       "      <th>rooms</th>\n",
       "      <th>ceiling_height</th>\n",
       "      <th>floors_total</th>\n",
       "      <th>living_area</th>\n",
       "      <th>floor</th>\n",
       "      <th>is_apartment</th>\n",
       "      <th>...</th>\n",
       "      <th>balcony</th>\n",
       "      <th>locality_name</th>\n",
       "      <th>airports_nearest</th>\n",
       "      <th>cityCenters_nearest</th>\n",
       "      <th>parks_around3000</th>\n",
       "      <th>parks_nearest</th>\n",
       "      <th>ponds_around3000</th>\n",
       "      <th>ponds_nearest</th>\n",
       "      <th>days_exposition</th>\n",
       "      <th>locality_name_corr</th>\n",
       "    </tr>\n",
       "  </thead>\n",
       "  <tbody>\n",
       "  </tbody>\n",
       "</table>\n",
       "<p>0 rows × 23 columns</p>\n",
       "</div>"
      ],
      "text/plain": [
       "Empty DataFrame\n",
       "Columns: [total_images, last_price, total_area, first_day_exposition, rooms, ceiling_height, floors_total, living_area, floor, is_apartment, studio, open_plan, kitchen_area, balcony, locality_name, airports_nearest, cityCenters_nearest, parks_around3000, parks_nearest, ponds_around3000, ponds_nearest, days_exposition, locality_name_corr]\n",
       "Index: []\n",
       "\n",
       "[0 rows x 23 columns]"
      ]
     },
     "metadata": {},
     "output_type": "display_data"
    }
   ],
   "source": [
    "display(data['floors_total'].isna().sum())\n",
    "data['floors_total'] = data['floors_total'].fillna(data.groupby('locality_name_corr')['floors_total'].transform('median'))\n",
    "display(data[data['floors_total'].isna() == True])\n",
    "data = data.dropna(subset=['floors_total'])\n",
    "data['floors_total'] = round(data['floors_total']).astype('int64')"
   ]
  },
  {
   "cell_type": "markdown",
   "metadata": {},
   "source": [
    "#### Обработка столбца `ceiling_height`"
   ]
  },
  {
   "cell_type": "markdown",
   "metadata": {},
   "source": [
    "Заполняю пропуски медианной высотой потолков, сгрупированных относительно этажности зданий. Огругляю весь столбец до двух знаков после запятой."
   ]
  },
  {
   "cell_type": "code",
   "execution_count": 7,
   "metadata": {},
   "outputs": [
    {
     "data": {
      "text/plain": [
       "9160"
      ]
     },
     "metadata": {},
     "output_type": "display_data"
    }
   ],
   "source": [
    "display(data['ceiling_height'].isna().sum())\n",
    "data['ceiling_height'] = (data['ceiling_height']\n",
    "    .fillna(data.groupby('floors_total')['ceiling_height']\n",
    "    .transform('median'))\n",
    "    .round(2))\n",
    "data = data.dropna(subset=['ceiling_height'])"
   ]
  },
  {
   "cell_type": "markdown",
   "metadata": {},
   "source": [
    "#### Обработка столбца `is_apartment`"
   ]
  },
  {
   "cell_type": "markdown",
   "metadata": {},
   "source": [
    "Предположив, что пропуски в данном столбце появились из-за того, что продавец его не заполнил, т.к. квартира не является апартаментами, решаю заполнить пропуски значением `False`. \n",
    "Так как в описании к данным сказано, что столбец должен иметь тип `bool`, меняю тип на соответствующий."
   ]
  },
  {
   "cell_type": "code",
   "execution_count": 8,
   "metadata": {},
   "outputs": [
    {
     "data": {
      "text/plain": [
       "20890"
      ]
     },
     "metadata": {},
     "output_type": "display_data"
    }
   ],
   "source": [
    "display(data['is_apartment'].isna().sum())\n",
    "data['is_apartment'] = data['is_apartment'].fillna(False)\n",
    "data['is_apartment'] = data['is_apartment'].astype('bool')"
   ]
  },
  {
   "cell_type": "markdown",
   "metadata": {},
   "source": [
    "#### Обработка столбца `balcony`"
   ]
  },
  {
   "cell_type": "markdown",
   "metadata": {},
   "source": [
    "Предполагаю, что пропуски в данном столбце возникли из-за отсутствия балкона в указанной квартире, соответственно меняю пропущенные значения на 0, так же меняю тип данных на `int64`."
   ]
  },
  {
   "cell_type": "code",
   "execution_count": 9,
   "metadata": {},
   "outputs": [
    {
     "data": {
      "text/plain": [
       "array([nan,  2.,  0.,  1.,  5.,  4.,  3.])"
      ]
     },
     "metadata": {},
     "output_type": "display_data"
    }
   ],
   "source": [
    "display(data['balcony'].unique())\n",
    "data['balcony'] = data['balcony'].fillna(0)\n",
    "data['balcony'] = data['balcony'].astype('int64')"
   ]
  },
  {
   "cell_type": "markdown",
   "metadata": {},
   "source": [
    "#### Обработка столбца `first_day_exposition`"
   ]
  },
  {
   "cell_type": "markdown",
   "metadata": {},
   "source": [
    "Перевожу значения столбца `first_day_exposition` в тип `datetime` для последующей обработки и анализа."
   ]
  },
  {
   "cell_type": "code",
   "execution_count": 10,
   "metadata": {},
   "outputs": [],
   "source": [
    "data['first_day_exposition'] = pd.to_datetime(data['first_day_exposition'], format='%Y-%m-%dT%H:%M:%S')"
   ]
  },
  {
   "cell_type": "markdown",
   "metadata": {},
   "source": [
    "#### Обработка столбца `days_exposition`"
   ]
  },
  {
   "cell_type": "code",
   "execution_count": 11,
   "metadata": {},
   "outputs": [
    {
     "data": {
      "text/plain": [
       "3180"
      ]
     },
     "metadata": {},
     "output_type": "display_data"
    },
    {
     "data": {
      "text/plain": [
       "array([  nan,   81.,  558., ..., 1360., 1007.,  971.])"
      ]
     },
     "metadata": {},
     "output_type": "display_data"
    }
   ],
   "source": [
    "display(data['days_exposition'].isna().sum())\n",
    "display(data['days_exposition'].unique())\n",
    "data['days_exposition'] = (data['days_exposition']\n",
    "                           .fillna(data.groupby('locality_name_corr')['days_exposition']\n",
    "                           .transform('median'))\n",
    "                           )\n",
    "data = data.dropna(subset=['days_exposition'])\n",
    "data['days_exposition'] = data['days_exposition'].astype('int64')"
   ]
  },
  {
   "cell_type": "markdown",
   "metadata": {},
   "source": [
    "#### Изменение типа данных"
   ]
  },
  {
   "cell_type": "markdown",
   "metadata": {},
   "source": [
    "С помощью функции `type_column` прогоняю оставшиеся столбцы, где по логике тип данных должен быть целочисленным, перезаписываю результаты."
   ]
  },
  {
   "cell_type": "code",
   "execution_count": 12,
   "metadata": {},
   "outputs": [],
   "source": [
    "def type_column(column):\n",
    "        data[column] = data[column].round().astype('Int64')\n",
    "        return data[column]\n",
    "columns = [\n",
    "    'parks_around3000',\n",
    "    'ponds_around3000',\n",
    "    'last_price'\n",
    "]\n",
    "data[columns] = type_column(columns)"
   ]
  },
  {
   "cell_type": "markdown",
   "metadata": {},
   "source": [
    "С помощью функции `metr_to_km` перевожу расстояния из метров в километры и перезаписываю результаты."
   ]
  },
  {
   "cell_type": "code",
   "execution_count": 13,
   "metadata": {},
   "outputs": [],
   "source": [
    "def metr_to_km(column):\n",
    "    data[column] = data[column].div(1000)\n",
    "    return data[column]\n",
    "columns = [\n",
    "    'airports_nearest',\n",
    "    'cityCenters_nearest',\n",
    "    'parks_nearest',\n",
    "    'ponds_nearest'\n",
    "]\n",
    "data[columns] = metr_to_km(columns)\n",
    "data = data.rename(\n",
    "    columns={\n",
    "    'airports_nearest': 'airports_nearest_km',\n",
    "    'cityCenters_nearest': 'cityCenters_nearest_km',\n",
    "    'parks_nearest': 'parks_nearest_km',\n",
    "    'ponds_nearest': 'ponds_nearest_km'\n",
    "})"
   ]
  },
  {
   "cell_type": "markdown",
   "metadata": {},
   "source": [
    "#### Обработка столбца `living_area`"
   ]
  },
  {
   "cell_type": "markdown",
   "metadata": {},
   "source": [
    "С помощью функции `cf_living_area` рассчитываю долю, которую занимает жилая площадь от общей, сохраняю результат в новом столбце `cf_living_%`.<br>\n",
    "Заполняю пропуски в столбце `living_area` медианным коэфициентом жилой площади, сгруппированным относительно общей площади, умноженным на общую площадь."
   ]
  },
  {
   "cell_type": "code",
   "execution_count": 14,
   "metadata": {},
   "outputs": [
    {
     "data": {
      "text/plain": [
       "1896"
      ]
     },
     "metadata": {},
     "output_type": "display_data"
    },
    {
     "data": {
      "text/plain": [
       "143"
      ]
     },
     "execution_count": 14,
     "metadata": {},
     "output_type": "execute_result"
    }
   ],
   "source": [
    "display(data['living_area'].isna().sum())\n",
    "def cf_living_area(row):\n",
    "    cf = round((row['living_area'] / row['total_area']*100), 2)\n",
    "    return cf\n",
    "data['cf_living_%'] = data.apply(cf_living_area, axis=1)\n",
    "data['living_area'] = round((data['living_area']\n",
    "                        .fillna((data.groupby('total_area')['cf_living_%']\n",
    "                        .transform('median')) \n",
    "                        / 100 * data['total_area'])\n",
    "                      ), 2)\n",
    "data['cf_living_%'] = data.apply(cf_living_area, axis=1)\n",
    "data['living_area'].isna().sum()"
   ]
  },
  {
   "cell_type": "markdown",
   "metadata": {},
   "source": [
    "#### Обработка столбца `kitchen_area`"
   ]
  },
  {
   "cell_type": "markdown",
   "metadata": {},
   "source": [
    "С помощью функции `cf_kitchen_area` рассчитываю долю, которую занимает кухня от общей площади, сохраняю результат в новом столбце `cf_kitchen_%`. <br>\n",
    "Заполняю пропуски в столбце `kitchen_area` медианным коэфициентом площади кухни, сгруппированным относительно общей площади, умноженным на общую площадь."
   ]
  },
  {
   "cell_type": "code",
   "execution_count": 15,
   "metadata": {},
   "outputs": [
    {
     "data": {
      "text/plain": [
       "2268"
      ]
     },
     "metadata": {},
     "output_type": "display_data"
    },
    {
     "data": {
      "text/plain": [
       "205"
      ]
     },
     "execution_count": 15,
     "metadata": {},
     "output_type": "execute_result"
    }
   ],
   "source": [
    "display(data['kitchen_area'].isna().sum())\n",
    "def cf_kitchen_area(row):\n",
    "    cf = round((row['kitchen_area'] / row['total_area']*100), 2)\n",
    "    return cf\n",
    "data['cf_kitchen_%'] = data.apply(cf_kitchen_area, axis=1)\n",
    "data['kitchen_area'] = round((data['kitchen_area']\n",
    "                        .fillna((data.groupby('total_area')['cf_kitchen_%']\n",
    "                        .transform('median')) \n",
    "                        / 100 * data['total_area'])\n",
    "                       ), 2)\n",
    "data['cf_kitchen_%'] = data.apply(cf_kitchen_area, axis=1)\n",
    "data['kitchen_area'].isna().sum()"
   ]
  },
  {
   "cell_type": "markdown",
   "metadata": {},
   "source": [
    "#### Обработка столбца `last_price`"
   ]
  },
  {
   "cell_type": "markdown",
   "metadata": {},
   "source": [
    "Для дальнейшего удобства отображения и анализа, перевожу тип данных из `float64` в `int64`."
   ]
  },
  {
   "cell_type": "code",
   "execution_count": 16,
   "metadata": {},
   "outputs": [],
   "source": [
    "data['last_price'] = data['last_price'].round().astype('int64')"
   ]
  },
  {
   "cell_type": "markdown",
   "metadata": {},
   "source": [
    "### Проверка итоговой таблицы"
   ]
  },
  {
   "cell_type": "code",
   "execution_count": 17,
   "metadata": {},
   "outputs": [
    {
     "name": "stdout",
     "output_type": "stream",
     "text": [
      "<class 'pandas.core.frame.DataFrame'>\n",
      "Int64Index: 23617 entries, 0 to 23698\n",
      "Data columns (total 25 columns):\n",
      " #   Column                  Non-Null Count  Dtype         \n",
      "---  ------                  --------------  -----         \n",
      " 0   total_images            23617 non-null  int64         \n",
      " 1   last_price              23617 non-null  int64         \n",
      " 2   total_area              23617 non-null  float64       \n",
      " 3   first_day_exposition    23617 non-null  datetime64[ns]\n",
      " 4   rooms                   23617 non-null  int64         \n",
      " 5   ceiling_height          23617 non-null  float64       \n",
      " 6   floors_total            23617 non-null  int64         \n",
      " 7   living_area             23474 non-null  float64       \n",
      " 8   floor                   23617 non-null  int64         \n",
      " 9   is_apartment            23617 non-null  bool          \n",
      " 10  studio                  23617 non-null  bool          \n",
      " 11  open_plan               23617 non-null  bool          \n",
      " 12  kitchen_area            23412 non-null  float64       \n",
      " 13  balcony                 23617 non-null  int64         \n",
      " 14  locality_name           23617 non-null  object        \n",
      " 15  airports_nearest_km     18115 non-null  float64       \n",
      " 16  cityCenters_nearest_km  18138 non-null  float64       \n",
      " 17  parks_around3000        18139 non-null  Int64         \n",
      " 18  parks_nearest_km        8064 non-null   float64       \n",
      " 19  ponds_around3000        18139 non-null  Int64         \n",
      " 20  ponds_nearest_km        9084 non-null   float64       \n",
      " 21  days_exposition         23617 non-null  int64         \n",
      " 22  locality_name_corr      23617 non-null  object        \n",
      " 23  cf_living_%             23474 non-null  float64       \n",
      " 24  cf_kitchen_%            23412 non-null  float64       \n",
      "dtypes: Int64(2), bool(3), datetime64[ns](1), float64(10), int64(7), object(2)\n",
      "memory usage: 4.3+ MB\n"
     ]
    }
   ],
   "source": [
    "data.info()"
   ]
  },
  {
   "cell_type": "code",
   "execution_count": 18,
   "metadata": {},
   "outputs": [
    {
     "data": {
      "text/html": [
       "<div>\n",
       "<style scoped>\n",
       "    .dataframe tbody tr th:only-of-type {\n",
       "        vertical-align: middle;\n",
       "    }\n",
       "\n",
       "    .dataframe tbody tr th {\n",
       "        vertical-align: top;\n",
       "    }\n",
       "\n",
       "    .dataframe thead th {\n",
       "        text-align: right;\n",
       "    }\n",
       "</style>\n",
       "<table border=\"1\" class=\"dataframe\">\n",
       "  <thead>\n",
       "    <tr style=\"text-align: right;\">\n",
       "      <th></th>\n",
       "      <th>total_images</th>\n",
       "      <th>last_price</th>\n",
       "      <th>total_area</th>\n",
       "      <th>first_day_exposition</th>\n",
       "      <th>rooms</th>\n",
       "      <th>ceiling_height</th>\n",
       "      <th>floors_total</th>\n",
       "      <th>living_area</th>\n",
       "      <th>floor</th>\n",
       "      <th>is_apartment</th>\n",
       "      <th>...</th>\n",
       "      <th>airports_nearest_km</th>\n",
       "      <th>cityCenters_nearest_km</th>\n",
       "      <th>parks_around3000</th>\n",
       "      <th>parks_nearest_km</th>\n",
       "      <th>ponds_around3000</th>\n",
       "      <th>ponds_nearest_km</th>\n",
       "      <th>days_exposition</th>\n",
       "      <th>locality_name_corr</th>\n",
       "      <th>cf_living_%</th>\n",
       "      <th>cf_kitchen_%</th>\n",
       "    </tr>\n",
       "  </thead>\n",
       "  <tbody>\n",
       "    <tr>\n",
       "      <th>0</th>\n",
       "      <td>20</td>\n",
       "      <td>13000000</td>\n",
       "      <td>108.0</td>\n",
       "      <td>2019-03-07</td>\n",
       "      <td>3</td>\n",
       "      <td>2.70</td>\n",
       "      <td>16</td>\n",
       "      <td>51.0</td>\n",
       "      <td>8</td>\n",
       "      <td>False</td>\n",
       "      <td>...</td>\n",
       "      <td>18.863</td>\n",
       "      <td>16.028</td>\n",
       "      <td>1</td>\n",
       "      <td>0.482</td>\n",
       "      <td>2</td>\n",
       "      <td>0.755</td>\n",
       "      <td>95</td>\n",
       "      <td>Санкт-Петербург</td>\n",
       "      <td>47.22</td>\n",
       "      <td>23.15</td>\n",
       "    </tr>\n",
       "    <tr>\n",
       "      <th>1</th>\n",
       "      <td>7</td>\n",
       "      <td>3350000</td>\n",
       "      <td>40.4</td>\n",
       "      <td>2018-12-04</td>\n",
       "      <td>1</td>\n",
       "      <td>2.75</td>\n",
       "      <td>11</td>\n",
       "      <td>18.6</td>\n",
       "      <td>1</td>\n",
       "      <td>False</td>\n",
       "      <td>...</td>\n",
       "      <td>12.817</td>\n",
       "      <td>18.603</td>\n",
       "      <td>0</td>\n",
       "      <td>NaN</td>\n",
       "      <td>0</td>\n",
       "      <td>NaN</td>\n",
       "      <td>81</td>\n",
       "      <td>Шушары</td>\n",
       "      <td>46.04</td>\n",
       "      <td>27.23</td>\n",
       "    </tr>\n",
       "    <tr>\n",
       "      <th>2</th>\n",
       "      <td>10</td>\n",
       "      <td>5196000</td>\n",
       "      <td>56.0</td>\n",
       "      <td>2015-08-20</td>\n",
       "      <td>2</td>\n",
       "      <td>2.55</td>\n",
       "      <td>5</td>\n",
       "      <td>34.3</td>\n",
       "      <td>4</td>\n",
       "      <td>False</td>\n",
       "      <td>...</td>\n",
       "      <td>21.741</td>\n",
       "      <td>13.933</td>\n",
       "      <td>1</td>\n",
       "      <td>0.090</td>\n",
       "      <td>2</td>\n",
       "      <td>0.574</td>\n",
       "      <td>558</td>\n",
       "      <td>Санкт-Петербург</td>\n",
       "      <td>61.25</td>\n",
       "      <td>14.82</td>\n",
       "    </tr>\n",
       "    <tr>\n",
       "      <th>3</th>\n",
       "      <td>0</td>\n",
       "      <td>64900000</td>\n",
       "      <td>159.0</td>\n",
       "      <td>2015-07-24</td>\n",
       "      <td>3</td>\n",
       "      <td>2.60</td>\n",
       "      <td>14</td>\n",
       "      <td>95.0</td>\n",
       "      <td>9</td>\n",
       "      <td>False</td>\n",
       "      <td>...</td>\n",
       "      <td>28.098</td>\n",
       "      <td>6.800</td>\n",
       "      <td>2</td>\n",
       "      <td>0.084</td>\n",
       "      <td>3</td>\n",
       "      <td>0.234</td>\n",
       "      <td>424</td>\n",
       "      <td>Санкт-Петербург</td>\n",
       "      <td>59.75</td>\n",
       "      <td>9.43</td>\n",
       "    </tr>\n",
       "    <tr>\n",
       "      <th>4</th>\n",
       "      <td>2</td>\n",
       "      <td>10000000</td>\n",
       "      <td>100.0</td>\n",
       "      <td>2018-06-19</td>\n",
       "      <td>2</td>\n",
       "      <td>3.03</td>\n",
       "      <td>14</td>\n",
       "      <td>32.0</td>\n",
       "      <td>13</td>\n",
       "      <td>False</td>\n",
       "      <td>...</td>\n",
       "      <td>31.856</td>\n",
       "      <td>8.098</td>\n",
       "      <td>2</td>\n",
       "      <td>0.112</td>\n",
       "      <td>1</td>\n",
       "      <td>0.048</td>\n",
       "      <td>121</td>\n",
       "      <td>Санкт-Петербург</td>\n",
       "      <td>32.00</td>\n",
       "      <td>41.00</td>\n",
       "    </tr>\n",
       "  </tbody>\n",
       "</table>\n",
       "<p>5 rows × 25 columns</p>\n",
       "</div>"
      ],
      "text/plain": [
       "   total_images  last_price  total_area first_day_exposition  rooms  \\\n",
       "0            20    13000000       108.0           2019-03-07      3   \n",
       "1             7     3350000        40.4           2018-12-04      1   \n",
       "2            10     5196000        56.0           2015-08-20      2   \n",
       "3             0    64900000       159.0           2015-07-24      3   \n",
       "4             2    10000000       100.0           2018-06-19      2   \n",
       "\n",
       "   ceiling_height  floors_total  living_area  floor  is_apartment  ...  \\\n",
       "0            2.70            16         51.0      8         False  ...   \n",
       "1            2.75            11         18.6      1         False  ...   \n",
       "2            2.55             5         34.3      4         False  ...   \n",
       "3            2.60            14         95.0      9         False  ...   \n",
       "4            3.03            14         32.0     13         False  ...   \n",
       "\n",
       "   airports_nearest_km  cityCenters_nearest_km  parks_around3000  \\\n",
       "0               18.863                  16.028                 1   \n",
       "1               12.817                  18.603                 0   \n",
       "2               21.741                  13.933                 1   \n",
       "3               28.098                   6.800                 2   \n",
       "4               31.856                   8.098                 2   \n",
       "\n",
       "   parks_nearest_km ponds_around3000  ponds_nearest_km  days_exposition  \\\n",
       "0             0.482                2             0.755               95   \n",
       "1               NaN                0               NaN               81   \n",
       "2             0.090                2             0.574              558   \n",
       "3             0.084                3             0.234              424   \n",
       "4             0.112                1             0.048              121   \n",
       "\n",
       "   locality_name_corr  cf_living_%  cf_kitchen_%  \n",
       "0     Санкт-Петербург        47.22         23.15  \n",
       "1              Шушары        46.04         27.23  \n",
       "2     Санкт-Петербург        61.25         14.82  \n",
       "3     Санкт-Петербург        59.75          9.43  \n",
       "4     Санкт-Петербург        32.00         41.00  \n",
       "\n",
       "[5 rows x 25 columns]"
      ]
     },
     "execution_count": 18,
     "metadata": {},
     "output_type": "execute_result"
    }
   ],
   "source": [
    "data.head()"
   ]
  },
  {
   "cell_type": "markdown",
   "metadata": {},
   "source": [
    "### Вывод"
   ]
  },
  {
   "cell_type": "markdown",
   "metadata": {},
   "source": [
    "Выполнив предобработку данных, мы , насколько это возможно, избавились от пропущенных значений, а так же привели данные к \"корректным\" типам. <br>\n",
    "В результате предобработки из изначального DataFrame (**23699 строк**) я удалила *82 строки* (**0,3 %**)."
   ]
  },
  {
   "cell_type": "markdown",
   "metadata": {},
   "source": [
    "## Расчёты и добавление результатов в таблицу"
   ]
  },
  {
   "cell_type": "markdown",
   "metadata": {},
   "source": [
    "### Рассчет и добавление стоимости 1$м^2$"
   ]
  },
  {
   "cell_type": "markdown",
   "metadata": {},
   "source": [
    "С помощью функции `price_for_metr` рассчитываю стоимость одного $м^2$, полученные результаты сохраняю в новом столбце `price_for_metr`."
   ]
  },
  {
   "cell_type": "code",
   "execution_count": 19,
   "metadata": {},
   "outputs": [],
   "source": [
    "def price_for_metr(row):\n",
    "    price = round((row['last_price'] / row['total_area']), 2)\n",
    "    return price\n",
    "data['price_for_metr'] = data.apply(price_for_metr, axis=1)"
   ]
  },
  {
   "cell_type": "markdown",
   "metadata": {},
   "source": [
    "### Выделение дня недели, месяца и года публикации объявления"
   ]
  },
  {
   "cell_type": "markdown",
   "metadata": {},
   "source": [
    "С помощью методов `dt` и `DatetimeIndex` выделяю в отдельные столбцы (`day_of_week`, `month_exposition`, `year_exposition`) дни недели, месяцы и года публикации объявлений."
   ]
  },
  {
   "cell_type": "code",
   "execution_count": 20,
   "metadata": {},
   "outputs": [],
   "source": [
    "data['day_of_week'] = data['first_day_exposition'].dt.weekday\n",
    "data['month_exposition'] = pd.DatetimeIndex(data['first_day_exposition']).month\n",
    "data['year_exposition'] = pd.DatetimeIndex(data['first_day_exposition']).year"
   ]
  },
  {
   "cell_type": "markdown",
   "metadata": {},
   "source": [
    "### Категоризация этажей"
   ]
  },
  {
   "cell_type": "markdown",
   "metadata": {},
   "source": [
    "С помощью функции `floor_category` обрабатываю столбец `floor`, результаты сохраняю в новом столбце `floor_category`."
   ]
  },
  {
   "cell_type": "code",
   "execution_count": 21,
   "metadata": {},
   "outputs": [],
   "source": [
    "def floor_category(row):\n",
    "    try:\n",
    "        if row['floor'] == 1:\n",
    "            return 'первый'\n",
    "        if row['floor'] == row['floors_total']:\n",
    "            return 'последний'\n",
    "        else:\n",
    "            return 'другой'\n",
    "    except:\n",
    "        return 'другой'\n",
    "data['floor_category'] = data.apply(floor_category, axis=1)"
   ]
  },
  {
   "cell_type": "code",
   "execution_count": 22,
   "metadata": {},
   "outputs": [
    {
     "data": {
      "text/html": [
       "<div>\n",
       "<style scoped>\n",
       "    .dataframe tbody tr th:only-of-type {\n",
       "        vertical-align: middle;\n",
       "    }\n",
       "\n",
       "    .dataframe tbody tr th {\n",
       "        vertical-align: top;\n",
       "    }\n",
       "\n",
       "    .dataframe thead th {\n",
       "        text-align: right;\n",
       "    }\n",
       "</style>\n",
       "<table border=\"1\" class=\"dataframe\">\n",
       "  <thead>\n",
       "    <tr style=\"text-align: right;\">\n",
       "      <th></th>\n",
       "      <th>total_images</th>\n",
       "      <th>last_price</th>\n",
       "      <th>total_area</th>\n",
       "      <th>first_day_exposition</th>\n",
       "      <th>rooms</th>\n",
       "      <th>ceiling_height</th>\n",
       "      <th>floors_total</th>\n",
       "      <th>living_area</th>\n",
       "      <th>floor</th>\n",
       "      <th>is_apartment</th>\n",
       "      <th>...</th>\n",
       "      <th>ponds_nearest_km</th>\n",
       "      <th>days_exposition</th>\n",
       "      <th>locality_name_corr</th>\n",
       "      <th>cf_living_%</th>\n",
       "      <th>cf_kitchen_%</th>\n",
       "      <th>price_for_metr</th>\n",
       "      <th>day_of_week</th>\n",
       "      <th>month_exposition</th>\n",
       "      <th>year_exposition</th>\n",
       "      <th>floor_category</th>\n",
       "    </tr>\n",
       "  </thead>\n",
       "  <tbody>\n",
       "    <tr>\n",
       "      <th>0</th>\n",
       "      <td>20</td>\n",
       "      <td>13000000</td>\n",
       "      <td>108.0</td>\n",
       "      <td>2019-03-07</td>\n",
       "      <td>3</td>\n",
       "      <td>2.70</td>\n",
       "      <td>16</td>\n",
       "      <td>51.0</td>\n",
       "      <td>8</td>\n",
       "      <td>False</td>\n",
       "      <td>...</td>\n",
       "      <td>0.755</td>\n",
       "      <td>95</td>\n",
       "      <td>Санкт-Петербург</td>\n",
       "      <td>47.22</td>\n",
       "      <td>23.15</td>\n",
       "      <td>120370.37</td>\n",
       "      <td>3</td>\n",
       "      <td>3</td>\n",
       "      <td>2019</td>\n",
       "      <td>другой</td>\n",
       "    </tr>\n",
       "    <tr>\n",
       "      <th>1</th>\n",
       "      <td>7</td>\n",
       "      <td>3350000</td>\n",
       "      <td>40.4</td>\n",
       "      <td>2018-12-04</td>\n",
       "      <td>1</td>\n",
       "      <td>2.75</td>\n",
       "      <td>11</td>\n",
       "      <td>18.6</td>\n",
       "      <td>1</td>\n",
       "      <td>False</td>\n",
       "      <td>...</td>\n",
       "      <td>NaN</td>\n",
       "      <td>81</td>\n",
       "      <td>Шушары</td>\n",
       "      <td>46.04</td>\n",
       "      <td>27.23</td>\n",
       "      <td>82920.79</td>\n",
       "      <td>1</td>\n",
       "      <td>12</td>\n",
       "      <td>2018</td>\n",
       "      <td>первый</td>\n",
       "    </tr>\n",
       "    <tr>\n",
       "      <th>2</th>\n",
       "      <td>10</td>\n",
       "      <td>5196000</td>\n",
       "      <td>56.0</td>\n",
       "      <td>2015-08-20</td>\n",
       "      <td>2</td>\n",
       "      <td>2.55</td>\n",
       "      <td>5</td>\n",
       "      <td>34.3</td>\n",
       "      <td>4</td>\n",
       "      <td>False</td>\n",
       "      <td>...</td>\n",
       "      <td>0.574</td>\n",
       "      <td>558</td>\n",
       "      <td>Санкт-Петербург</td>\n",
       "      <td>61.25</td>\n",
       "      <td>14.82</td>\n",
       "      <td>92785.71</td>\n",
       "      <td>3</td>\n",
       "      <td>8</td>\n",
       "      <td>2015</td>\n",
       "      <td>другой</td>\n",
       "    </tr>\n",
       "    <tr>\n",
       "      <th>3</th>\n",
       "      <td>0</td>\n",
       "      <td>64900000</td>\n",
       "      <td>159.0</td>\n",
       "      <td>2015-07-24</td>\n",
       "      <td>3</td>\n",
       "      <td>2.60</td>\n",
       "      <td>14</td>\n",
       "      <td>95.0</td>\n",
       "      <td>9</td>\n",
       "      <td>False</td>\n",
       "      <td>...</td>\n",
       "      <td>0.234</td>\n",
       "      <td>424</td>\n",
       "      <td>Санкт-Петербург</td>\n",
       "      <td>59.75</td>\n",
       "      <td>9.43</td>\n",
       "      <td>408176.10</td>\n",
       "      <td>4</td>\n",
       "      <td>7</td>\n",
       "      <td>2015</td>\n",
       "      <td>другой</td>\n",
       "    </tr>\n",
       "    <tr>\n",
       "      <th>4</th>\n",
       "      <td>2</td>\n",
       "      <td>10000000</td>\n",
       "      <td>100.0</td>\n",
       "      <td>2018-06-19</td>\n",
       "      <td>2</td>\n",
       "      <td>3.03</td>\n",
       "      <td>14</td>\n",
       "      <td>32.0</td>\n",
       "      <td>13</td>\n",
       "      <td>False</td>\n",
       "      <td>...</td>\n",
       "      <td>0.048</td>\n",
       "      <td>121</td>\n",
       "      <td>Санкт-Петербург</td>\n",
       "      <td>32.00</td>\n",
       "      <td>41.00</td>\n",
       "      <td>100000.00</td>\n",
       "      <td>1</td>\n",
       "      <td>6</td>\n",
       "      <td>2018</td>\n",
       "      <td>другой</td>\n",
       "    </tr>\n",
       "  </tbody>\n",
       "</table>\n",
       "<p>5 rows × 30 columns</p>\n",
       "</div>"
      ],
      "text/plain": [
       "   total_images  last_price  total_area first_day_exposition  rooms  \\\n",
       "0            20    13000000       108.0           2019-03-07      3   \n",
       "1             7     3350000        40.4           2018-12-04      1   \n",
       "2            10     5196000        56.0           2015-08-20      2   \n",
       "3             0    64900000       159.0           2015-07-24      3   \n",
       "4             2    10000000       100.0           2018-06-19      2   \n",
       "\n",
       "   ceiling_height  floors_total  living_area  floor  is_apartment  ...  \\\n",
       "0            2.70            16         51.0      8         False  ...   \n",
       "1            2.75            11         18.6      1         False  ...   \n",
       "2            2.55             5         34.3      4         False  ...   \n",
       "3            2.60            14         95.0      9         False  ...   \n",
       "4            3.03            14         32.0     13         False  ...   \n",
       "\n",
       "   ponds_nearest_km  days_exposition  locality_name_corr  cf_living_%  \\\n",
       "0             0.755               95     Санкт-Петербург        47.22   \n",
       "1               NaN               81              Шушары        46.04   \n",
       "2             0.574              558     Санкт-Петербург        61.25   \n",
       "3             0.234              424     Санкт-Петербург        59.75   \n",
       "4             0.048              121     Санкт-Петербург        32.00   \n",
       "\n",
       "  cf_kitchen_%  price_for_metr  day_of_week  month_exposition  \\\n",
       "0        23.15       120370.37            3                 3   \n",
       "1        27.23        82920.79            1                12   \n",
       "2        14.82        92785.71            3                 8   \n",
       "3         9.43       408176.10            4                 7   \n",
       "4        41.00       100000.00            1                 6   \n",
       "\n",
       "   year_exposition  floor_category  \n",
       "0             2019          другой  \n",
       "1             2018          первый  \n",
       "2             2015          другой  \n",
       "3             2015          другой  \n",
       "4             2018          другой  \n",
       "\n",
       "[5 rows x 30 columns]"
      ]
     },
     "execution_count": 22,
     "metadata": {},
     "output_type": "execute_result"
    }
   ],
   "source": [
    "data.head()"
   ]
  },
  {
   "cell_type": "markdown",
   "metadata": {},
   "source": [
    "## Исследовательский анализ данных"
   ]
  },
  {
   "cell_type": "markdown",
   "metadata": {},
   "source": [
    "Для построения графиков импортирую библиотеку `matplotlib`."
   ]
  },
  {
   "cell_type": "code",
   "execution_count": 23,
   "metadata": {},
   "outputs": [],
   "source": [
    "import matplotlib.pyplot as plt\n",
    "import seaborn as sns"
   ]
  },
  {
   "cell_type": "markdown",
   "metadata": {},
   "source": [
    "### Изучение параметров: площадь, цена, число комнат и высота потолков"
   ]
  },
  {
   "cell_type": "markdown",
   "metadata": {},
   "source": [
    "С помощью метода `describe()` узнаем интересующие нас параметры данных, а именно среднее, медиану, первый и третий квартили. <br>\n",
    "Далее с помощью методов `hist()` и `boxplot()` получаем гистограмму и \"ящик с усами\" соответственно. <br>\n",
    "Для удобства использую функцию `graf` для автоматизации построения графиков по интересующим нас параметрам."
   ]
  },
  {
   "cell_type": "code",
   "execution_count": 24,
   "metadata": {},
   "outputs": [],
   "source": [
    "def graf(data, column, binslim, rangelim):\n",
    "    display(data[column].describe())\n",
    "    \n",
    "    data.hist(column, bins=binslim, range=rangelim, figsize=(9,9))\n",
    "    plt.xlabel(column)\n",
    "    plt.ylabel('count')\n",
    "    print('Гистограмма', end='\\n\\n')\n",
    "    plt.show()\n",
    "    \n",
    "    plt.boxplot(data[column])\n",
    "    plt.xlabel(column)\n",
    "    plt.ylim(rangelim)\n",
    "    plt.ylabel('count')\n",
    "    print('\"Ящик с усами\"', end='\\n\\n')\n",
    "    plt.show()"
   ]
  },
  {
   "cell_type": "markdown",
   "metadata": {},
   "source": [
    "#### Исследование параметра общая площадь"
   ]
  },
  {
   "cell_type": "code",
   "execution_count": 25,
   "metadata": {},
   "outputs": [
    {
     "data": {
      "text/plain": [
       "count    23617.000000\n",
       "mean        60.339022\n",
       "std         35.680557\n",
       "min         12.000000\n",
       "25%         40.000000\n",
       "50%         52.000000\n",
       "75%         69.750000\n",
       "max        900.000000\n",
       "Name: total_area, dtype: float64"
      ]
     },
     "metadata": {},
     "output_type": "display_data"
    },
    {
     "name": "stdout",
     "output_type": "stream",
     "text": [
      "Гистограмма\n",
      "\n"
     ]
    },
    {
     "data": {
      "image/png": "[encoded data removed]",
      "text/plain": [
       "<Figure size 648x648 with 1 Axes>"
      ]
     },
     "metadata": {
      "needs_background": "light"
     },
     "output_type": "display_data"
    },
    {
     "name": "stdout",
     "output_type": "stream",
     "text": [
      "\"Ящик с усами\"\n",
      "\n"
     ]
    },
    {
     "data": {
      "image/png": "[encoded data removed]",
      "text/plain": [
       "<Figure size 432x288 with 1 Axes>"
      ]
     },
     "metadata": {
      "needs_background": "light"
     },
     "output_type": "display_data"
    }
   ],
   "source": [
    "graf(data, 'total_area', 100, (10, 200))\n",
    "area = data['total_area'].describe()"
   ]
  },
  {
   "cell_type": "markdown",
   "metadata": {},
   "source": [
    "#### Исследование параметра цена"
   ]
  },
  {
   "cell_type": "code",
   "execution_count": 26,
   "metadata": {},
   "outputs": [
    {
     "data": {
      "text/plain": [
       "count    2.361700e+04\n",
       "mean     6.547643e+06\n",
       "std      1.090244e+07\n",
       "min      1.219000e+04\n",
       "25%      3.429000e+06\n",
       "50%      4.650000e+06\n",
       "75%      6.800000e+06\n",
       "max      7.630000e+08\n",
       "Name: last_price, dtype: float64"
      ]
     },
     "metadata": {},
     "output_type": "display_data"
    },
    {
     "name": "stdout",
     "output_type": "stream",
     "text": [
      "Гистограмма\n",
      "\n"
     ]
    },
    {
     "data": {
      "image/png": "[encoded data removed]",
      "text/plain": [
       "<Figure size 648x648 with 1 Axes>"
      ]
     },
     "metadata": {
      "needs_background": "light"
     },
     "output_type": "display_data"
    },
    {
     "name": "stdout",
     "output_type": "stream",
     "text": [
      "\"Ящик с усами\"\n",
      "\n"
     ]
    },
    {
     "data": {
      "image/png": "[encoded data removed]",
      "text/plain": [
       "<Figure size 432x288 with 1 Axes>"
      ]
     },
     "metadata": {
      "needs_background": "light"
     },
     "output_type": "display_data"
    }
   ],
   "source": [
    "graf(data, 'last_price', 100, (0, 20000000))\n",
    "price = data['last_price'].describe()"
   ]
  },
  {
   "cell_type": "markdown",
   "metadata": {},
   "source": [
    "#### Исследование параметра число комнат"
   ]
  },
  {
   "cell_type": "code",
   "execution_count": 27,
   "metadata": {},
   "outputs": [
    {
     "data": {
      "text/plain": [
       "count    23617.000000\n",
       "mean         2.069950\n",
       "std          1.078955\n",
       "min          0.000000\n",
       "25%          1.000000\n",
       "50%          2.000000\n",
       "75%          3.000000\n",
       "max         19.000000\n",
       "Name: rooms, dtype: float64"
      ]
     },
     "metadata": {},
     "output_type": "display_data"
    },
    {
     "name": "stdout",
     "output_type": "stream",
     "text": [
      "Гистограмма\n",
      "\n"
     ]
    },
    {
     "data": {
      "image/png": "[encoded data removed]",
      "text/plain": [
       "<Figure size 648x648 with 1 Axes>"
      ]
     },
     "metadata": {
      "needs_background": "light"
     },
     "output_type": "display_data"
    },
    {
     "name": "stdout",
     "output_type": "stream",
     "text": [
      "\"Ящик с усами\"\n",
      "\n"
     ]
    },
    {
     "data": {
      "image/png": "[encoded data removed]",
      "text/plain": [
       "<Figure size 432x288 with 1 Axes>"
      ]
     },
     "metadata": {
      "needs_background": "light"
     },
     "output_type": "display_data"
    }
   ],
   "source": [
    "graf(data, 'rooms', 10, (0, 10))\n",
    "rooms = data['rooms'].describe()"
   ]
  },
  {
   "cell_type": "markdown",
   "metadata": {},
   "source": [
    "#### Исследование параметра высота потолков"
   ]
  },
  {
   "cell_type": "code",
   "execution_count": 28,
   "metadata": {},
   "outputs": [
    {
     "data": {
      "text/plain": [
       "count    23617.000000\n",
       "mean         2.735417\n",
       "std          0.995936\n",
       "min          1.000000\n",
       "25%          2.550000\n",
       "50%          2.650000\n",
       "75%          2.750000\n",
       "max        100.000000\n",
       "Name: ceiling_height, dtype: float64"
      ]
     },
     "metadata": {},
     "output_type": "display_data"
    },
    {
     "name": "stdout",
     "output_type": "stream",
     "text": [
      "Гистограмма\n",
      "\n"
     ]
    },
    {
     "data": {
      "image/png": "[encoded data removed]",
      "text/plain": [
       "<Figure size 648x648 with 1 Axes>"
      ]
     },
     "metadata": {
      "needs_background": "light"
     },
     "output_type": "display_data"
    },
    {
     "name": "stdout",
     "output_type": "stream",
     "text": [
      "\"Ящик с усами\"\n",
      "\n"
     ]
    },
    {
     "data": {
      "image/png": "[encoded data removed]",
      "text/plain": [
       "<Figure size 432x288 with 1 Axes>"
      ]
     },
     "metadata": {
      "needs_background": "light"
     },
     "output_type": "display_data"
    }
   ],
   "source": [
    "graf(data, 'ceiling_height', 100, (1,5))\n",
    "ceiling_height = data['ceiling_height'].describe()"
   ]
  },
  {
   "cell_type": "markdown",
   "metadata": {},
   "source": [
    "#### Вывод"
   ]
  },
  {
   "cell_type": "markdown",
   "metadata": {},
   "source": [
    "Проанализировав указанные параметры, делаю вывод, что в данных достаточно **много аномальных значений**, которые **исказят результаты** последующего анализа.<br>\n",
    "Соответственно от аномальных значений надо избавиться, а именно **отфильтровать исходный DataFrame** по *'нормальным условиям'*."
   ]
  },
  {
   "cell_type": "markdown",
   "metadata": {},
   "source": [
    "### Изучение времени продажи"
   ]
  },
  {
   "cell_type": "markdown",
   "metadata": {},
   "source": [
    "С помощью метода `describe()` узнаем интересующие нас параметры данных, а именно среднее, медиану, первый и третий квартили. <br>\n",
    "Далее с помощью методов `hist()` и `boxplot()` получаем гистограмму и \"ящик с усами\" соответственно."
   ]
  },
  {
   "cell_type": "markdown",
   "metadata": {},
   "source": [
    "#### Графики"
   ]
  },
  {
   "cell_type": "code",
   "execution_count": 29,
   "metadata": {},
   "outputs": [
    {
     "data": {
      "text/plain": [
       "count    23617.000000\n",
       "mean       170.092010\n",
       "std        207.135743\n",
       "min          1.000000\n",
       "25%         45.000000\n",
       "50%         95.000000\n",
       "75%        200.000000\n",
       "max       1580.000000\n",
       "Name: days_exposition, dtype: float64"
      ]
     },
     "metadata": {},
     "output_type": "display_data"
    },
    {
     "name": "stdout",
     "output_type": "stream",
     "text": [
      "Гистограмма\n",
      "\n"
     ]
    },
    {
     "data": {
      "image/png": "[encoded data removed]",
      "text/plain": [
       "<Figure size 648x648 with 1 Axes>"
      ]
     },
     "metadata": {
      "needs_background": "light"
     },
     "output_type": "display_data"
    },
    {
     "name": "stdout",
     "output_type": "stream",
     "text": [
      "\"Ящик с усами\"\n",
      "\n"
     ]
    },
    {
     "data": {
      "image/png": "[encoded data removed]",
      "text/plain": [
       "<Figure size 432x288 with 1 Axes>"
      ]
     },
     "metadata": {
      "needs_background": "light"
     },
     "output_type": "display_data"
    }
   ],
   "source": [
    "graf(data, 'days_exposition', 500, (1,500))\n",
    "days = data['days_exposition'].describe()"
   ]
  },
  {
   "cell_type": "markdown",
   "metadata": {},
   "source": [
    "#### Сводная таблица"
   ]
  },
  {
   "cell_type": "markdown",
   "metadata": {},
   "source": [
    "Строим сводную таблицу по *населенным пунктам*, считаем **количество объявлений**, **среднюю** и **медианную** продолжительность продажи."
   ]
  },
  {
   "cell_type": "code",
   "execution_count": 30,
   "metadata": {},
   "outputs": [
    {
     "data": {
      "text/html": [
       "<div>\n",
       "<style scoped>\n",
       "    .dataframe tbody tr th:only-of-type {\n",
       "        vertical-align: middle;\n",
       "    }\n",
       "\n",
       "    .dataframe tbody tr th {\n",
       "        vertical-align: top;\n",
       "    }\n",
       "\n",
       "    .dataframe thead th {\n",
       "        text-align: right;\n",
       "    }\n",
       "</style>\n",
       "<table border=\"1\" class=\"dataframe\">\n",
       "  <thead>\n",
       "    <tr style=\"text-align: right;\">\n",
       "      <th></th>\n",
       "      <th>count</th>\n",
       "      <th>mean</th>\n",
       "      <th>median</th>\n",
       "      <th>first</th>\n",
       "      <th>last</th>\n",
       "    </tr>\n",
       "    <tr>\n",
       "      <th>locality_name_corr</th>\n",
       "      <th></th>\n",
       "      <th></th>\n",
       "      <th></th>\n",
       "      <th></th>\n",
       "      <th></th>\n",
       "    </tr>\n",
       "  </thead>\n",
       "  <tbody>\n",
       "    <tr>\n",
       "      <th>Санкт-Петербург</th>\n",
       "      <td>15720</td>\n",
       "      <td>171.167430</td>\n",
       "      <td>95.0</td>\n",
       "      <td>95</td>\n",
       "      <td>602</td>\n",
       "    </tr>\n",
       "    <tr>\n",
       "      <th>Мурино</th>\n",
       "      <td>590</td>\n",
       "      <td>143.549153</td>\n",
       "      <td>75.0</td>\n",
       "      <td>189</td>\n",
       "      <td>939</td>\n",
       "    </tr>\n",
       "    <tr>\n",
       "      <th>Кудрово</th>\n",
       "      <td>472</td>\n",
       "      <td>154.137712</td>\n",
       "      <td>73.0</td>\n",
       "      <td>60</td>\n",
       "      <td>286</td>\n",
       "    </tr>\n",
       "    <tr>\n",
       "      <th>Шушары</th>\n",
       "      <td>440</td>\n",
       "      <td>151.440909</td>\n",
       "      <td>92.0</td>\n",
       "      <td>81</td>\n",
       "      <td>124</td>\n",
       "    </tr>\n",
       "    <tr>\n",
       "      <th>Всеволожск</th>\n",
       "      <td>398</td>\n",
       "      <td>186.103015</td>\n",
       "      <td>123.0</td>\n",
       "      <td>226</td>\n",
       "      <td>28</td>\n",
       "    </tr>\n",
       "    <tr>\n",
       "      <th>Пушкин</th>\n",
       "      <td>369</td>\n",
       "      <td>196.208672</td>\n",
       "      <td>130.0</td>\n",
       "      <td>203</td>\n",
       "      <td>252</td>\n",
       "    </tr>\n",
       "    <tr>\n",
       "      <th>Колпино</th>\n",
       "      <td>338</td>\n",
       "      <td>137.423077</td>\n",
       "      <td>74.0</td>\n",
       "      <td>92</td>\n",
       "      <td>74</td>\n",
       "    </tr>\n",
       "    <tr>\n",
       "      <th>Парголово</th>\n",
       "      <td>327</td>\n",
       "      <td>149.654434</td>\n",
       "      <td>79.0</td>\n",
       "      <td>155</td>\n",
       "      <td>409</td>\n",
       "    </tr>\n",
       "    <tr>\n",
       "      <th>Гатчина</th>\n",
       "      <td>307</td>\n",
       "      <td>178.107492</td>\n",
       "      <td>99.0</td>\n",
       "      <td>179</td>\n",
       "      <td>204</td>\n",
       "    </tr>\n",
       "    <tr>\n",
       "      <th>Выборг</th>\n",
       "      <td>237</td>\n",
       "      <td>167.784810</td>\n",
       "      <td>99.0</td>\n",
       "      <td>194</td>\n",
       "      <td>40</td>\n",
       "    </tr>\n",
       "  </tbody>\n",
       "</table>\n",
       "</div>"
      ],
      "text/plain": [
       "                    count        mean  median  first  last\n",
       "locality_name_corr                                        \n",
       "Санкт-Петербург     15720  171.167430    95.0     95   602\n",
       "Мурино                590  143.549153    75.0    189   939\n",
       "Кудрово               472  154.137712    73.0     60   286\n",
       "Шушары                440  151.440909    92.0     81   124\n",
       "Всеволожск            398  186.103015   123.0    226    28\n",
       "Пушкин                369  196.208672   130.0    203   252\n",
       "Колпино               338  137.423077    74.0     92    74\n",
       "Парголово             327  149.654434    79.0    155   409\n",
       "Гатчина               307  178.107492    99.0    179   204\n",
       "Выборг                237  167.784810    99.0    194    40"
      ]
     },
     "metadata": {},
     "output_type": "display_data"
    }
   ],
   "source": [
    "days_data = data.pivot_table(index='locality_name_corr', \n",
    "                             values='days_exposition', \n",
    "                             aggfunc=['count', 'mean', 'median', 'first', 'last'])\n",
    "days_data.columns = ['count', 'mean', 'median', 'first', 'last']\n",
    "display(days_data.sort_values(by='count', ascending=False).head(10))"
   ]
  },
  {
   "cell_type": "markdown",
   "metadata": {},
   "source": [
    "#### Вывод"
   ]
  },
  {
   "cell_type": "markdown",
   "metadata": {},
   "source": [
    "Исходя из графиков и сводной таблицы, делаю вывод, что **нормальная продолжительность продажи** находится в пределах от **14 дней** (*2 недели*) до **300 дней** (*чуть меньше года*), **средняя** (*медианная*) продолжительность - **95 дней** (*около 3-х месяцев*).<br>\n",
    "Всё что выходит *за рамки нормальной продолжительности* считаю **аномальными значениями (*выбросами*)**."
   ]
  },
  {
   "cell_type": "markdown",
   "metadata": {},
   "source": [
    "### Убираем выбросы"
   ]
  },
  {
   "cell_type": "markdown",
   "metadata": {},
   "source": [
    "#### Формируем таблицу для анализа"
   ]
  },
  {
   "cell_type": "code",
   "execution_count": 31,
   "metadata": {},
   "outputs": [],
   "source": [
    "data_analysis = (data[['last_price', \n",
    "                       'total_area', 'rooms', \n",
    "                       'ceiling_height',  \n",
    "                       'cityCenters_nearest_km',\n",
    "                       'days_exposition', \n",
    "                       'locality_name_corr', \n",
    "                       'price_for_metr', 'day_of_week', \n",
    "                       'month_exposition', 'year_exposition', \n",
    "                       'floor_category']]\n",
    "                )"
   ]
  },
  {
   "cell_type": "markdown",
   "metadata": {},
   "source": [
    "#### Рассчитываем ограничения по выбросам"
   ]
  },
  {
   "cell_type": "code",
   "execution_count": 32,
   "metadata": {},
   "outputs": [
    {
     "name": "stdout",
     "output_type": "stream",
     "text": [
      "(-4.625, 114.375)\n",
      "(-1627500.0, 11856500.0)\n",
      "(-2.0, 6.0)\n",
      "(2.2499999999999996, 3.0500000000000003)\n",
      "(-187.5, 432.5)\n"
     ]
    }
   ],
   "source": [
    "def min_max_values(series):\n",
    "    min_value = series['25%'] - (1.5 * (series['75%'] - series['25%']))\n",
    "    max_value = series['75%'] + (1.5 * (series['75%'] - series['25%']))\n",
    "    return min_value, max_value\n",
    "print(min_max_values(area))\n",
    "print(min_max_values(price))\n",
    "print(min_max_values(rooms))\n",
    "print(min_max_values(ceiling_height))\n",
    "print(min_max_values(days))"
   ]
  },
  {
   "cell_type": "markdown",
   "metadata": {},
   "source": [
    "#### Фильтруем таблицу"
   ]
  },
  {
   "cell_type": "code",
   "execution_count": 33,
   "metadata": {},
   "outputs": [
    {
     "name": "stdout",
     "output_type": "stream",
     "text": [
      "<class 'pandas.core.frame.DataFrame'>\n",
      "RangeIndex: 13426 entries, 0 to 13425\n",
      "Data columns (total 12 columns):\n",
      " #   Column                  Non-Null Count  Dtype  \n",
      "---  ------                  --------------  -----  \n",
      " 0   last_price              13426 non-null  int64  \n",
      " 1   total_area              13426 non-null  float64\n",
      " 2   rooms                   13426 non-null  int64  \n",
      " 3   ceiling_height          13426 non-null  float64\n",
      " 4   cityCenters_nearest_km  10962 non-null  float64\n",
      " 5   days_exposition         13426 non-null  int64  \n",
      " 6   locality_name_corr      13426 non-null  object \n",
      " 7   price_for_metr          13426 non-null  float64\n",
      " 8   day_of_week             13426 non-null  int64  \n",
      " 9   month_exposition        13426 non-null  int64  \n",
      " 10  year_exposition         13426 non-null  int64  \n",
      " 11  floor_category          13426 non-null  object \n",
      "dtypes: float64(4), int64(6), object(2)\n",
      "memory usage: 1.2+ MB\n"
     ]
    },
    {
     "data": {
      "text/html": [
       "<div>\n",
       "<style scoped>\n",
       "    .dataframe tbody tr th:only-of-type {\n",
       "        vertical-align: middle;\n",
       "    }\n",
       "\n",
       "    .dataframe tbody tr th {\n",
       "        vertical-align: top;\n",
       "    }\n",
       "\n",
       "    .dataframe thead th {\n",
       "        text-align: right;\n",
       "    }\n",
       "</style>\n",
       "<table border=\"1\" class=\"dataframe\">\n",
       "  <thead>\n",
       "    <tr style=\"text-align: right;\">\n",
       "      <th></th>\n",
       "      <th>last_price</th>\n",
       "      <th>total_area</th>\n",
       "      <th>rooms</th>\n",
       "      <th>ceiling_height</th>\n",
       "      <th>cityCenters_nearest_km</th>\n",
       "      <th>days_exposition</th>\n",
       "      <th>locality_name_corr</th>\n",
       "      <th>price_for_metr</th>\n",
       "      <th>day_of_week</th>\n",
       "      <th>month_exposition</th>\n",
       "      <th>year_exposition</th>\n",
       "      <th>floor_category</th>\n",
       "    </tr>\n",
       "  </thead>\n",
       "  <tbody>\n",
       "    <tr>\n",
       "      <th>0</th>\n",
       "      <td>3350000</td>\n",
       "      <td>40.40</td>\n",
       "      <td>1</td>\n",
       "      <td>2.75</td>\n",
       "      <td>18.603</td>\n",
       "      <td>81</td>\n",
       "      <td>Шушары</td>\n",
       "      <td>82920.79</td>\n",
       "      <td>1</td>\n",
       "      <td>12</td>\n",
       "      <td>2018</td>\n",
       "      <td>первый</td>\n",
       "    </tr>\n",
       "    <tr>\n",
       "      <th>1</th>\n",
       "      <td>2890000</td>\n",
       "      <td>30.40</td>\n",
       "      <td>1</td>\n",
       "      <td>2.65</td>\n",
       "      <td>NaN</td>\n",
       "      <td>55</td>\n",
       "      <td>Янино-1</td>\n",
       "      <td>95065.79</td>\n",
       "      <td>0</td>\n",
       "      <td>9</td>\n",
       "      <td>2018</td>\n",
       "      <td>другой</td>\n",
       "    </tr>\n",
       "    <tr>\n",
       "      <th>2</th>\n",
       "      <td>3700000</td>\n",
       "      <td>37.30</td>\n",
       "      <td>1</td>\n",
       "      <td>2.66</td>\n",
       "      <td>19.143</td>\n",
       "      <td>155</td>\n",
       "      <td>Парголово</td>\n",
       "      <td>99195.71</td>\n",
       "      <td>3</td>\n",
       "      <td>11</td>\n",
       "      <td>2017</td>\n",
       "      <td>другой</td>\n",
       "    </tr>\n",
       "    <tr>\n",
       "      <th>3</th>\n",
       "      <td>7915000</td>\n",
       "      <td>71.60</td>\n",
       "      <td>2</td>\n",
       "      <td>2.75</td>\n",
       "      <td>11.634</td>\n",
       "      <td>95</td>\n",
       "      <td>Санкт-Петербург</td>\n",
       "      <td>110544.69</td>\n",
       "      <td>3</td>\n",
       "      <td>4</td>\n",
       "      <td>2019</td>\n",
       "      <td>другой</td>\n",
       "    </tr>\n",
       "    <tr>\n",
       "      <th>4</th>\n",
       "      <td>2900000</td>\n",
       "      <td>33.16</td>\n",
       "      <td>1</td>\n",
       "      <td>2.70</td>\n",
       "      <td>NaN</td>\n",
       "      <td>189</td>\n",
       "      <td>Мурино</td>\n",
       "      <td>87454.76</td>\n",
       "      <td>2</td>\n",
       "      <td>5</td>\n",
       "      <td>2018</td>\n",
       "      <td>другой</td>\n",
       "    </tr>\n",
       "    <tr>\n",
       "      <th>5</th>\n",
       "      <td>5400000</td>\n",
       "      <td>61.00</td>\n",
       "      <td>3</td>\n",
       "      <td>2.50</td>\n",
       "      <td>15.008</td>\n",
       "      <td>289</td>\n",
       "      <td>Санкт-Петербург</td>\n",
       "      <td>88524.59</td>\n",
       "      <td>6</td>\n",
       "      <td>2</td>\n",
       "      <td>2017</td>\n",
       "      <td>другой</td>\n",
       "    </tr>\n",
       "    <tr>\n",
       "      <th>6</th>\n",
       "      <td>5050000</td>\n",
       "      <td>39.60</td>\n",
       "      <td>1</td>\n",
       "      <td>2.67</td>\n",
       "      <td>13.878</td>\n",
       "      <td>137</td>\n",
       "      <td>Санкт-Петербург</td>\n",
       "      <td>127525.25</td>\n",
       "      <td>3</td>\n",
       "      <td>11</td>\n",
       "      <td>2017</td>\n",
       "      <td>другой</td>\n",
       "    </tr>\n",
       "    <tr>\n",
       "      <th>7</th>\n",
       "      <td>3890000</td>\n",
       "      <td>54.00</td>\n",
       "      <td>2</td>\n",
       "      <td>2.55</td>\n",
       "      <td>NaN</td>\n",
       "      <td>90</td>\n",
       "      <td>Сертолово</td>\n",
       "      <td>72037.04</td>\n",
       "      <td>3</td>\n",
       "      <td>6</td>\n",
       "      <td>2016</td>\n",
       "      <td>последний</td>\n",
       "    </tr>\n",
       "    <tr>\n",
       "      <th>8</th>\n",
       "      <td>4400000</td>\n",
       "      <td>36.00</td>\n",
       "      <td>1</td>\n",
       "      <td>3.00</td>\n",
       "      <td>30.759</td>\n",
       "      <td>203</td>\n",
       "      <td>Пушкин</td>\n",
       "      <td>122222.22</td>\n",
       "      <td>3</td>\n",
       "      <td>6</td>\n",
       "      <td>2016</td>\n",
       "      <td>первый</td>\n",
       "    </tr>\n",
       "    <tr>\n",
       "      <th>9</th>\n",
       "      <td>4650000</td>\n",
       "      <td>39.00</td>\n",
       "      <td>1</td>\n",
       "      <td>2.60</td>\n",
       "      <td>14.259</td>\n",
       "      <td>19</td>\n",
       "      <td>Санкт-Петербург</td>\n",
       "      <td>119230.77</td>\n",
       "      <td>5</td>\n",
       "      <td>11</td>\n",
       "      <td>2017</td>\n",
       "      <td>другой</td>\n",
       "    </tr>\n",
       "  </tbody>\n",
       "</table>\n",
       "</div>"
      ],
      "text/plain": [
       "   last_price  total_area  rooms  ceiling_height  cityCenters_nearest_km  \\\n",
       "0     3350000       40.40      1            2.75                  18.603   \n",
       "1     2890000       30.40      1            2.65                     NaN   \n",
       "2     3700000       37.30      1            2.66                  19.143   \n",
       "3     7915000       71.60      2            2.75                  11.634   \n",
       "4     2900000       33.16      1            2.70                     NaN   \n",
       "5     5400000       61.00      3            2.50                  15.008   \n",
       "6     5050000       39.60      1            2.67                  13.878   \n",
       "7     3890000       54.00      2            2.55                     NaN   \n",
       "8     4400000       36.00      1            3.00                  30.759   \n",
       "9     4650000       39.00      1            2.60                  14.259   \n",
       "\n",
       "   days_exposition locality_name_corr  price_for_metr  day_of_week  \\\n",
       "0               81             Шушары        82920.79            1   \n",
       "1               55            Янино-1        95065.79            0   \n",
       "2              155          Парголово        99195.71            3   \n",
       "3               95    Санкт-Петербург       110544.69            3   \n",
       "4              189             Мурино        87454.76            2   \n",
       "5              289    Санкт-Петербург        88524.59            6   \n",
       "6              137    Санкт-Петербург       127525.25            3   \n",
       "7               90          Сертолово        72037.04            3   \n",
       "8              203             Пушкин       122222.22            3   \n",
       "9               19    Санкт-Петербург       119230.77            5   \n",
       "\n",
       "   month_exposition  year_exposition floor_category  \n",
       "0                12             2018         первый  \n",
       "1                 9             2018         другой  \n",
       "2                11             2017         другой  \n",
       "3                 4             2019         другой  \n",
       "4                 5             2018         другой  \n",
       "5                 2             2017         другой  \n",
       "6                11             2017         другой  \n",
       "7                 6             2016      последний  \n",
       "8                 6             2016         первый  \n",
       "9                11             2017         другой  "
      ]
     },
     "execution_count": 33,
     "metadata": {},
     "output_type": "execute_result"
    }
   ],
   "source": [
    "data_analysis = data_analysis.query('total_area > 20 and total_area < 120')\n",
    "data_analysis = data_analysis.query('last_price > 2500000 and last_price < 10000000')\n",
    "data_analysis = data_analysis.query('rooms >= 1 and rooms < 6')\n",
    "data_analysis = data_analysis.query('ceiling_height >= 2 and ceiling_height <= 3')\n",
    "data_analysis = data_analysis.query('days_exposition >= 14 and days_exposition <= 300').reset_index(drop=True)\n",
    "data_analysis.info()\n",
    "data_analysis.head(10)"
   ]
  },
  {
   "cell_type": "markdown",
   "metadata": {},
   "source": [
    "#### Вывод"
   ]
  },
  {
   "cell_type": "markdown",
   "metadata": {},
   "source": [
    "Сформировав таблицу с интересующими нас столбцами, с помощью функции `min_max_values` рассчитываем числовые пределы ограничений по выбросам. <br> \n",
    "Затем последовательно фильтруем таблицу по заданным условиям. <br>\n",
    "Проверяем готовую таблицу `data_analysis` и выводим первые 10 строк."
   ]
  },
  {
   "cell_type": "markdown",
   "metadata": {},
   "source": [
    "### Изучение факторов, влияющих на стоимость"
   ]
  },
  {
   "cell_type": "markdown",
   "metadata": {},
   "source": [
    "#### Зависимость стоимости от площади, числа комнат, удаленности от центра"
   ]
  },
  {
   "cell_type": "code",
   "execution_count": 34,
   "metadata": {},
   "outputs": [
    {
     "name": "stdout",
     "output_type": "stream",
     "text": [
      "Матрица корреляции\n",
      "\n"
     ]
    },
    {
     "data": {
      "text/html": [
       "<div>\n",
       "<style scoped>\n",
       "    .dataframe tbody tr th:only-of-type {\n",
       "        vertical-align: middle;\n",
       "    }\n",
       "\n",
       "    .dataframe tbody tr th {\n",
       "        vertical-align: top;\n",
       "    }\n",
       "\n",
       "    .dataframe thead th {\n",
       "        text-align: right;\n",
       "    }\n",
       "</style>\n",
       "<table border=\"1\" class=\"dataframe\">\n",
       "  <thead>\n",
       "    <tr style=\"text-align: right;\">\n",
       "      <th></th>\n",
       "      <th>last_price</th>\n",
       "      <th>total_area</th>\n",
       "      <th>rooms</th>\n",
       "      <th>cityCenters_nearest_km</th>\n",
       "    </tr>\n",
       "  </thead>\n",
       "  <tbody>\n",
       "    <tr>\n",
       "      <th>last_price</th>\n",
       "      <td>1.00</td>\n",
       "      <td>0.67</td>\n",
       "      <td>0.43</td>\n",
       "      <td>-0.28</td>\n",
       "    </tr>\n",
       "    <tr>\n",
       "      <th>total_area</th>\n",
       "      <td>0.67</td>\n",
       "      <td>1.00</td>\n",
       "      <td>0.80</td>\n",
       "      <td>-0.02</td>\n",
       "    </tr>\n",
       "    <tr>\n",
       "      <th>rooms</th>\n",
       "      <td>0.43</td>\n",
       "      <td>0.80</td>\n",
       "      <td>1.00</td>\n",
       "      <td>-0.00</td>\n",
       "    </tr>\n",
       "    <tr>\n",
       "      <th>cityCenters_nearest_km</th>\n",
       "      <td>-0.28</td>\n",
       "      <td>-0.02</td>\n",
       "      <td>-0.00</td>\n",
       "      <td>1.00</td>\n",
       "    </tr>\n",
       "  </tbody>\n",
       "</table>\n",
       "</div>"
      ],
      "text/plain": [
       "                        last_price  total_area  rooms  cityCenters_nearest_km\n",
       "last_price                    1.00        0.67   0.43                   -0.28\n",
       "total_area                    0.67        1.00   0.80                   -0.02\n",
       "rooms                         0.43        0.80   1.00                   -0.00\n",
       "cityCenters_nearest_km       -0.28       -0.02  -0.00                    1.00"
      ]
     },
     "metadata": {},
     "output_type": "display_data"
    }
   ],
   "source": [
    "data_analysis_corr = data_analysis[['last_price', 'total_area', 'rooms', 'cityCenters_nearest_km']]\n",
    "print('Матрица корреляции', end='\\n\\n')\n",
    "display(data_analysis_corr.corr().round(2))"
   ]
  },
  {
   "cell_type": "code",
   "execution_count": 35,
   "metadata": {},
   "outputs": [
    {
     "name": "stdout",
     "output_type": "stream",
     "text": [
      "Матрица диаграмм рассеяния\n",
      "\n"
     ]
    },
    {
     "data": {
      "image/png": "[encoded data removed]",
      "text/plain": [
       "<Figure size 648x648 with 16 Axes>"
      ]
     },
     "metadata": {
      "needs_background": "light"
     },
     "output_type": "display_data"
    }
   ],
   "source": [
    "print('Матрица диаграмм рассеяния', end='\\n\\n')\n",
    "pd.plotting.scatter_matrix(data_analysis_corr, figsize=(9, 9))\n",
    "plt.show()"
   ]
  },
  {
   "cell_type": "markdown",
   "metadata": {},
   "source": [
    "#### Зависимость стоимости от этажа"
   ]
  },
  {
   "cell_type": "code",
   "execution_count": 36,
   "metadata": {},
   "outputs": [
    {
     "name": "stdout",
     "output_type": "stream",
     "text": [
      "Коэффициент корреляции для этажа:  0.03\n"
     ]
    },
    {
     "data": {
      "image/png": "[encoded data removed]",
      "text/plain": [
       "<Figure size 432x288 with 1 Axes>"
      ]
     },
     "metadata": {
      "needs_background": "light"
     },
     "output_type": "display_data"
    }
   ],
   "source": [
    "floor_id = {'первый': 1, 'другой': 2, 'последний': 3}\n",
    "data_analysis['floor_category_id'] = data_analysis['floor_category'].map(floor_id)\n",
    "print('Коэффициент корреляции для этажа: ', (data_analysis['last_price'].corr(data_analysis['floor_category_id'])).round(2))\n",
    "\n",
    "sns.barplot(x='floor_category_id', y='last_price', data = data_analysis)\n",
    "plt.show()"
   ]
  },
  {
   "cell_type": "markdown",
   "metadata": {},
   "source": [
    "#### Зависимость стоимости от даты размещения"
   ]
  },
  {
   "cell_type": "code",
   "execution_count": 37,
   "metadata": {},
   "outputs": [
    {
     "data": {
      "image/png": "[encoded data removed]",
      "text/plain": [
       "<Figure size 1080x360 with 1 Axes>"
      ]
     },
     "metadata": {
      "needs_background": "light"
     },
     "output_type": "display_data"
    },
    {
     "data": {
      "image/png": "[encoded data removed]",
      "text/plain": [
       "<Figure size 1080x648 with 1 Axes>"
      ]
     },
     "metadata": {
      "needs_background": "light"
     },
     "output_type": "display_data"
    },
    {
     "data": {
      "image/png": "[encoded data removed]",
      "text/plain": [
       "<Figure size 1080x648 with 1 Axes>"
      ]
     },
     "metadata": {
      "needs_background": "light"
     },
     "output_type": "display_data"
    }
   ],
   "source": [
    "(data_analysis\n",
    " .pivot_table(index='day_of_week', values='last_price', aggfunc='median')\n",
    " .plot(style='o-', figsize=(15, 5), title='Зависимость стоимости от дня недели публикации', grid=True)\n",
    ")\n",
    "plt.show()\n",
    "\n",
    "(data_analysis\n",
    " .pivot_table(index='month_exposition', values='last_price', aggfunc='median')\n",
    " .plot(style='o-', figsize=(15, 9), title='Зависимость стоимости от месяца публикации', grid=True)\n",
    ")\n",
    "plt.show()\n",
    "\n",
    "(data_analysis\n",
    " .pivot_table(index='year_exposition', values='last_price', aggfunc='median')\n",
    " .plot(style='o-', figsize=(15, 9), title='Зависимость стоимости от года публикации', grid=True)\n",
    ")\n",
    "plt.show()"
   ]
  },
  {
   "cell_type": "markdown",
   "metadata": {},
   "source": [
    "#### Вывод"
   ]
  },
  {
   "cell_type": "markdown",
   "metadata": {},
   "source": [
    "Изучив указанные выше параметры, делаю вывод, что: <br>\n",
    "* общая площадь квартиры и число комнат увеличивают её стоимость. \n",
    "* расстояние до центра имеет отрицательный коэффициент корреляции, что говорит об обратной зависимости - чем больше расстояние, тем ниже стоимость\n",
    "* квартиры не на первом и последнем этажах имеют преимущество в стоимости\n",
    "* зависимость стоимости от года публикации представляет собой распределение Пуассона и имеет *наибольшее влияние на цену* из всех параметров даты публикации, связываю это с повсеместным спадом цен на недвижимость"
   ]
  },
  {
   "cell_type": "markdown",
   "metadata": {},
   "source": [
    "### Изучение 10 населенных пунктов с наибольшим количеством объявлений"
   ]
  },
  {
   "cell_type": "code",
   "execution_count": 38,
   "metadata": {},
   "outputs": [
    {
     "data": {
      "text/html": [
       "<div>\n",
       "<style scoped>\n",
       "    .dataframe tbody tr th:only-of-type {\n",
       "        vertical-align: middle;\n",
       "    }\n",
       "\n",
       "    .dataframe tbody tr th {\n",
       "        vertical-align: top;\n",
       "    }\n",
       "\n",
       "    .dataframe thead th {\n",
       "        text-align: right;\n",
       "    }\n",
       "</style>\n",
       "<table border=\"1\" class=\"dataframe\">\n",
       "  <thead>\n",
       "    <tr style=\"text-align: right;\">\n",
       "      <th></th>\n",
       "      <th>count</th>\n",
       "      <th>mean_price</th>\n",
       "    </tr>\n",
       "    <tr>\n",
       "      <th>locality_name_corr</th>\n",
       "      <th></th>\n",
       "      <th></th>\n",
       "    </tr>\n",
       "  </thead>\n",
       "  <tbody>\n",
       "    <tr>\n",
       "      <th>Санкт-Петербург</th>\n",
       "      <td>9325</td>\n",
       "      <td>104311.520880</td>\n",
       "    </tr>\n",
       "    <tr>\n",
       "      <th>Мурино</th>\n",
       "      <td>405</td>\n",
       "      <td>87045.659679</td>\n",
       "    </tr>\n",
       "    <tr>\n",
       "      <th>Кудрово</th>\n",
       "      <td>331</td>\n",
       "      <td>95632.375952</td>\n",
       "    </tr>\n",
       "    <tr>\n",
       "      <th>Шушары</th>\n",
       "      <td>319</td>\n",
       "      <td>78823.233950</td>\n",
       "    </tr>\n",
       "    <tr>\n",
       "      <th>Колпино</th>\n",
       "      <td>248</td>\n",
       "      <td>74978.255887</td>\n",
       "    </tr>\n",
       "    <tr>\n",
       "      <th>Всеволожск</th>\n",
       "      <td>248</td>\n",
       "      <td>68012.781169</td>\n",
       "    </tr>\n",
       "    <tr>\n",
       "      <th>Пушкин</th>\n",
       "      <td>242</td>\n",
       "      <td>99401.284669</td>\n",
       "    </tr>\n",
       "    <tr>\n",
       "      <th>Парголово</th>\n",
       "      <td>239</td>\n",
       "      <td>90773.825105</td>\n",
       "    </tr>\n",
       "    <tr>\n",
       "      <th>Гатчина</th>\n",
       "      <td>172</td>\n",
       "      <td>71056.527674</td>\n",
       "    </tr>\n",
       "    <tr>\n",
       "      <th>Петергоф</th>\n",
       "      <td>137</td>\n",
       "      <td>83936.669270</td>\n",
       "    </tr>\n",
       "  </tbody>\n",
       "</table>\n",
       "</div>"
      ],
      "text/plain": [
       "                    count     mean_price\n",
       "locality_name_corr                      \n",
       "Санкт-Петербург      9325  104311.520880\n",
       "Мурино                405   87045.659679\n",
       "Кудрово               331   95632.375952\n",
       "Шушары                319   78823.233950\n",
       "Колпино               248   74978.255887\n",
       "Всеволожск            248   68012.781169\n",
       "Пушкин                242   99401.284669\n",
       "Парголово             239   90773.825105\n",
       "Гатчина               172   71056.527674\n",
       "Петергоф              137   83936.669270"
      ]
     },
     "metadata": {},
     "output_type": "display_data"
    },
    {
     "name": "stdout",
     "output_type": "stream",
     "text": [
      "\n",
      "Самая высокая стоимость:\n"
     ]
    },
    {
     "data": {
      "text/html": [
       "<div>\n",
       "<style scoped>\n",
       "    .dataframe tbody tr th:only-of-type {\n",
       "        vertical-align: middle;\n",
       "    }\n",
       "\n",
       "    .dataframe tbody tr th {\n",
       "        vertical-align: top;\n",
       "    }\n",
       "\n",
       "    .dataframe thead th {\n",
       "        text-align: right;\n",
       "    }\n",
       "</style>\n",
       "<table border=\"1\" class=\"dataframe\">\n",
       "  <thead>\n",
       "    <tr style=\"text-align: right;\">\n",
       "      <th></th>\n",
       "      <th>count</th>\n",
       "      <th>mean_price</th>\n",
       "    </tr>\n",
       "    <tr>\n",
       "      <th>locality_name_corr</th>\n",
       "      <th></th>\n",
       "      <th></th>\n",
       "    </tr>\n",
       "  </thead>\n",
       "  <tbody>\n",
       "    <tr>\n",
       "      <th>Санкт-Петербург</th>\n",
       "      <td>9325</td>\n",
       "      <td>104311.52088</td>\n",
       "    </tr>\n",
       "  </tbody>\n",
       "</table>\n",
       "</div>"
      ],
      "text/plain": [
       "                    count    mean_price\n",
       "locality_name_corr                     \n",
       "Санкт-Петербург      9325  104311.52088"
      ]
     },
     "metadata": {},
     "output_type": "display_data"
    },
    {
     "name": "stdout",
     "output_type": "stream",
     "text": [
      "\n",
      "Самая низкая стоимость:\n"
     ]
    },
    {
     "data": {
      "text/html": [
       "<div>\n",
       "<style scoped>\n",
       "    .dataframe tbody tr th:only-of-type {\n",
       "        vertical-align: middle;\n",
       "    }\n",
       "\n",
       "    .dataframe tbody tr th {\n",
       "        vertical-align: top;\n",
       "    }\n",
       "\n",
       "    .dataframe thead th {\n",
       "        text-align: right;\n",
       "    }\n",
       "</style>\n",
       "<table border=\"1\" class=\"dataframe\">\n",
       "  <thead>\n",
       "    <tr style=\"text-align: right;\">\n",
       "      <th></th>\n",
       "      <th>count</th>\n",
       "      <th>mean_price</th>\n",
       "    </tr>\n",
       "    <tr>\n",
       "      <th>locality_name_corr</th>\n",
       "      <th></th>\n",
       "      <th></th>\n",
       "    </tr>\n",
       "  </thead>\n",
       "  <tbody>\n",
       "    <tr>\n",
       "      <th>Всеволожск</th>\n",
       "      <td>248</td>\n",
       "      <td>68012.781169</td>\n",
       "    </tr>\n",
       "  </tbody>\n",
       "</table>\n",
       "</div>"
      ],
      "text/plain": [
       "                    count    mean_price\n",
       "locality_name_corr                     \n",
       "Всеволожск            248  68012.781169"
      ]
     },
     "metadata": {},
     "output_type": "display_data"
    }
   ],
   "source": [
    "ten_locality = data_analysis.pivot_table(index='locality_name_corr', values='price_for_metr', aggfunc=['count', 'mean'])\n",
    "ten_locality.columns = ['count', 'mean_price']\n",
    "ten_locality = ten_locality.sort_values(by=(['count']), ascending=False).head(10)\n",
    "display(ten_locality)\n",
    "print()\n",
    "print('Самая высокая стоимость:', end='\\n')\n",
    "display(ten_locality.query('mean_price == mean_price.max()'))\n",
    "print()\n",
    "print('Самая низкая стоимость:', end='\\n')\n",
    "display(ten_locality.query('mean_price == mean_price.min()'))"
   ]
  },
  {
   "cell_type": "markdown",
   "metadata": {},
   "source": [
    "Как и ожидалось, наибольшее количество объявлений в Санкт-петербурге и ближайших крупных населенных пунктах."
   ]
  },
  {
   "cell_type": "markdown",
   "metadata": {},
   "source": [
    "### Изучение квартир в Санкт-Петербурге"
   ]
  },
  {
   "cell_type": "code",
   "execution_count": 39,
   "metadata": {},
   "outputs": [
    {
     "data": {
      "image/png": "[encoded data removed]",
      "text/plain": [
       "<Figure size 1440x720 with 1 Axes>"
      ]
     },
     "metadata": {
      "needs_background": "light"
     },
     "output_type": "display_data"
    }
   ],
   "source": [
    "data_spb = data_analysis.query('locality_name_corr == \"Санкт-Петербург\"').copy()\n",
    "data_spb['cityCenters_nearest_km'] = data_spb['cityCenters_nearest_km'].round().astype('Int64')\n",
    "(data_spb\n",
    " .pivot_table(index='cityCenters_nearest_km', values='price_for_metr', aggfunc='mean')\n",
    " .plot(style='o-', figsize=(20, 10), title='Зависимость цены $м^2$ от расстояния до центра', grid=True)\n",
    ")\n",
    "plt.xticks(range(30))\n",
    "plt.show()"
   ]
  },
  {
   "cell_type": "markdown",
   "metadata": {},
   "source": [
    "Построив график зависимости цены 1 $м^2$ от расстояния до центра города, я определяю центральную зону, равную радиусу в 8 км."
   ]
  },
  {
   "cell_type": "markdown",
   "metadata": {},
   "source": [
    "### Исследование квартир в центре Санкт-Петербурга"
   ]
  },
  {
   "cell_type": "code",
   "execution_count": 40,
   "metadata": {},
   "outputs": [],
   "source": [
    "data_spb_center = data_analysis.query('locality_name_corr == \"Санкт-Петербург\" & cityCenters_nearest_km <= 8').copy()"
   ]
  },
  {
   "cell_type": "markdown",
   "metadata": {},
   "source": [
    "#### Исследование площади"
   ]
  },
  {
   "cell_type": "code",
   "execution_count": 41,
   "metadata": {},
   "outputs": [
    {
     "name": "stdout",
     "output_type": "stream",
     "text": [
      "Данные по Санкт_Петербургу\n"
     ]
    },
    {
     "data": {
      "text/plain": [
       "count    9325.000000\n",
       "mean       51.926861\n",
       "std        16.242370\n",
       "min        20.300000\n",
       "25%        39.600000\n",
       "50%        48.500000\n",
       "75%        62.000000\n",
       "max       119.000000\n",
       "Name: total_area, dtype: float64"
      ]
     },
     "metadata": {},
     "output_type": "display_data"
    },
    {
     "name": "stdout",
     "output_type": "stream",
     "text": [
      "Гистограмма\n",
      "\n"
     ]
    },
    {
     "data": {
      "image/png": "[encoded data removed]",
      "text/plain": [
       "<Figure size 648x648 with 1 Axes>"
      ]
     },
     "metadata": {
      "needs_background": "light"
     },
     "output_type": "display_data"
    },
    {
     "name": "stdout",
     "output_type": "stream",
     "text": [
      "\"Ящик с усами\"\n",
      "\n"
     ]
    },
    {
     "data": {
      "image/png": "[encoded data removed]",
      "text/plain": [
       "<Figure size 432x288 with 1 Axes>"
      ]
     },
     "metadata": {
      "needs_background": "light"
     },
     "output_type": "display_data"
    }
   ],
   "source": [
    "print('Данные по Санкт_Петербургу', end='\\n')\n",
    "graf(data_spb, 'total_area', 100, (0, 125))"
   ]
  },
  {
   "cell_type": "code",
   "execution_count": 42,
   "metadata": {},
   "outputs": [
    {
     "name": "stdout",
     "output_type": "stream",
     "text": [
      "Данные по центру Санкт_Петербурга\n"
     ]
    },
    {
     "data": {
      "text/plain": [
       "count    1118.000000\n",
       "mean       58.891413\n",
       "std        18.871767\n",
       "min        20.300000\n",
       "25%        44.325000\n",
       "50%        56.950000\n",
       "75%        71.300000\n",
       "max       119.000000\n",
       "Name: total_area, dtype: float64"
      ]
     },
     "metadata": {},
     "output_type": "display_data"
    },
    {
     "name": "stdout",
     "output_type": "stream",
     "text": [
      "Гистограмма\n",
      "\n"
     ]
    },
    {
     "data": {
      "image/png": "[encoded data removed]",
      "text/plain": [
       "<Figure size 648x648 with 1 Axes>"
      ]
     },
     "metadata": {
      "needs_background": "light"
     },
     "output_type": "display_data"
    },
    {
     "name": "stdout",
     "output_type": "stream",
     "text": [
      "\"Ящик с усами\"\n",
      "\n"
     ]
    },
    {
     "data": {
      "image/png": "[encoded data removed]",
      "text/plain": [
       "<Figure size 432x288 with 1 Axes>"
      ]
     },
     "metadata": {
      "needs_background": "light"
     },
     "output_type": "display_data"
    }
   ],
   "source": [
    "print('Данные по центру Санкт_Петербурга', end='\\n')\n",
    "graf(data_spb_center, 'total_area', 100, (10, 125))"
   ]
  },
  {
   "cell_type": "markdown",
   "metadata": {},
   "source": [
    "#### Исследование цены"
   ]
  },
  {
   "cell_type": "code",
   "execution_count": 43,
   "metadata": {},
   "outputs": [
    {
     "name": "stdout",
     "output_type": "stream",
     "text": [
      "Данные по Санкт_Петербургу\n"
     ]
    },
    {
     "data": {
      "text/plain": [
       "count    9.325000e+03\n",
       "mean     5.320201e+06\n",
       "std      1.688630e+06\n",
       "min      2.515000e+06\n",
       "25%      4.000000e+06\n",
       "50%      4.950000e+06\n",
       "75%      6.400000e+06\n",
       "max      9.999999e+06\n",
       "Name: last_price, dtype: float64"
      ]
     },
     "metadata": {},
     "output_type": "display_data"
    },
    {
     "name": "stdout",
     "output_type": "stream",
     "text": [
      "Гистограмма\n",
      "\n"
     ]
    },
    {
     "data": {
      "image/png": "[encoded data removed]",
      "text/plain": [
       "<Figure size 648x648 with 1 Axes>"
      ]
     },
     "metadata": {
      "needs_background": "light"
     },
     "output_type": "display_data"
    },
    {
     "name": "stdout",
     "output_type": "stream",
     "text": [
      "\"Ящик с усами\"\n",
      "\n"
     ]
    },
    {
     "data": {
      "image/png": "[encoded data removed]",
      "text/plain": [
       "<Figure size 432x288 with 1 Axes>"
      ]
     },
     "metadata": {
      "needs_background": "light"
     },
     "output_type": "display_data"
    }
   ],
   "source": [
    "print('Данные по Санкт_Петербургу', end='\\n')\n",
    "graf(data_spb, 'last_price', 100, (2000000, 11000000))"
   ]
  },
  {
   "cell_type": "code",
   "execution_count": 44,
   "metadata": {},
   "outputs": [
    {
     "name": "stdout",
     "output_type": "stream",
     "text": [
      "Данные по центру Санкт_Петербурга\n"
     ]
    },
    {
     "data": {
      "text/plain": [
       "count    1.118000e+03\n",
       "mean     6.631214e+06\n",
       "std      1.734281e+06\n",
       "min      2.540000e+06\n",
       "25%      5.300000e+06\n",
       "50%      6.649500e+06\n",
       "75%      7.993750e+06\n",
       "max      9.999000e+06\n",
       "Name: last_price, dtype: float64"
      ]
     },
     "metadata": {},
     "output_type": "display_data"
    },
    {
     "name": "stdout",
     "output_type": "stream",
     "text": [
      "Гистограмма\n",
      "\n"
     ]
    },
    {
     "data": {
      "image/png": "[encoded data removed]",
      "text/plain": [
       "<Figure size 648x648 with 1 Axes>"
      ]
     },
     "metadata": {
      "needs_background": "light"
     },
     "output_type": "display_data"
    },
    {
     "name": "stdout",
     "output_type": "stream",
     "text": [
      "\"Ящик с усами\"\n",
      "\n"
     ]
    },
    {
     "data": {
      "image/png": "[encoded data removed]",
      "text/plain": [
       "<Figure size 432x288 with 1 Axes>"
      ]
     },
     "metadata": {
      "needs_background": "light"
     },
     "output_type": "display_data"
    }
   ],
   "source": [
    "print('Данные по центру Санкт_Петербурга', end='\\n')\n",
    "graf(data_spb_center, 'last_price', 100, (2000000, 11000000))"
   ]
  },
  {
   "cell_type": "markdown",
   "metadata": {},
   "source": [
    "#### Исследование числа комнат"
   ]
  },
  {
   "cell_type": "code",
   "execution_count": 45,
   "metadata": {},
   "outputs": [
    {
     "name": "stdout",
     "output_type": "stream",
     "text": [
      "Данные по Санкт_Петербургу\n"
     ]
    },
    {
     "data": {
      "text/plain": [
       "count    9325.000000\n",
       "mean        1.906488\n",
       "std         0.862393\n",
       "min         1.000000\n",
       "25%         1.000000\n",
       "50%         2.000000\n",
       "75%         3.000000\n",
       "max         5.000000\n",
       "Name: rooms, dtype: float64"
      ]
     },
     "metadata": {},
     "output_type": "display_data"
    },
    {
     "name": "stdout",
     "output_type": "stream",
     "text": [
      "Гистограмма\n",
      "\n"
     ]
    },
    {
     "data": {
      "image/png": "[encoded data removed]",
      "text/plain": [
       "<Figure size 648x648 with 1 Axes>"
      ]
     },
     "metadata": {
      "needs_background": "light"
     },
     "output_type": "display_data"
    },
    {
     "name": "stdout",
     "output_type": "stream",
     "text": [
      "\"Ящик с усами\"\n",
      "\n"
     ]
    },
    {
     "data": {
      "image/png": "[encoded data removed]",
      "text/plain": [
       "<Figure size 432x288 with 1 Axes>"
      ]
     },
     "metadata": {
      "needs_background": "light"
     },
     "output_type": "display_data"
    }
   ],
   "source": [
    "print('Данные по Санкт_Петербургу', end='\\n')\n",
    "graf(data_spb, 'rooms', 30, (0,6))"
   ]
  },
  {
   "cell_type": "code",
   "execution_count": 46,
   "metadata": {},
   "outputs": [
    {
     "name": "stdout",
     "output_type": "stream",
     "text": [
      "Данные по центру Санкт_Петербурга\n"
     ]
    },
    {
     "data": {
      "text/plain": [
       "count    1118.000000\n",
       "mean        2.113596\n",
       "std         0.898907\n",
       "min         1.000000\n",
       "25%         1.000000\n",
       "50%         2.000000\n",
       "75%         3.000000\n",
       "max         5.000000\n",
       "Name: rooms, dtype: float64"
      ]
     },
     "metadata": {},
     "output_type": "display_data"
    },
    {
     "name": "stdout",
     "output_type": "stream",
     "text": [
      "Гистограмма\n",
      "\n"
     ]
    },
    {
     "data": {
      "image/png": "[encoded data removed]",
      "text/plain": [
       "<Figure size 648x648 with 1 Axes>"
      ]
     },
     "metadata": {
      "needs_background": "light"
     },
     "output_type": "display_data"
    },
    {
     "name": "stdout",
     "output_type": "stream",
     "text": [
      "\"Ящик с усами\"\n",
      "\n"
     ]
    },
    {
     "data": {
      "image/png": "[encoded data removed]",
      "text/plain": [
       "<Figure size 432x288 with 1 Axes>"
      ]
     },
     "metadata": {
      "needs_background": "light"
     },
     "output_type": "display_data"
    }
   ],
   "source": [
    "print('Данные по центру Санкт_Петербурга', end='\\n')\n",
    "graf(data_spb_center, 'rooms', 30, (0,6))"
   ]
  },
  {
   "cell_type": "markdown",
   "metadata": {},
   "source": [
    "#### Исследование высоты потолков"
   ]
  },
  {
   "cell_type": "code",
   "execution_count": 47,
   "metadata": {},
   "outputs": [
    {
     "name": "stdout",
     "output_type": "stream",
     "text": [
      "Данные по Санкт_Петербургу\n"
     ]
    },
    {
     "data": {
      "text/plain": [
       "count    9325.000000\n",
       "mean        2.653217\n",
       "std         0.137671\n",
       "min         2.000000\n",
       "25%         2.550000\n",
       "50%         2.620000\n",
       "75%         2.750000\n",
       "max         3.000000\n",
       "Name: ceiling_height, dtype: float64"
      ]
     },
     "metadata": {},
     "output_type": "display_data"
    },
    {
     "name": "stdout",
     "output_type": "stream",
     "text": [
      "Гистограмма\n",
      "\n"
     ]
    },
    {
     "data": {
      "image/png": "[encoded data removed]",
      "text/plain": [
       "<Figure size 648x648 with 1 Axes>"
      ]
     },
     "metadata": {
      "needs_background": "light"
     },
     "output_type": "display_data"
    },
    {
     "name": "stdout",
     "output_type": "stream",
     "text": [
      "\"Ящик с усами\"\n",
      "\n"
     ]
    },
    {
     "data": {
      "image/png": "[encoded data removed]",
      "text/plain": [
       "<Figure size 432x288 with 1 Axes>"
      ]
     },
     "metadata": {
      "needs_background": "light"
     },
     "output_type": "display_data"
    }
   ],
   "source": [
    "print('Данные по Санкт_Петербургу', end='\\n')\n",
    "graf(data_spb, 'ceiling_height', 100, (2.2,3.2))"
   ]
  },
  {
   "cell_type": "code",
   "execution_count": 48,
   "metadata": {},
   "outputs": [
    {
     "name": "stdout",
     "output_type": "stream",
     "text": [
      "Данные по центру Санкт_Петербурга\n"
     ]
    },
    {
     "data": {
      "text/plain": [
       "count    1118.000000\n",
       "mean        2.756503\n",
       "std         0.186763\n",
       "min         2.400000\n",
       "25%         2.550000\n",
       "50%         2.750000\n",
       "75%         3.000000\n",
       "max         3.000000\n",
       "Name: ceiling_height, dtype: float64"
      ]
     },
     "metadata": {},
     "output_type": "display_data"
    },
    {
     "name": "stdout",
     "output_type": "stream",
     "text": [
      "Гистограмма\n",
      "\n"
     ]
    },
    {
     "data": {
      "image/png": "[encoded data removed]",
      "text/plain": [
       "<Figure size 648x648 with 1 Axes>"
      ]
     },
     "metadata": {
      "needs_background": "light"
     },
     "output_type": "display_data"
    },
    {
     "name": "stdout",
     "output_type": "stream",
     "text": [
      "\"Ящик с усами\"\n",
      "\n"
     ]
    },
    {
     "data": {
      "image/png": "[encoded data removed]",
      "text/plain": [
       "<Figure size 432x288 with 1 Axes>"
      ]
     },
     "metadata": {
      "needs_background": "light"
     },
     "output_type": "display_data"
    }
   ],
   "source": [
    "print('Данные по центру Санкт_Петербурга', end='\\n')\n",
    "graf(data_spb_center, 'ceiling_height', 100, (2.2,3.2))"
   ]
  },
  {
   "cell_type": "markdown",
   "metadata": {},
   "source": [
    "#### Исследование факторов, влияющих на стоимость квартиры"
   ]
  },
  {
   "cell_type": "code",
   "execution_count": 49,
   "metadata": {},
   "outputs": [],
   "source": [
    "import numpy as np\n",
    "def heatmap_corr(data):\n",
    "    data_corr = data[['last_price', \n",
    "                      'rooms', \n",
    "                      'floor_category_id', \n",
    "                      'cityCenters_nearest_km', \n",
    "                      'day_of_week', \n",
    "                      'month_exposition', \n",
    "                      'year_exposition'\n",
    "                     ]]\n",
    "    matrix = np.triu(data_corr.corr())\n",
    "    sns.heatmap(data_corr.corr(), \n",
    "                annot=True, \n",
    "                vmin=-1, \n",
    "                vmax=1, \n",
    "                center= 0, \n",
    "                cmap='summer',\n",
    "                mask=matrix)\n",
    "    plt.show()"
   ]
  },
  {
   "cell_type": "code",
   "execution_count": 50,
   "metadata": {},
   "outputs": [
    {
     "name": "stdout",
     "output_type": "stream",
     "text": [
      "Тепловая карта корреляции для Санкт-Петербуга\n",
      "\n"
     ]
    },
    {
     "data": {
      "image/png": "[encoded data removed]",
      "text/plain": [
       "<Figure size 432x288 with 2 Axes>"
      ]
     },
     "metadata": {
      "needs_background": "light"
     },
     "output_type": "display_data"
    },
    {
     "name": "stdout",
     "output_type": "stream",
     "text": [
      "Тепловая карта корреляции для центра Санкт-Петербуга\n",
      "\n"
     ]
    },
    {
     "data": {
      "image/png": "[encoded data removed]",
      "text/plain": [
       "<Figure size 432x288 with 2 Axes>"
      ]
     },
     "metadata": {
      "needs_background": "light"
     },
     "output_type": "display_data"
    }
   ],
   "source": [
    "print('Тепловая карта корреляции для Санкт-Петербуга', end='\\n\\n')\n",
    "heatmap_corr(data_spb)\n",
    "print('Тепловая карта корреляции для центра Санкт-Петербуга', end='\\n\\n')\n",
    "heatmap_corr(data_spb_center)"
   ]
  },
  {
   "cell_type": "markdown",
   "metadata": {},
   "source": [
    "### Вывод"
   ]
  },
  {
   "cell_type": "markdown",
   "metadata": {},
   "source": [
    "Сравнив данные по Санкт-Петербургу и по центру города, видны различия по всем исследуемым параметрам, а именно: <br>\n",
    "*  в центре преобладают квартиры с большей площадью\n",
    "*  цены на квартиры в центре дороже в среднем на 2 миллиона\n",
    "*  по всему городу больше продают однокомнатные квартиры, в то время как в центре больше 2-х комнатных\n",
    "*  средняя высота потолков по городу 2,5 - 2,7 м, а в центре большое количество квартир с потолками 3 м\n",
    "*  на стоимость квартир в Санкт-Петербурге сильнее влияет количество комнат и расстояние до центра, чем на стоимость квартир в центре города."
   ]
  },
  {
   "cell_type": "markdown",
   "metadata": {},
   "source": [
    "## Общий вывод"
   ]
  },
  {
   "cell_type": "markdown",
   "metadata": {},
   "source": [
    "Изучив и исследовав все предоставленные данные делаю следующие выводы:\n",
    "*  **на стоимость недвижимости ощутимо влияют несколько параметров:**\n",
    "    - площадь квартиры\n",
    "    - количество комнат\n",
    "    - расстояние до центра города\n",
    "*  **меньше влияния оказывают:**\n",
    "    - этаж (первый и последний стоят дешевле)\n",
    "    - дата размещения объявления, а точнее общие тенденции рынка недвижимости (спад цен либо скачок)"
   ]
  },
  {
   "cell_type": "markdown",
   "metadata": {},
   "source": [
    "## Чек-лист готовности проекта\n",
    "\n",
    "Поставьте 'x' в выполненных пунктах. Далее нажмите Shift+Enter."
   ]
  },
  {
   "cell_type": "markdown",
   "metadata": {},
   "source": [
    "- [x]  открыт файл\n",
    "- [x]  файлы изучены (выведены первые строки, метод info())\n",
    "- [x]  определены пропущенные значения\n",
    "- [x]  заполнены пропущенные значения\n",
    "- [x]  есть пояснение, какие пропущенные значения обнаружены\n",
    "- [x]  изменены типы данных\n",
    "- [x]  есть пояснение, в каких столбцах изменены типы и почему\n",
    "- [x]  посчитано и добавлено в таблицу: цена квадратного метра\n",
    "- [x]  посчитано и добавлено в таблицу: день недели, месяц и год публикации объявления\n",
    "- [x]  посчитано и добавлено в таблицу: этаж квартиры; варианты — первый, последний, другой\n",
    "- [x]  посчитано и добавлено в таблицу: соотношение жилой и общей площади, а также отношение площади кухни к общей\n",
    "- [x]  изучены следующие параметры: площадь, цена, число комнат, высота потолков\n",
    "- [x]  построены гистограммы для каждого параметра\n",
    "- [x]  выполнено задание: \"Изучите время продажи квартиры. Постройте гистограмму. Посчитайте среднее и медиану. Опишите, сколько обычно занимает продажа. Когда можно считать, что продажи прошли очень быстро, а когда необычно долго?\"\n",
    "- [x]  выполнено задание: \"Уберите редкие и выбивающиеся значения. Опишите, какие особенности обнаружили.\"\n",
    "- [x]  выполнено задание: \"Какие факторы больше всего влияют на стоимость квартиры? Изучите, зависит ли цена от квадратного метра, числа комнат, этажа (первого или последнего), удалённости от центра. Также изучите зависимость от даты размещения: дня недели, месяца и года. \"Выберите 10 населённых пунктов с наибольшим числом объявлений. Посчитайте среднюю цену квадратного метра в этих населённых пунктах. Выделите населённые пункты с самой высокой и низкой стоимостью жилья. Эти данные можно найти по имени в столбце '*locality_name'*. \"\n",
    "- [x]  выполнено задание: \"Изучите предложения квартир: для каждой квартиры есть информация о расстоянии до центра. Выделите квартиры в Санкт-Петербурге (*'locality_name'*). Ваша задача — выяснить, какая область входит в центр. Создайте столбец с расстоянием до центра в километрах: округлите до целых значений. После этого посчитайте среднюю цену для каждого километра. Постройте график: он должен показывать, как цена зависит от удалённости от центра. Определите границу, где график сильно меняется — это и будет центральная зона. \"\n",
    "- [x]  выполнено задание: \"Выделите сегмент квартир в центре. Проанализируйте эту территорию и изучите следующие параметры: площадь, цена, число комнат, высота потолков. Также выделите факторы, которые влияют на стоимость квартиры (число комнат, этаж, удалённость от центра, дата размещения объявления). Сделайте выводы. Отличаются ли они от общих выводов по всему городу?\"\n",
    "- [x]  в каждом этапе есть выводы\n",
    "- [x]  есть общий вывод"
   ]
  },
  {
   "cell_type": "code",
   "execution_count": null,
   "metadata": {},
   "outputs": [],
   "source": []
  }
 ],
 "metadata": {
  "kernelspec": {
   "display_name": "Python 3 (ipykernel)",
   "language": "python",
   "name": "python3"
  },
  "language_info": {
   "codemirror_mode": {
    "name": "ipython",
    "version": 3
   },
   "file_extension": ".py",
   "mimetype": "text/x-python",
   "name": "python",
   "nbconvert_exporter": "python",
   "pygments_lexer": "ipython3",
   "version": "3.9.7"
  },
  "toc": {
   "base_numbering": 1,
   "nav_menu": {},
   "number_sections": true,
   "sideBar": true,
   "skip_h1_title": true,
   "title_cell": "Содержание",
   "title_sidebar": "Contents",
   "toc_cell": true,
   "toc_position": {
    "height": "calc(100% - 180px)",
    "left": "10px",
    "top": "150px",
    "width": "252px"
   },
   "toc_section_display": true,
   "toc_window_display": true
  }
 },
 "nbformat": 4,
 "nbformat_minor": 2
}
