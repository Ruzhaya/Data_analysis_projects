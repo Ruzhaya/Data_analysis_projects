{
 "cells": [
  {
   "cell_type": "markdown",
   "id": "1b540fe2",
   "metadata": {
    "toc": true
   },
   "source": [
    "<h1>Содержание<span class=\"tocSkip\"></span></h1>\n",
    "<div class=\"toc\"><ul class=\"toc-item\"><li><span><a href=\"#Изучение-данных-из-файлов\" data-toc-modified-id=\"Изучение-данных-из-файлов-1\"><span class=\"toc-item-num\">1&nbsp;&nbsp;</span>Изучение данных из файлов</a></span><ul class=\"toc-item\"><li><span><a href=\"#Загрузка-библиотек-и-чтение-данных\" data-toc-modified-id=\"Загрузка-библиотек-и-чтение-данных-1.1\"><span class=\"toc-item-num\">1.1&nbsp;&nbsp;</span>Загрузка библиотек и чтение данных</a></span></li><li><span><a href=\"#Изучение-таблиц\" data-toc-modified-id=\"Изучение-таблиц-1.2\"><span class=\"toc-item-num\">1.2&nbsp;&nbsp;</span>Изучение таблиц</a></span></li><li><span><a href=\"#Вывод\" data-toc-modified-id=\"Вывод-1.3\"><span class=\"toc-item-num\">1.3&nbsp;&nbsp;</span>Вывод</a></span></li></ul></li><li><span><a href=\"#Предобработка-данных\" data-toc-modified-id=\"Предобработка-данных-2\"><span class=\"toc-item-num\">2&nbsp;&nbsp;</span>Предобработка данных</a></span><ul class=\"toc-item\"><li><span><a href=\"#Обработка-типов-данных-и-ошибочных-значений\" data-toc-modified-id=\"Обработка-типов-данных-и-ошибочных-значений-2.1\"><span class=\"toc-item-num\">2.1&nbsp;&nbsp;</span>Обработка типов данных и ошибочных значений</a></span><ul class=\"toc-item\"><li><span><a href=\"#Обработка-таблицы-users\" data-toc-modified-id=\"Обработка-таблицы-users-2.1.1\"><span class=\"toc-item-num\">2.1.1&nbsp;&nbsp;</span>Обработка таблицы <code>users</code></a></span></li><li><span><a href=\"#Обработка-таблицы-calls\" data-toc-modified-id=\"Обработка-таблицы-calls-2.1.2\"><span class=\"toc-item-num\">2.1.2&nbsp;&nbsp;</span>Обработка таблицы <code>calls</code></a></span></li><li><span><a href=\"#Обработка-таблицы-messages\" data-toc-modified-id=\"Обработка-таблицы-messages-2.1.3\"><span class=\"toc-item-num\">2.1.3&nbsp;&nbsp;</span>Обработка таблицы <code>messages</code></a></span></li><li><span><a href=\"#Обработка-таблицы-internet\" data-toc-modified-id=\"Обработка-таблицы-internet-2.1.4\"><span class=\"toc-item-num\">2.1.4&nbsp;&nbsp;</span>Обработка таблицы <code>internet</code></a></span></li><li><span><a href=\"#Обработка-таблицы-tariffs\" data-toc-modified-id=\"Обработка-таблицы-tariffs-2.1.5\"><span class=\"toc-item-num\">2.1.5&nbsp;&nbsp;</span>Обработка таблицы <code>tariffs</code></a></span></li><li><span><a href=\"#Вывод\" data-toc-modified-id=\"Вывод-2.1.6\"><span class=\"toc-item-num\">2.1.6&nbsp;&nbsp;</span>Вывод</a></span></li></ul></li><li><span><a href=\"#Рассчеты-для-каждого-пользователя-по-месяцам\" data-toc-modified-id=\"Рассчеты-для-каждого-пользователя-по-месяцам-2.2\"><span class=\"toc-item-num\">2.2&nbsp;&nbsp;</span>Рассчеты для каждого пользователя по месяцам</a></span><ul class=\"toc-item\"><li><span><a href=\"#Количество-и-общая-длительность-звонков\" data-toc-modified-id=\"Количество-и-общая-длительность-звонков-2.2.1\"><span class=\"toc-item-num\">2.2.1&nbsp;&nbsp;</span>Количество и общая длительность звонков</a></span></li><li><span><a href=\"#Количество-SMS\" data-toc-modified-id=\"Количество-SMS-2.2.2\"><span class=\"toc-item-num\">2.2.2&nbsp;&nbsp;</span>Количество <em>SMS</em></a></span></li><li><span><a href=\"#Объем-трафика\" data-toc-modified-id=\"Объем-трафика-2.2.3\"><span class=\"toc-item-num\">2.2.3&nbsp;&nbsp;</span>Объем трафика</a></span></li><li><span><a href=\"#Объединение-таблиц\" data-toc-modified-id=\"Объединение-таблиц-2.2.4\"><span class=\"toc-item-num\">2.2.4&nbsp;&nbsp;</span>Объединение таблиц</a></span></li><li><span><a href=\"#Рассчет-выручки\" data-toc-modified-id=\"Рассчет-выручки-2.2.5\"><span class=\"toc-item-num\">2.2.5&nbsp;&nbsp;</span>Рассчет выручки</a></span></li></ul></li><li><span><a href=\"#Вывод\" data-toc-modified-id=\"Вывод-2.3\"><span class=\"toc-item-num\">2.3&nbsp;&nbsp;</span>Вывод</a></span></li></ul></li><li><span><a href=\"#Анализ-данных\" data-toc-modified-id=\"Анализ-данных-3\"><span class=\"toc-item-num\">3&nbsp;&nbsp;</span>Анализ данных</a></span><ul class=\"toc-item\"><li><span><a href=\"#Анализ-тарифа-smart\" data-toc-modified-id=\"Анализ-тарифа-smart-3.1\"><span class=\"toc-item-num\">3.1&nbsp;&nbsp;</span>Анализ тарифа <code>smart</code></a></span><ul class=\"toc-item\"><li><span><a href=\"#Построение-сводной-таблицы-средних-значений\" data-toc-modified-id=\"Построение-сводной-таблицы-средних-значений-3.1.1\"><span class=\"toc-item-num\">3.1.1&nbsp;&nbsp;</span>Построение сводной таблицы средних значений</a></span></li><li><span><a href=\"#Рассчет-дисперсии-и-стандартного-отклонения\" data-toc-modified-id=\"Рассчет-дисперсии-и-стандартного-отклонения-3.1.2\"><span class=\"toc-item-num\">3.1.2&nbsp;&nbsp;</span>Рассчет дисперсии и стандартного отклонения</a></span></li></ul></li><li><span><a href=\"#Анализ-тарифа-ultra\" data-toc-modified-id=\"Анализ-тарифа-ultra-3.2\"><span class=\"toc-item-num\">3.2&nbsp;&nbsp;</span>Анализ тарифа <code>ultra</code></a></span><ul class=\"toc-item\"><li><span><a href=\"#Построение-сводной-таблицы-средних-значений\" data-toc-modified-id=\"Построение-сводной-таблицы-средних-значений-3.2.1\"><span class=\"toc-item-num\">3.2.1&nbsp;&nbsp;</span>Построение сводной таблицы средних значений</a></span></li><li><span><a href=\"#Рассчет-дисперсии-и-стандартного-отклонения\" data-toc-modified-id=\"Рассчет-дисперсии-и-стандартного-отклонения-3.2.2\"><span class=\"toc-item-num\">3.2.2&nbsp;&nbsp;</span>Рассчет дисперсии и стандартного отклонения</a></span></li></ul></li><li><span><a href=\"#Построение-графиков\" data-toc-modified-id=\"Построение-графиков-3.3\"><span class=\"toc-item-num\">3.3&nbsp;&nbsp;</span>Построение графиков</a></span><ul class=\"toc-item\"><li><span><a href=\"#График-распределения-продолжительности-звонков\" data-toc-modified-id=\"График-распределения-продолжительности-звонков-3.3.1\"><span class=\"toc-item-num\">3.3.1&nbsp;&nbsp;</span>График распределения продолжительности звонков</a></span></li><li><span><a href=\"#График-распределения-sms-сообщений\" data-toc-modified-id=\"График-распределения-sms-сообщений-3.3.2\"><span class=\"toc-item-num\">3.3.2&nbsp;&nbsp;</span>График распределения sms сообщений</a></span></li><li><span><a href=\"#График-распределения-интернет-трафика\" data-toc-modified-id=\"График-распределения-интернет-трафика-3.3.3\"><span class=\"toc-item-num\">3.3.3&nbsp;&nbsp;</span>График распределения интернет трафика</a></span></li></ul></li><li><span><a href=\"#Анализ-показателя-выручка\" data-toc-modified-id=\"Анализ-показателя-выручка-3.4\"><span class=\"toc-item-num\">3.4&nbsp;&nbsp;</span>Анализ показателя <code>выручка</code></a></span><ul class=\"toc-item\"><li><span><a href=\"#Тариф-&quot;Смарт&quot;\" data-toc-modified-id=\"Тариф-&quot;Смарт&quot;-3.4.1\"><span class=\"toc-item-num\">3.4.1&nbsp;&nbsp;</span>Тариф \"Смарт\"</a></span></li><li><span><a href=\"#Тариф-&quot;Ультра&quot;\" data-toc-modified-id=\"Тариф-&quot;Ультра&quot;-3.4.2\"><span class=\"toc-item-num\">3.4.2&nbsp;&nbsp;</span>Тариф \"Ультра\"</a></span></li><li><span><a href=\"#График-распределения-средней-выручки\" data-toc-modified-id=\"График-распределения-средней-выручки-3.4.3\"><span class=\"toc-item-num\">3.4.3&nbsp;&nbsp;</span>График распределения средней выручки</a></span></li></ul></li><li><span><a href=\"#Вывод\" data-toc-modified-id=\"Вывод-3.5\"><span class=\"toc-item-num\">3.5&nbsp;&nbsp;</span>Вывод</a></span></li></ul></li><li><span><a href=\"#Проверка-гипотез\" data-toc-modified-id=\"Проверка-гипотез-4\"><span class=\"toc-item-num\">4&nbsp;&nbsp;</span>Проверка гипотез</a></span><ul class=\"toc-item\"><li><span><a href=\"#Первая-гипотеза\" data-toc-modified-id=\"Первая-гипотеза-4.1\"><span class=\"toc-item-num\">4.1&nbsp;&nbsp;</span>Первая гипотеза</a></span><ul class=\"toc-item\"><li><span><a href=\"#Формируем-нулевую-$H_0$-и-альтернативную-$H_1$-гипотезы\" data-toc-modified-id=\"Формируем-нулевую-$H_0$-и-альтернативную-$H_1$-гипотезы-4.1.1\"><span class=\"toc-item-num\">4.1.1&nbsp;&nbsp;</span>Формируем нулевую $H_0$ и альтернативную $H_1$ гипотезы</a></span></li><li><span><a href=\"#Формируем-выборки-для-проверки\" data-toc-modified-id=\"Формируем-выборки-для-проверки-4.1.2\"><span class=\"toc-item-num\">4.1.2&nbsp;&nbsp;</span>Формируем выборки для проверки</a></span></li><li><span><a href=\"#Проверяем-гипотезу-о-равенстве-двух-совокупностей\" data-toc-modified-id=\"Проверяем-гипотезу-о-равенстве-двух-совокупностей-4.1.3\"><span class=\"toc-item-num\">4.1.3&nbsp;&nbsp;</span>Проверяем гипотезу о равенстве двух совокупностей</a></span></li><li><span><a href=\"#Вывод\" data-toc-modified-id=\"Вывод-4.1.4\"><span class=\"toc-item-num\">4.1.4&nbsp;&nbsp;</span>Вывод</a></span></li></ul></li><li><span><a href=\"#Вторая-гипотеза\" data-toc-modified-id=\"Вторая-гипотеза-4.2\"><span class=\"toc-item-num\">4.2&nbsp;&nbsp;</span>Вторая гипотеза</a></span><ul class=\"toc-item\"><li><span><a href=\"#Формируем-нулевую-$H_0$-и-альтернитивную-$H_1$-гипотезы\" data-toc-modified-id=\"Формируем-нулевую-$H_0$-и-альтернитивную-$H_1$-гипотезы-4.2.1\"><span class=\"toc-item-num\">4.2.1&nbsp;&nbsp;</span>Формируем нулевую $H_0$ и альтернитивную $H_1$ гипотезы</a></span></li><li><span><a href=\"#Формируем-выборки-для-проверки\" data-toc-modified-id=\"Формируем-выборки-для-проверки-4.2.2\"><span class=\"toc-item-num\">4.2.2&nbsp;&nbsp;</span>Формируем выборки для проверки</a></span></li><li><span><a href=\"#Проверяем-гипотезу-о-равенстве-двух-совокупностей\" data-toc-modified-id=\"Проверяем-гипотезу-о-равенстве-двух-совокупностей-4.2.3\"><span class=\"toc-item-num\">4.2.3&nbsp;&nbsp;</span>Проверяем гипотезу о равенстве двух совокупностей</a></span></li><li><span><a href=\"#Вывод\" data-toc-modified-id=\"Вывод-4.2.4\"><span class=\"toc-item-num\">4.2.4&nbsp;&nbsp;</span>Вывод</a></span></li></ul></li></ul></li><li><span><a href=\"#Общий-вывод\" data-toc-modified-id=\"Общий-вывод-5\"><span class=\"toc-item-num\">5&nbsp;&nbsp;</span>Общий вывод</a></span></li></ul></div>"
   ]
  },
  {
   "cell_type": "markdown",
   "id": "b776ebfe",
   "metadata": {},
   "source": [
    "# Исследование тарифов мобильной связи \n",
    "    \n",
    "Вы аналитик компании «Мегалайн» — федерального оператора сотовой связи. Клиентам предлагают два тарифных плана: «Смарт» и «Ультра». Чтобы скорректировать рекламный бюджет, коммерческий департамент хочет понять, какой тариф приносит больше денег.\n",
    "Вам предстоит сделать предварительный анализ тарифов на небольшой выборке клиентов. В вашем распоряжении данные 500 пользователей «Мегалайна»: кто они, откуда, каким тарифом пользуются, сколько звонков и сообщений каждый отправил за 2018 год. Нужно проанализировать поведение клиентов и сделать вывод — какой тариф лучше."
   ]
  },
  {
   "cell_type": "markdown",
   "id": "e0eaf2e3",
   "metadata": {},
   "source": [
    "# Описание тарифов \n",
    "**Тариф «Смарт»**<br>\n",
    "1. Ежемесячная плата: 550 рублей\n",
    "2. Включено 500 минут разговора, 50 сообщений и 15 Гб интернет-трафика\n",
    "3. Стоимость услуг сверх тарифного пакета: 1. минута разговора: 3 рубля («Мегалайн» всегда округляет вверх значения минут и мегабайтов. Если пользователь проговорил всего 1 секунду, в тарифе засчитывается целая минута); 2. сообщение: 3 рубля; 3. 1 Гб интернет-трафика: 200 рублей.\n",
    "**Тариф «Ультра»**<br>\n",
    "1. Ежемесячная плата: 1950 рублей\n",
    "2. Включено 3000 минут разговора, 1000 сообщений и 30 Гб интернет-трафика\n",
    "3. Стоимость услуг сверх тарифного пакета: 1. минута разговора: 1 рубль; 2. сообщение: 1 рубль; 3. 1 Гб интернет-трафика: 150 рублей."
   ]
  },
  {
   "cell_type": "markdown",
   "id": "3971ea37",
   "metadata": {},
   "source": [
    "# Описание данных \n",
    "Таблица `users` (информация о пользователях):<br>\n",
    "* *user_id* — уникальный идентификатор пользователя\n",
    "* *first_name* — имя пользователя\n",
    "* *last_name* — фамилия пользователя\n",
    "* *age* — возраст пользователя (годы)\n",
    "* *reg_date* — дата подключения тарифа (день, месяц, год)\n",
    "* *churn_date* — дата прекращения пользования тарифом (если значение пропущено, то тариф ещё действовал на момент выгрузки данных)\n",
    "* *city* — город проживания пользователя\n",
    "* *tarif* — название тарифного плана <br>\n",
    "\n",
    "Таблица `calls` (информация о звонках):<br>\n",
    "* *id* — уникальный номер звонка\n",
    "* *call_date* — дата звонка\n",
    "* *duration* — длительность звонка в минутах\n",
    "* *user_id* — идентификатор пользователя, сделавшего звонок <br>\n",
    "\n",
    "Таблица `messages` (информация о сообщениях): <br>\n",
    "* *id* — уникальный номер звонка\n",
    "* *message_date* — дата сообщения\n",
    "* *user_id* — идентификатор пользователя, отправившего сообщение <br>\n",
    "\n",
    "Таблица `internet` (информация об интернет-сессиях): <br>\n",
    "* *id* — уникальный номер сессии\n",
    "* *mb_used* — объём потраченного за сессию интернет-трафика (в мегабайтах)\n",
    "* *session_date* — дата интернет-сессии\n",
    "* *user_id* — идентификатор пользователя <br>\n",
    "\n",
    "Таблица `tariffs` (информация о тарифах): <br>\n",
    "* *tariff_name* — название тарифа\n",
    "* *rub_monthly_fee* — ежемесячная абонентская плата в рублях\n",
    "* *minutes_included* — количество минут разговора в месяц, включённых в абонентскую плату\n",
    "* *messages_included* — количество сообщений в месяц, включённых в абонентскую плату\n",
    "* *mb_per_month_included* — объём интернет-трафика, включённого в абонентскую плату (в мегабайтах)\n",
    "* *rub_per_minute* — стоимость минуты разговора сверх тарифного пакета (например, если в тарифе 100 минут разговора в месяц, то со 101 минуты будет взиматься плата)\n",
    "* *rub_per_message* — стоимость отправки сообщения сверх тарифного пакета\n",
    "* *rub_per_gb* — стоимость дополнительного гигабайта интернет-трафика сверх тарифного пакета (1 гигабайт = 1024 мегабайта)"
   ]
  },
  {
   "cell_type": "markdown",
   "id": "1d5a691c",
   "metadata": {},
   "source": [
    "## Изучение данных из файлов"
   ]
  },
  {
   "cell_type": "markdown",
   "id": "db4c212d",
   "metadata": {},
   "source": [
    "### Загрузка библиотек и чтение данных"
   ]
  },
  {
   "cell_type": "code",
   "execution_count": 1,
   "id": "31960dac",
   "metadata": {},
   "outputs": [],
   "source": [
    "import pandas as pd\n",
    "import numpy as np\n",
    "import matplotlib.pyplot as plt\n",
    "import seaborn as sns\n",
    "from scipy import stats as st\n",
    "from math import factorial as ft\n",
    "from math import ceil"
   ]
  },
  {
   "cell_type": "code",
   "execution_count": 2,
   "id": "87820710",
   "metadata": {},
   "outputs": [],
   "source": [
    "try:\n",
    "    users = pd.read_csv('users.csv')\n",
    "    calls = pd.read_csv('calls.csv')\n",
    "    messages = pd.read_csv('messages.csv')\n",
    "    internet = pd.read_csv('internet.csv')\n",
    "    tariffs = pd.read_csv('tariffs.csv')\n",
    "except:\n",
    "    users = pd.read_csv('/datasets/users.csv')\n",
    "    calls = pd.read_csv('/datasets/calls.csv')\n",
    "    messages = pd.read_csv('/datasets/messages.csv')\n",
    "    internet = pd.read_csv('/datasets/internet.csv')\n",
    "    tariffs = pd.read_csv('/datasets/tariffs.csv')"
   ]
  },
  {
   "cell_type": "markdown",
   "id": "0b68b919",
   "metadata": {},
   "source": [
    "### Изучение таблиц"
   ]
  },
  {
   "cell_type": "code",
   "execution_count": 3,
   "id": "d0555b58",
   "metadata": {},
   "outputs": [
    {
     "name": "stdout",
     "output_type": "stream",
     "text": [
      "<class 'pandas.core.frame.DataFrame'>\n",
      "RangeIndex: 500 entries, 0 to 499\n",
      "Data columns (total 8 columns):\n",
      " #   Column      Non-Null Count  Dtype \n",
      "---  ------      --------------  ----- \n",
      " 0   user_id     500 non-null    int64 \n",
      " 1   age         500 non-null    int64 \n",
      " 2   churn_date  38 non-null     object\n",
      " 3   city        500 non-null    object\n",
      " 4   first_name  500 non-null    object\n",
      " 5   last_name   500 non-null    object\n",
      " 6   reg_date    500 non-null    object\n",
      " 7   tariff      500 non-null    object\n",
      "dtypes: int64(2), object(6)\n",
      "memory usage: 31.4+ KB\n"
     ]
    }
   ],
   "source": [
    "users.info()"
   ]
  },
  {
   "cell_type": "code",
   "execution_count": 4,
   "id": "16e5ad87",
   "metadata": {},
   "outputs": [
    {
     "name": "stdout",
     "output_type": "stream",
     "text": [
      "<class 'pandas.core.frame.DataFrame'>\n",
      "RangeIndex: 202607 entries, 0 to 202606\n",
      "Data columns (total 4 columns):\n",
      " #   Column     Non-Null Count   Dtype  \n",
      "---  ------     --------------   -----  \n",
      " 0   id         202607 non-null  object \n",
      " 1   call_date  202607 non-null  object \n",
      " 2   duration   202607 non-null  float64\n",
      " 3   user_id    202607 non-null  int64  \n",
      "dtypes: float64(1), int64(1), object(2)\n",
      "memory usage: 6.2+ MB\n"
     ]
    }
   ],
   "source": [
    "calls.info()"
   ]
  },
  {
   "cell_type": "code",
   "execution_count": 5,
   "id": "6096806e",
   "metadata": {},
   "outputs": [
    {
     "name": "stdout",
     "output_type": "stream",
     "text": [
      "<class 'pandas.core.frame.DataFrame'>\n",
      "RangeIndex: 123036 entries, 0 to 123035\n",
      "Data columns (total 3 columns):\n",
      " #   Column        Non-Null Count   Dtype \n",
      "---  ------        --------------   ----- \n",
      " 0   id            123036 non-null  object\n",
      " 1   message_date  123036 non-null  object\n",
      " 2   user_id       123036 non-null  int64 \n",
      "dtypes: int64(1), object(2)\n",
      "memory usage: 2.8+ MB\n"
     ]
    }
   ],
   "source": [
    "messages.info()"
   ]
  },
  {
   "cell_type": "code",
   "execution_count": 6,
   "id": "2813bf22",
   "metadata": {},
   "outputs": [
    {
     "name": "stdout",
     "output_type": "stream",
     "text": [
      "<class 'pandas.core.frame.DataFrame'>\n",
      "RangeIndex: 149396 entries, 0 to 149395\n",
      "Data columns (total 5 columns):\n",
      " #   Column        Non-Null Count   Dtype  \n",
      "---  ------        --------------   -----  \n",
      " 0   Unnamed: 0    149396 non-null  int64  \n",
      " 1   id            149396 non-null  object \n",
      " 2   mb_used       149396 non-null  float64\n",
      " 3   session_date  149396 non-null  object \n",
      " 4   user_id       149396 non-null  int64  \n",
      "dtypes: float64(1), int64(2), object(2)\n",
      "memory usage: 5.7+ MB\n"
     ]
    }
   ],
   "source": [
    "internet.info()"
   ]
  },
  {
   "cell_type": "code",
   "execution_count": 7,
   "id": "dcc1bffc",
   "metadata": {},
   "outputs": [
    {
     "name": "stdout",
     "output_type": "stream",
     "text": [
      "<class 'pandas.core.frame.DataFrame'>\n",
      "RangeIndex: 2 entries, 0 to 1\n",
      "Data columns (total 8 columns):\n",
      " #   Column                 Non-Null Count  Dtype \n",
      "---  ------                 --------------  ----- \n",
      " 0   messages_included      2 non-null      int64 \n",
      " 1   mb_per_month_included  2 non-null      int64 \n",
      " 2   minutes_included       2 non-null      int64 \n",
      " 3   rub_monthly_fee        2 non-null      int64 \n",
      " 4   rub_per_gb             2 non-null      int64 \n",
      " 5   rub_per_message        2 non-null      int64 \n",
      " 6   rub_per_minute         2 non-null      int64 \n",
      " 7   tariff_name            2 non-null      object\n",
      "dtypes: int64(7), object(1)\n",
      "memory usage: 256.0+ bytes\n"
     ]
    }
   ],
   "source": [
    "tariffs.info()"
   ]
  },
  {
   "cell_type": "code",
   "execution_count": 8,
   "id": "650802c5",
   "metadata": {},
   "outputs": [],
   "source": [
    "def data_info(data):\n",
    "    display(data.info())\n",
    "    display(data.head())\n",
    "    display(data.describe())"
   ]
  },
  {
   "cell_type": "code",
   "execution_count": 9,
   "id": "bacbf496",
   "metadata": {},
   "outputs": [
    {
     "name": "stdout",
     "output_type": "stream",
     "text": [
      "<class 'pandas.core.frame.DataFrame'>\n",
      "RangeIndex: 500 entries, 0 to 499\n",
      "Data columns (total 8 columns):\n",
      " #   Column      Non-Null Count  Dtype \n",
      "---  ------      --------------  ----- \n",
      " 0   user_id     500 non-null    int64 \n",
      " 1   age         500 non-null    int64 \n",
      " 2   churn_date  38 non-null     object\n",
      " 3   city        500 non-null    object\n",
      " 4   first_name  500 non-null    object\n",
      " 5   last_name   500 non-null    object\n",
      " 6   reg_date    500 non-null    object\n",
      " 7   tariff      500 non-null    object\n",
      "dtypes: int64(2), object(6)\n",
      "memory usage: 31.4+ KB\n"
     ]
    },
    {
     "data": {
      "text/plain": [
       "None"
      ]
     },
     "metadata": {},
     "output_type": "display_data"
    },
    {
     "data": {
      "text/html": [
       "<div>\n",
       "<style scoped>\n",
       "    .dataframe tbody tr th:only-of-type {\n",
       "        vertical-align: middle;\n",
       "    }\n",
       "\n",
       "    .dataframe tbody tr th {\n",
       "        vertical-align: top;\n",
       "    }\n",
       "\n",
       "    .dataframe thead th {\n",
       "        text-align: right;\n",
       "    }\n",
       "</style>\n",
       "<table border=\"1\" class=\"dataframe\">\n",
       "  <thead>\n",
       "    <tr style=\"text-align: right;\">\n",
       "      <th></th>\n",
       "      <th>user_id</th>\n",
       "      <th>age</th>\n",
       "      <th>churn_date</th>\n",
       "      <th>city</th>\n",
       "      <th>first_name</th>\n",
       "      <th>last_name</th>\n",
       "      <th>reg_date</th>\n",
       "      <th>tariff</th>\n",
       "    </tr>\n",
       "  </thead>\n",
       "  <tbody>\n",
       "    <tr>\n",
       "      <th>0</th>\n",
       "      <td>1000</td>\n",
       "      <td>52</td>\n",
       "      <td>NaN</td>\n",
       "      <td>Краснодар</td>\n",
       "      <td>Рафаил</td>\n",
       "      <td>Верещагин</td>\n",
       "      <td>2018-05-25</td>\n",
       "      <td>ultra</td>\n",
       "    </tr>\n",
       "    <tr>\n",
       "      <th>1</th>\n",
       "      <td>1001</td>\n",
       "      <td>41</td>\n",
       "      <td>NaN</td>\n",
       "      <td>Москва</td>\n",
       "      <td>Иван</td>\n",
       "      <td>Ежов</td>\n",
       "      <td>2018-11-01</td>\n",
       "      <td>smart</td>\n",
       "    </tr>\n",
       "    <tr>\n",
       "      <th>2</th>\n",
       "      <td>1002</td>\n",
       "      <td>59</td>\n",
       "      <td>NaN</td>\n",
       "      <td>Стерлитамак</td>\n",
       "      <td>Евгений</td>\n",
       "      <td>Абрамович</td>\n",
       "      <td>2018-06-17</td>\n",
       "      <td>smart</td>\n",
       "    </tr>\n",
       "    <tr>\n",
       "      <th>3</th>\n",
       "      <td>1003</td>\n",
       "      <td>23</td>\n",
       "      <td>NaN</td>\n",
       "      <td>Москва</td>\n",
       "      <td>Белла</td>\n",
       "      <td>Белякова</td>\n",
       "      <td>2018-08-17</td>\n",
       "      <td>ultra</td>\n",
       "    </tr>\n",
       "    <tr>\n",
       "      <th>4</th>\n",
       "      <td>1004</td>\n",
       "      <td>68</td>\n",
       "      <td>NaN</td>\n",
       "      <td>Новокузнецк</td>\n",
       "      <td>Татьяна</td>\n",
       "      <td>Авдеенко</td>\n",
       "      <td>2018-05-14</td>\n",
       "      <td>ultra</td>\n",
       "    </tr>\n",
       "  </tbody>\n",
       "</table>\n",
       "</div>"
      ],
      "text/plain": [
       "   user_id  age churn_date         city first_name  last_name    reg_date  \\\n",
       "0     1000   52        NaN    Краснодар     Рафаил  Верещагин  2018-05-25   \n",
       "1     1001   41        NaN       Москва       Иван       Ежов  2018-11-01   \n",
       "2     1002   59        NaN  Стерлитамак    Евгений  Абрамович  2018-06-17   \n",
       "3     1003   23        NaN       Москва      Белла   Белякова  2018-08-17   \n",
       "4     1004   68        NaN  Новокузнецк    Татьяна   Авдеенко  2018-05-14   \n",
       "\n",
       "  tariff  \n",
       "0  ultra  \n",
       "1  smart  \n",
       "2  smart  \n",
       "3  ultra  \n",
       "4  ultra  "
      ]
     },
     "metadata": {},
     "output_type": "display_data"
    },
    {
     "data": {
      "text/html": [
       "<div>\n",
       "<style scoped>\n",
       "    .dataframe tbody tr th:only-of-type {\n",
       "        vertical-align: middle;\n",
       "    }\n",
       "\n",
       "    .dataframe tbody tr th {\n",
       "        vertical-align: top;\n",
       "    }\n",
       "\n",
       "    .dataframe thead th {\n",
       "        text-align: right;\n",
       "    }\n",
       "</style>\n",
       "<table border=\"1\" class=\"dataframe\">\n",
       "  <thead>\n",
       "    <tr style=\"text-align: right;\">\n",
       "      <th></th>\n",
       "      <th>user_id</th>\n",
       "      <th>age</th>\n",
       "    </tr>\n",
       "  </thead>\n",
       "  <tbody>\n",
       "    <tr>\n",
       "      <th>count</th>\n",
       "      <td>500.000000</td>\n",
       "      <td>500.00000</td>\n",
       "    </tr>\n",
       "    <tr>\n",
       "      <th>mean</th>\n",
       "      <td>1249.500000</td>\n",
       "      <td>46.58800</td>\n",
       "    </tr>\n",
       "    <tr>\n",
       "      <th>std</th>\n",
       "      <td>144.481833</td>\n",
       "      <td>16.66763</td>\n",
       "    </tr>\n",
       "    <tr>\n",
       "      <th>min</th>\n",
       "      <td>1000.000000</td>\n",
       "      <td>18.00000</td>\n",
       "    </tr>\n",
       "    <tr>\n",
       "      <th>25%</th>\n",
       "      <td>1124.750000</td>\n",
       "      <td>32.00000</td>\n",
       "    </tr>\n",
       "    <tr>\n",
       "      <th>50%</th>\n",
       "      <td>1249.500000</td>\n",
       "      <td>46.00000</td>\n",
       "    </tr>\n",
       "    <tr>\n",
       "      <th>75%</th>\n",
       "      <td>1374.250000</td>\n",
       "      <td>62.00000</td>\n",
       "    </tr>\n",
       "    <tr>\n",
       "      <th>max</th>\n",
       "      <td>1499.000000</td>\n",
       "      <td>75.00000</td>\n",
       "    </tr>\n",
       "  </tbody>\n",
       "</table>\n",
       "</div>"
      ],
      "text/plain": [
       "           user_id        age\n",
       "count   500.000000  500.00000\n",
       "mean   1249.500000   46.58800\n",
       "std     144.481833   16.66763\n",
       "min    1000.000000   18.00000\n",
       "25%    1124.750000   32.00000\n",
       "50%    1249.500000   46.00000\n",
       "75%    1374.250000   62.00000\n",
       "max    1499.000000   75.00000"
      ]
     },
     "metadata": {},
     "output_type": "display_data"
    }
   ],
   "source": [
    "data_info(users)"
   ]
  },
  {
   "cell_type": "markdown",
   "id": "f37b4226",
   "metadata": {},
   "source": [
    "### Вывод"
   ]
  },
  {
   "cell_type": "markdown",
   "id": "2fe1bc2a",
   "metadata": {},
   "source": [
    "Мы имеем 5 таблиц с данными: <br>\n",
    "* `users` - информация о пользователях (id, возвраст, город, имя и фамилия, даты подключения и отключения тарифа, название тарифа),\n",
    "* `calls` - информация о звонках (id пользователя, id звонка, дата и продолжительность в минутах),\n",
    "* `messages` - информация о сообщениях (id пользователя, id сообщения, дата),\n",
    "* `internet` - информация о интернет трафике (id пользователя, id сессии, дата сессии, количество использованных Mb, а так же ошибочный столбец, дублирующий индексы),\n",
    "* `tariffs` - информация о тарифах (название, количество сообщений, минут и Mb, включенных в пакет, стоимость абонентской платы, а так же стоимость сообщения, минуты и Mb, сверх тарифного пакета)"
   ]
  },
  {
   "cell_type": "markdown",
   "id": "095f6273",
   "metadata": {},
   "source": [
    "## Предобработка данных"
   ]
  },
  {
   "cell_type": "markdown",
   "id": "52570291",
   "metadata": {},
   "source": [
    "### Обработка типов данных и ошибочных значений"
   ]
  },
  {
   "cell_type": "markdown",
   "id": "bab237b6",
   "metadata": {},
   "source": [
    "#### Обработка таблицы `users`"
   ]
  },
  {
   "cell_type": "markdown",
   "id": "7443ce29",
   "metadata": {},
   "source": [
    "Выводим первые 5 строк таблицы, помня о том, что даты в таблице имеют тип `object`, меняем его на `datetime`."
   ]
  },
  {
   "cell_type": "code",
   "execution_count": 10,
   "id": "43126d1f",
   "metadata": {},
   "outputs": [
    {
     "data": {
      "text/html": [
       "<div>\n",
       "<style scoped>\n",
       "    .dataframe tbody tr th:only-of-type {\n",
       "        vertical-align: middle;\n",
       "    }\n",
       "\n",
       "    .dataframe tbody tr th {\n",
       "        vertical-align: top;\n",
       "    }\n",
       "\n",
       "    .dataframe thead th {\n",
       "        text-align: right;\n",
       "    }\n",
       "</style>\n",
       "<table border=\"1\" class=\"dataframe\">\n",
       "  <thead>\n",
       "    <tr style=\"text-align: right;\">\n",
       "      <th></th>\n",
       "      <th>user_id</th>\n",
       "      <th>age</th>\n",
       "      <th>churn_date</th>\n",
       "      <th>city</th>\n",
       "      <th>first_name</th>\n",
       "      <th>last_name</th>\n",
       "      <th>reg_date</th>\n",
       "      <th>tariff</th>\n",
       "    </tr>\n",
       "  </thead>\n",
       "  <tbody>\n",
       "    <tr>\n",
       "      <th>0</th>\n",
       "      <td>1000</td>\n",
       "      <td>52</td>\n",
       "      <td>NaN</td>\n",
       "      <td>Краснодар</td>\n",
       "      <td>Рафаил</td>\n",
       "      <td>Верещагин</td>\n",
       "      <td>2018-05-25</td>\n",
       "      <td>ultra</td>\n",
       "    </tr>\n",
       "    <tr>\n",
       "      <th>1</th>\n",
       "      <td>1001</td>\n",
       "      <td>41</td>\n",
       "      <td>NaN</td>\n",
       "      <td>Москва</td>\n",
       "      <td>Иван</td>\n",
       "      <td>Ежов</td>\n",
       "      <td>2018-11-01</td>\n",
       "      <td>smart</td>\n",
       "    </tr>\n",
       "    <tr>\n",
       "      <th>2</th>\n",
       "      <td>1002</td>\n",
       "      <td>59</td>\n",
       "      <td>NaN</td>\n",
       "      <td>Стерлитамак</td>\n",
       "      <td>Евгений</td>\n",
       "      <td>Абрамович</td>\n",
       "      <td>2018-06-17</td>\n",
       "      <td>smart</td>\n",
       "    </tr>\n",
       "    <tr>\n",
       "      <th>3</th>\n",
       "      <td>1003</td>\n",
       "      <td>23</td>\n",
       "      <td>NaN</td>\n",
       "      <td>Москва</td>\n",
       "      <td>Белла</td>\n",
       "      <td>Белякова</td>\n",
       "      <td>2018-08-17</td>\n",
       "      <td>ultra</td>\n",
       "    </tr>\n",
       "    <tr>\n",
       "      <th>4</th>\n",
       "      <td>1004</td>\n",
       "      <td>68</td>\n",
       "      <td>NaN</td>\n",
       "      <td>Новокузнецк</td>\n",
       "      <td>Татьяна</td>\n",
       "      <td>Авдеенко</td>\n",
       "      <td>2018-05-14</td>\n",
       "      <td>ultra</td>\n",
       "    </tr>\n",
       "  </tbody>\n",
       "</table>\n",
       "</div>"
      ],
      "text/plain": [
       "   user_id  age churn_date         city first_name  last_name    reg_date  \\\n",
       "0     1000   52        NaN    Краснодар     Рафаил  Верещагин  2018-05-25   \n",
       "1     1001   41        NaN       Москва       Иван       Ежов  2018-11-01   \n",
       "2     1002   59        NaN  Стерлитамак    Евгений  Абрамович  2018-06-17   \n",
       "3     1003   23        NaN       Москва      Белла   Белякова  2018-08-17   \n",
       "4     1004   68        NaN  Новокузнецк    Татьяна   Авдеенко  2018-05-14   \n",
       "\n",
       "  tariff  \n",
       "0  ultra  \n",
       "1  smart  \n",
       "2  smart  \n",
       "3  ultra  \n",
       "4  ultra  "
      ]
     },
     "execution_count": 10,
     "metadata": {},
     "output_type": "execute_result"
    }
   ],
   "source": [
    "users.head()"
   ]
  },
  {
   "cell_type": "code",
   "execution_count": 11,
   "id": "b71b3456",
   "metadata": {},
   "outputs": [
    {
     "name": "stdout",
     "output_type": "stream",
     "text": [
      "<class 'pandas.core.frame.DataFrame'>\n",
      "RangeIndex: 500 entries, 0 to 499\n",
      "Data columns (total 8 columns):\n",
      " #   Column      Non-Null Count  Dtype         \n",
      "---  ------      --------------  -----         \n",
      " 0   user_id     500 non-null    int64         \n",
      " 1   age         500 non-null    int64         \n",
      " 2   churn_date  38 non-null     datetime64[ns]\n",
      " 3   city        500 non-null    object        \n",
      " 4   first_name  500 non-null    object        \n",
      " 5   last_name   500 non-null    object        \n",
      " 6   reg_date    500 non-null    datetime64[ns]\n",
      " 7   tariff      500 non-null    object        \n",
      "dtypes: datetime64[ns](2), int64(2), object(4)\n",
      "memory usage: 31.4+ KB\n"
     ]
    },
    {
     "data": {
      "text/html": [
       "<div>\n",
       "<style scoped>\n",
       "    .dataframe tbody tr th:only-of-type {\n",
       "        vertical-align: middle;\n",
       "    }\n",
       "\n",
       "    .dataframe tbody tr th {\n",
       "        vertical-align: top;\n",
       "    }\n",
       "\n",
       "    .dataframe thead th {\n",
       "        text-align: right;\n",
       "    }\n",
       "</style>\n",
       "<table border=\"1\" class=\"dataframe\">\n",
       "  <thead>\n",
       "    <tr style=\"text-align: right;\">\n",
       "      <th></th>\n",
       "      <th>user_id</th>\n",
       "      <th>age</th>\n",
       "      <th>churn_date</th>\n",
       "      <th>city</th>\n",
       "      <th>first_name</th>\n",
       "      <th>last_name</th>\n",
       "      <th>reg_date</th>\n",
       "      <th>tariff</th>\n",
       "    </tr>\n",
       "  </thead>\n",
       "  <tbody>\n",
       "    <tr>\n",
       "      <th>495</th>\n",
       "      <td>1495</td>\n",
       "      <td>65</td>\n",
       "      <td>NaT</td>\n",
       "      <td>Иркутск</td>\n",
       "      <td>Авксентий</td>\n",
       "      <td>Фокин</td>\n",
       "      <td>2018-08-28</td>\n",
       "      <td>ultra</td>\n",
       "    </tr>\n",
       "    <tr>\n",
       "      <th>496</th>\n",
       "      <td>1496</td>\n",
       "      <td>36</td>\n",
       "      <td>NaT</td>\n",
       "      <td>Вологда</td>\n",
       "      <td>Трифон</td>\n",
       "      <td>Блохин</td>\n",
       "      <td>2018-01-27</td>\n",
       "      <td>smart</td>\n",
       "    </tr>\n",
       "    <tr>\n",
       "      <th>497</th>\n",
       "      <td>1497</td>\n",
       "      <td>32</td>\n",
       "      <td>NaT</td>\n",
       "      <td>Челябинск</td>\n",
       "      <td>Каролина</td>\n",
       "      <td>Агеева</td>\n",
       "      <td>2018-10-09</td>\n",
       "      <td>smart</td>\n",
       "    </tr>\n",
       "    <tr>\n",
       "      <th>498</th>\n",
       "      <td>1498</td>\n",
       "      <td>68</td>\n",
       "      <td>2018-10-25</td>\n",
       "      <td>Владикавказ</td>\n",
       "      <td>Всеволод</td>\n",
       "      <td>Акимчин</td>\n",
       "      <td>2018-07-19</td>\n",
       "      <td>smart</td>\n",
       "    </tr>\n",
       "    <tr>\n",
       "      <th>499</th>\n",
       "      <td>1499</td>\n",
       "      <td>35</td>\n",
       "      <td>NaT</td>\n",
       "      <td>Пермь</td>\n",
       "      <td>Гектор</td>\n",
       "      <td>Корнилов</td>\n",
       "      <td>2018-09-27</td>\n",
       "      <td>smart</td>\n",
       "    </tr>\n",
       "  </tbody>\n",
       "</table>\n",
       "</div>"
      ],
      "text/plain": [
       "     user_id  age churn_date         city first_name last_name   reg_date  \\\n",
       "495     1495   65        NaT      Иркутск  Авксентий     Фокин 2018-08-28   \n",
       "496     1496   36        NaT      Вологда     Трифон    Блохин 2018-01-27   \n",
       "497     1497   32        NaT    Челябинск   Каролина    Агеева 2018-10-09   \n",
       "498     1498   68 2018-10-25  Владикавказ   Всеволод   Акимчин 2018-07-19   \n",
       "499     1499   35        NaT        Пермь     Гектор  Корнилов 2018-09-27   \n",
       "\n",
       "    tariff  \n",
       "495  ultra  \n",
       "496  smart  \n",
       "497  smart  \n",
       "498  smart  \n",
       "499  smart  "
      ]
     },
     "execution_count": 11,
     "metadata": {},
     "output_type": "execute_result"
    }
   ],
   "source": [
    "users['churn_date'] = pd.to_datetime(users['churn_date'], format= '%Y-%m-%d')\n",
    "users['reg_date'] = pd.to_datetime(users['reg_date'], format= '%Y-%m-%d')\n",
    "users.info()\n",
    "users.tail()"
   ]
  },
  {
   "cell_type": "markdown",
   "id": "a57dc871",
   "metadata": {},
   "source": [
    "#### Обработка таблицы `calls`"
   ]
  },
  {
   "cell_type": "markdown",
   "id": "fbae1de5",
   "metadata": {},
   "source": [
    "Так же выводим первые 5 строк, меняем тип колонки `call_date` на `datetime` и добавляем новый столбец `month`, который хванит месяц из даты звонка."
   ]
  },
  {
   "cell_type": "code",
   "execution_count": 12,
   "id": "377bacf5",
   "metadata": {},
   "outputs": [
    {
     "data": {
      "text/html": [
       "<div>\n",
       "<style scoped>\n",
       "    .dataframe tbody tr th:only-of-type {\n",
       "        vertical-align: middle;\n",
       "    }\n",
       "\n",
       "    .dataframe tbody tr th {\n",
       "        vertical-align: top;\n",
       "    }\n",
       "\n",
       "    .dataframe thead th {\n",
       "        text-align: right;\n",
       "    }\n",
       "</style>\n",
       "<table border=\"1\" class=\"dataframe\">\n",
       "  <thead>\n",
       "    <tr style=\"text-align: right;\">\n",
       "      <th></th>\n",
       "      <th>id</th>\n",
       "      <th>call_date</th>\n",
       "      <th>duration</th>\n",
       "      <th>user_id</th>\n",
       "    </tr>\n",
       "  </thead>\n",
       "  <tbody>\n",
       "    <tr>\n",
       "      <th>0</th>\n",
       "      <td>1000_0</td>\n",
       "      <td>2018-07-25</td>\n",
       "      <td>0.00</td>\n",
       "      <td>1000</td>\n",
       "    </tr>\n",
       "    <tr>\n",
       "      <th>1</th>\n",
       "      <td>1000_1</td>\n",
       "      <td>2018-08-17</td>\n",
       "      <td>0.00</td>\n",
       "      <td>1000</td>\n",
       "    </tr>\n",
       "    <tr>\n",
       "      <th>2</th>\n",
       "      <td>1000_2</td>\n",
       "      <td>2018-06-11</td>\n",
       "      <td>2.85</td>\n",
       "      <td>1000</td>\n",
       "    </tr>\n",
       "    <tr>\n",
       "      <th>3</th>\n",
       "      <td>1000_3</td>\n",
       "      <td>2018-09-21</td>\n",
       "      <td>13.80</td>\n",
       "      <td>1000</td>\n",
       "    </tr>\n",
       "    <tr>\n",
       "      <th>4</th>\n",
       "      <td>1000_4</td>\n",
       "      <td>2018-12-15</td>\n",
       "      <td>5.18</td>\n",
       "      <td>1000</td>\n",
       "    </tr>\n",
       "  </tbody>\n",
       "</table>\n",
       "</div>"
      ],
      "text/plain": [
       "       id   call_date  duration  user_id\n",
       "0  1000_0  2018-07-25      0.00     1000\n",
       "1  1000_1  2018-08-17      0.00     1000\n",
       "2  1000_2  2018-06-11      2.85     1000\n",
       "3  1000_3  2018-09-21     13.80     1000\n",
       "4  1000_4  2018-12-15      5.18     1000"
      ]
     },
     "execution_count": 12,
     "metadata": {},
     "output_type": "execute_result"
    }
   ],
   "source": [
    "calls.head()"
   ]
  },
  {
   "cell_type": "code",
   "execution_count": 13,
   "id": "9c5550da",
   "metadata": {},
   "outputs": [
    {
     "name": "stdout",
     "output_type": "stream",
     "text": [
      "<class 'pandas.core.frame.DataFrame'>\n",
      "RangeIndex: 202607 entries, 0 to 202606\n",
      "Data columns (total 5 columns):\n",
      " #   Column     Non-Null Count   Dtype         \n",
      "---  ------     --------------   -----         \n",
      " 0   id_call    202607 non-null  object        \n",
      " 1   call_date  202607 non-null  datetime64[ns]\n",
      " 2   duration   202607 non-null  float64       \n",
      " 3   user_id    202607 non-null  int64         \n",
      " 4   month      202607 non-null  period[M]     \n",
      "dtypes: datetime64[ns](1), float64(1), int64(1), object(1), period[M](1)\n",
      "memory usage: 7.7+ MB\n"
     ]
    }
   ],
   "source": [
    "calls['call_date'] = pd.to_datetime(calls['call_date'], format = '%Y-%m-%d')\n",
    "calls['month'] = calls['call_date'].dt.to_period('M')\n",
    "calls.columns = ['id_call', 'call_date', 'duration', 'user_id', 'month']\n",
    "calls.info()"
   ]
  },
  {
   "cell_type": "markdown",
   "id": "f417f132",
   "metadata": {},
   "source": [
    "#### Обработка таблицы `messages`"
   ]
  },
  {
   "cell_type": "markdown",
   "id": "e7ddd348",
   "metadata": {},
   "source": [
    "Меняем тип колонки `message_date` на `datetime`, так же добавляем столбец `month`, по аналогии с таблицей *calls*."
   ]
  },
  {
   "cell_type": "code",
   "execution_count": 14,
   "id": "3a9dbe2f",
   "metadata": {},
   "outputs": [
    {
     "data": {
      "text/html": [
       "<div>\n",
       "<style scoped>\n",
       "    .dataframe tbody tr th:only-of-type {\n",
       "        vertical-align: middle;\n",
       "    }\n",
       "\n",
       "    .dataframe tbody tr th {\n",
       "        vertical-align: top;\n",
       "    }\n",
       "\n",
       "    .dataframe thead th {\n",
       "        text-align: right;\n",
       "    }\n",
       "</style>\n",
       "<table border=\"1\" class=\"dataframe\">\n",
       "  <thead>\n",
       "    <tr style=\"text-align: right;\">\n",
       "      <th></th>\n",
       "      <th>id</th>\n",
       "      <th>message_date</th>\n",
       "      <th>user_id</th>\n",
       "    </tr>\n",
       "  </thead>\n",
       "  <tbody>\n",
       "    <tr>\n",
       "      <th>0</th>\n",
       "      <td>1000_0</td>\n",
       "      <td>2018-06-27</td>\n",
       "      <td>1000</td>\n",
       "    </tr>\n",
       "    <tr>\n",
       "      <th>1</th>\n",
       "      <td>1000_1</td>\n",
       "      <td>2018-10-08</td>\n",
       "      <td>1000</td>\n",
       "    </tr>\n",
       "    <tr>\n",
       "      <th>2</th>\n",
       "      <td>1000_2</td>\n",
       "      <td>2018-08-04</td>\n",
       "      <td>1000</td>\n",
       "    </tr>\n",
       "    <tr>\n",
       "      <th>3</th>\n",
       "      <td>1000_3</td>\n",
       "      <td>2018-06-16</td>\n",
       "      <td>1000</td>\n",
       "    </tr>\n",
       "    <tr>\n",
       "      <th>4</th>\n",
       "      <td>1000_4</td>\n",
       "      <td>2018-12-05</td>\n",
       "      <td>1000</td>\n",
       "    </tr>\n",
       "  </tbody>\n",
       "</table>\n",
       "</div>"
      ],
      "text/plain": [
       "       id message_date  user_id\n",
       "0  1000_0   2018-06-27     1000\n",
       "1  1000_1   2018-10-08     1000\n",
       "2  1000_2   2018-08-04     1000\n",
       "3  1000_3   2018-06-16     1000\n",
       "4  1000_4   2018-12-05     1000"
      ]
     },
     "execution_count": 14,
     "metadata": {},
     "output_type": "execute_result"
    }
   ],
   "source": [
    "messages.head()"
   ]
  },
  {
   "cell_type": "code",
   "execution_count": 15,
   "id": "2d9bcd6a",
   "metadata": {},
   "outputs": [
    {
     "name": "stdout",
     "output_type": "stream",
     "text": [
      "<class 'pandas.core.frame.DataFrame'>\n",
      "RangeIndex: 123036 entries, 0 to 123035\n",
      "Data columns (total 4 columns):\n",
      " #   Column        Non-Null Count   Dtype         \n",
      "---  ------        --------------   -----         \n",
      " 0   id_message    123036 non-null  object        \n",
      " 1   message_date  123036 non-null  datetime64[ns]\n",
      " 2   user_id       123036 non-null  int64         \n",
      " 3   month         123036 non-null  period[M]     \n",
      "dtypes: datetime64[ns](1), int64(1), object(1), period[M](1)\n",
      "memory usage: 3.8+ MB\n"
     ]
    }
   ],
   "source": [
    "messages['message_date'] = pd.to_datetime(messages['message_date'], format = '%Y-%m-%d')\n",
    "messages['month'] = messages['message_date'].dt.to_period('M')\n",
    "messages.columns = ['id_message', 'message_date', 'user_id', 'month']\n",
    "messages.info()"
   ]
  },
  {
   "cell_type": "markdown",
   "id": "2aab6e45",
   "metadata": {},
   "source": [
    "#### Обработка таблицы `internet`"
   ]
  },
  {
   "cell_type": "markdown",
   "id": "f54c35e2",
   "metadata": {},
   "source": [
    "Выводим первые 5 строк таблицы, удаляем столбец `Unnamed:0`, столбец с датой переводим в тип `datetime`, добавляем столбец с месяцем."
   ]
  },
  {
   "cell_type": "code",
   "execution_count": 16,
   "id": "a738f360",
   "metadata": {},
   "outputs": [
    {
     "data": {
      "text/html": [
       "<div>\n",
       "<style scoped>\n",
       "    .dataframe tbody tr th:only-of-type {\n",
       "        vertical-align: middle;\n",
       "    }\n",
       "\n",
       "    .dataframe tbody tr th {\n",
       "        vertical-align: top;\n",
       "    }\n",
       "\n",
       "    .dataframe thead th {\n",
       "        text-align: right;\n",
       "    }\n",
       "</style>\n",
       "<table border=\"1\" class=\"dataframe\">\n",
       "  <thead>\n",
       "    <tr style=\"text-align: right;\">\n",
       "      <th></th>\n",
       "      <th>Unnamed: 0</th>\n",
       "      <th>id</th>\n",
       "      <th>mb_used</th>\n",
       "      <th>session_date</th>\n",
       "      <th>user_id</th>\n",
       "    </tr>\n",
       "  </thead>\n",
       "  <tbody>\n",
       "    <tr>\n",
       "      <th>0</th>\n",
       "      <td>0</td>\n",
       "      <td>1000_0</td>\n",
       "      <td>112.95</td>\n",
       "      <td>2018-11-25</td>\n",
       "      <td>1000</td>\n",
       "    </tr>\n",
       "    <tr>\n",
       "      <th>1</th>\n",
       "      <td>1</td>\n",
       "      <td>1000_1</td>\n",
       "      <td>1052.81</td>\n",
       "      <td>2018-09-07</td>\n",
       "      <td>1000</td>\n",
       "    </tr>\n",
       "    <tr>\n",
       "      <th>2</th>\n",
       "      <td>2</td>\n",
       "      <td>1000_2</td>\n",
       "      <td>1197.26</td>\n",
       "      <td>2018-06-25</td>\n",
       "      <td>1000</td>\n",
       "    </tr>\n",
       "    <tr>\n",
       "      <th>3</th>\n",
       "      <td>3</td>\n",
       "      <td>1000_3</td>\n",
       "      <td>550.27</td>\n",
       "      <td>2018-08-22</td>\n",
       "      <td>1000</td>\n",
       "    </tr>\n",
       "    <tr>\n",
       "      <th>4</th>\n",
       "      <td>4</td>\n",
       "      <td>1000_4</td>\n",
       "      <td>302.56</td>\n",
       "      <td>2018-09-24</td>\n",
       "      <td>1000</td>\n",
       "    </tr>\n",
       "    <tr>\n",
       "      <th>5</th>\n",
       "      <td>5</td>\n",
       "      <td>1000_5</td>\n",
       "      <td>399.97</td>\n",
       "      <td>2018-10-02</td>\n",
       "      <td>1000</td>\n",
       "    </tr>\n",
       "    <tr>\n",
       "      <th>6</th>\n",
       "      <td>6</td>\n",
       "      <td>1000_6</td>\n",
       "      <td>540.08</td>\n",
       "      <td>2018-09-07</td>\n",
       "      <td>1000</td>\n",
       "    </tr>\n",
       "    <tr>\n",
       "      <th>7</th>\n",
       "      <td>7</td>\n",
       "      <td>1000_7</td>\n",
       "      <td>415.70</td>\n",
       "      <td>2018-07-11</td>\n",
       "      <td>1000</td>\n",
       "    </tr>\n",
       "    <tr>\n",
       "      <th>8</th>\n",
       "      <td>8</td>\n",
       "      <td>1000_8</td>\n",
       "      <td>505.40</td>\n",
       "      <td>2018-10-08</td>\n",
       "      <td>1000</td>\n",
       "    </tr>\n",
       "    <tr>\n",
       "      <th>9</th>\n",
       "      <td>9</td>\n",
       "      <td>1000_9</td>\n",
       "      <td>345.54</td>\n",
       "      <td>2018-09-03</td>\n",
       "      <td>1000</td>\n",
       "    </tr>\n",
       "  </tbody>\n",
       "</table>\n",
       "</div>"
      ],
      "text/plain": [
       "   Unnamed: 0      id  mb_used session_date  user_id\n",
       "0           0  1000_0   112.95   2018-11-25     1000\n",
       "1           1  1000_1  1052.81   2018-09-07     1000\n",
       "2           2  1000_2  1197.26   2018-06-25     1000\n",
       "3           3  1000_3   550.27   2018-08-22     1000\n",
       "4           4  1000_4   302.56   2018-09-24     1000\n",
       "5           5  1000_5   399.97   2018-10-02     1000\n",
       "6           6  1000_6   540.08   2018-09-07     1000\n",
       "7           7  1000_7   415.70   2018-07-11     1000\n",
       "8           8  1000_8   505.40   2018-10-08     1000\n",
       "9           9  1000_9   345.54   2018-09-03     1000"
      ]
     },
     "execution_count": 16,
     "metadata": {},
     "output_type": "execute_result"
    }
   ],
   "source": [
    "internet.head(10)"
   ]
  },
  {
   "cell_type": "code",
   "execution_count": 17,
   "id": "43bbcd27",
   "metadata": {},
   "outputs": [
    {
     "name": "stdout",
     "output_type": "stream",
     "text": [
      "<class 'pandas.core.frame.DataFrame'>\n",
      "RangeIndex: 149396 entries, 0 to 149395\n",
      "Data columns (total 5 columns):\n",
      " #   Column        Non-Null Count   Dtype         \n",
      "---  ------        --------------   -----         \n",
      " 0   id_session    149396 non-null  object        \n",
      " 1   mb_used       149396 non-null  float64       \n",
      " 2   session_date  149396 non-null  datetime64[ns]\n",
      " 3   user_id       149396 non-null  int64         \n",
      " 4   month         149396 non-null  period[M]     \n",
      "dtypes: datetime64[ns](1), float64(1), int64(1), object(1), period[M](1)\n",
      "memory usage: 5.7+ MB\n"
     ]
    }
   ],
   "source": [
    "internet = internet.drop(columns = ['Unnamed: 0'], axis=1)\n",
    "internet['session_date'] = pd.to_datetime(internet['session_date'], format = '%Y-%m-%d')\n",
    "internet['month'] = internet['session_date'].dt.to_period('M')\n",
    "internet.columns = ['id_session', 'mb_used', 'session_date', 'user_id', 'month']\n",
    "internet.info()"
   ]
  },
  {
   "cell_type": "markdown",
   "id": "e1ea4a99",
   "metadata": {},
   "source": [
    "#### Обработка таблицы `tariffs`"
   ]
  },
  {
   "cell_type": "markdown",
   "id": "57716175",
   "metadata": {},
   "source": [
    "Переводим значения в столбце `mb_per_month` из Mb в Gb, для удобства подсчета"
   ]
  },
  {
   "cell_type": "code",
   "execution_count": 18,
   "id": "2282faf4",
   "metadata": {},
   "outputs": [
    {
     "data": {
      "text/html": [
       "<div>\n",
       "<style scoped>\n",
       "    .dataframe tbody tr th:only-of-type {\n",
       "        vertical-align: middle;\n",
       "    }\n",
       "\n",
       "    .dataframe tbody tr th {\n",
       "        vertical-align: top;\n",
       "    }\n",
       "\n",
       "    .dataframe thead th {\n",
       "        text-align: right;\n",
       "    }\n",
       "</style>\n",
       "<table border=\"1\" class=\"dataframe\">\n",
       "  <thead>\n",
       "    <tr style=\"text-align: right;\">\n",
       "      <th></th>\n",
       "      <th>messages_included</th>\n",
       "      <th>mb_per_month_included</th>\n",
       "      <th>minutes_included</th>\n",
       "      <th>rub_monthly_fee</th>\n",
       "      <th>rub_per_gb</th>\n",
       "      <th>rub_per_message</th>\n",
       "      <th>rub_per_minute</th>\n",
       "      <th>tariff_name</th>\n",
       "    </tr>\n",
       "  </thead>\n",
       "  <tbody>\n",
       "    <tr>\n",
       "      <th>0</th>\n",
       "      <td>50</td>\n",
       "      <td>15360</td>\n",
       "      <td>500</td>\n",
       "      <td>550</td>\n",
       "      <td>200</td>\n",
       "      <td>3</td>\n",
       "      <td>3</td>\n",
       "      <td>smart</td>\n",
       "    </tr>\n",
       "    <tr>\n",
       "      <th>1</th>\n",
       "      <td>1000</td>\n",
       "      <td>30720</td>\n",
       "      <td>3000</td>\n",
       "      <td>1950</td>\n",
       "      <td>150</td>\n",
       "      <td>1</td>\n",
       "      <td>1</td>\n",
       "      <td>ultra</td>\n",
       "    </tr>\n",
       "  </tbody>\n",
       "</table>\n",
       "</div>"
      ],
      "text/plain": [
       "   messages_included  mb_per_month_included  minutes_included  \\\n",
       "0                 50                  15360               500   \n",
       "1               1000                  30720              3000   \n",
       "\n",
       "   rub_monthly_fee  rub_per_gb  rub_per_message  rub_per_minute tariff_name  \n",
       "0              550         200                3               3       smart  \n",
       "1             1950         150                1               1       ultra  "
      ]
     },
     "metadata": {},
     "output_type": "display_data"
    },
    {
     "data": {
      "text/html": [
       "<div>\n",
       "<style scoped>\n",
       "    .dataframe tbody tr th:only-of-type {\n",
       "        vertical-align: middle;\n",
       "    }\n",
       "\n",
       "    .dataframe tbody tr th {\n",
       "        vertical-align: top;\n",
       "    }\n",
       "\n",
       "    .dataframe thead th {\n",
       "        text-align: right;\n",
       "    }\n",
       "</style>\n",
       "<table border=\"1\" class=\"dataframe\">\n",
       "  <thead>\n",
       "    <tr style=\"text-align: right;\">\n",
       "      <th></th>\n",
       "      <th>messages_included</th>\n",
       "      <th>gb_per_month_included</th>\n",
       "      <th>minutes_included</th>\n",
       "      <th>rub_monthly_fee</th>\n",
       "      <th>rub_per_gb</th>\n",
       "      <th>rub_per_message</th>\n",
       "      <th>rub_per_minute</th>\n",
       "      <th>tariff_name</th>\n",
       "    </tr>\n",
       "  </thead>\n",
       "  <tbody>\n",
       "    <tr>\n",
       "      <th>0</th>\n",
       "      <td>50</td>\n",
       "      <td>15.0</td>\n",
       "      <td>500</td>\n",
       "      <td>550</td>\n",
       "      <td>200</td>\n",
       "      <td>3</td>\n",
       "      <td>3</td>\n",
       "      <td>smart</td>\n",
       "    </tr>\n",
       "    <tr>\n",
       "      <th>1</th>\n",
       "      <td>1000</td>\n",
       "      <td>30.0</td>\n",
       "      <td>3000</td>\n",
       "      <td>1950</td>\n",
       "      <td>150</td>\n",
       "      <td>1</td>\n",
       "      <td>1</td>\n",
       "      <td>ultra</td>\n",
       "    </tr>\n",
       "  </tbody>\n",
       "</table>\n",
       "</div>"
      ],
      "text/plain": [
       "   messages_included  gb_per_month_included  minutes_included  \\\n",
       "0                 50                   15.0               500   \n",
       "1               1000                   30.0              3000   \n",
       "\n",
       "   rub_monthly_fee  rub_per_gb  rub_per_message  rub_per_minute tariff_name  \n",
       "0              550         200                3               3       smart  \n",
       "1             1950         150                1               1       ultra  "
      ]
     },
     "execution_count": 18,
     "metadata": {},
     "output_type": "execute_result"
    }
   ],
   "source": [
    "display(tariffs)\n",
    "tariffs['mb_per_month_included'] = (tariffs['mb_per_month_included'] / 1024).round()\n",
    "tariffs = tariffs.rename(columns={'mb_per_month_included': 'gb_per_month_included'})\n",
    "tariffs"
   ]
  },
  {
   "cell_type": "markdown",
   "id": "c89b9651",
   "metadata": {},
   "source": [
    "#### Вывод"
   ]
  },
  {
   "cell_type": "markdown",
   "id": "0e0d18c0",
   "metadata": {},
   "source": [
    "Все табличные значения приведены к нужным типам, добавлены столбцы с месяцем, взятым из дат звонков/сообщений/интернет сессиий для группировки "
   ]
  },
  {
   "cell_type": "markdown",
   "id": "1480cf6a",
   "metadata": {},
   "source": [
    "### Рассчеты для каждого пользователя по месяцам"
   ]
  },
  {
   "cell_type": "markdown",
   "id": "f153c91d",
   "metadata": {},
   "source": [
    "#### Количество и общая длительность звонков"
   ]
  },
  {
   "cell_type": "code",
   "execution_count": 19,
   "id": "1a356fe3",
   "metadata": {},
   "outputs": [
    {
     "name": "stdout",
     "output_type": "stream",
     "text": [
      "<class 'pandas.core.frame.DataFrame'>\n",
      "RangeIndex: 3174 entries, 0 to 3173\n",
      "Data columns (total 4 columns):\n",
      " #   Column          Non-Null Count  Dtype    \n",
      "---  ------          --------------  -----    \n",
      " 0   user_id         3174 non-null   int64    \n",
      " 1   month           3174 non-null   period[M]\n",
      " 2   count_calls     3174 non-null   int64    \n",
      " 3   duration_calls  3174 non-null   int64    \n",
      "dtypes: int64(3), period[M](1)\n",
      "memory usage: 99.3 KB\n"
     ]
    }
   ],
   "source": [
    "calls_count = (calls\n",
    "               .pivot_table(index=['user_id','month'], values='duration', aggfunc=['count', 'sum'])\n",
    "               .fillna(0)\n",
    "               .apply(np.ceil)\n",
    "               .astype('int64')\n",
    "               .reset_index()\n",
    "              )\n",
    "calls_count.columns = ['user_id', 'month', 'count_calls', 'duration_calls']\n",
    "calls_count.info()"
   ]
  },
  {
   "cell_type": "markdown",
   "id": "74f65e39",
   "metadata": {},
   "source": [
    "#### Количество *SMS*"
   ]
  },
  {
   "cell_type": "code",
   "execution_count": 20,
   "id": "ebde6780",
   "metadata": {},
   "outputs": [
    {
     "name": "stdout",
     "output_type": "stream",
     "text": [
      "<class 'pandas.core.frame.DataFrame'>\n",
      "RangeIndex: 2717 entries, 0 to 2716\n",
      "Data columns (total 3 columns):\n",
      " #   Column          Non-Null Count  Dtype    \n",
      "---  ------          --------------  -----    \n",
      " 0   user_id         2717 non-null   int64    \n",
      " 1   month           2717 non-null   period[M]\n",
      " 2   count_messages  2717 non-null   int64    \n",
      "dtypes: int64(2), period[M](1)\n",
      "memory usage: 63.8 KB\n"
     ]
    }
   ],
   "source": [
    "message_count = (messages\n",
    "                 .pivot_table(index=['user_id', 'month'], values='id_message', aggfunc='count')\n",
    "                 .fillna(0)\n",
    "                 .rename(columns={'id_message':'count_messages'})\n",
    "                 .reset_index()\n",
    "                 )\n",
    "message_count.info()"
   ]
  },
  {
   "cell_type": "markdown",
   "id": "68b8c314",
   "metadata": {},
   "source": [
    "#### Объем трафика"
   ]
  },
  {
   "cell_type": "code",
   "execution_count": 21,
   "id": "f1c21e7a",
   "metadata": {},
   "outputs": [
    {
     "name": "stdout",
     "output_type": "stream",
     "text": [
      "<class 'pandas.core.frame.DataFrame'>\n",
      "RangeIndex: 3203 entries, 0 to 3202\n",
      "Data columns (total 3 columns):\n",
      " #   Column   Non-Null Count  Dtype    \n",
      "---  ------   --------------  -----    \n",
      " 0   user_id  3203 non-null   int64    \n",
      " 1   month    3203 non-null   period[M]\n",
      " 2   gb_used  3203 non-null   float64  \n",
      "dtypes: float64(1), int64(1), period[M](1)\n",
      "memory usage: 75.2 KB\n"
     ]
    }
   ],
   "source": [
    "session_count = ((internet\n",
    "                 .pivot_table(index=['user_id', 'month'], values='mb_used', aggfunc='sum')\n",
    "                 .fillna(0))/1024).apply(np.ceil).reset_index()\n",
    "                 \n",
    "session_count = session_count.rename(columns={'mb_used':'gb_used'})\n",
    "session_count.info()"
   ]
  },
  {
   "cell_type": "markdown",
   "id": "85ce3207",
   "metadata": {},
   "source": [
    "#### Объединение таблиц"
   ]
  },
  {
   "cell_type": "code",
   "execution_count": 22,
   "id": "3c061d58",
   "metadata": {},
   "outputs": [
    {
     "name": "stdout",
     "output_type": "stream",
     "text": [
      "<class 'pandas.core.frame.DataFrame'>\n",
      "Int64Index: 3214 entries, 0 to 3213\n",
      "Data columns (total 6 columns):\n",
      " #   Column          Non-Null Count  Dtype    \n",
      "---  ------          --------------  -----    \n",
      " 0   user_id         3214 non-null   int64    \n",
      " 1   month           3214 non-null   period[M]\n",
      " 2   gb_used         3203 non-null   float64  \n",
      " 3   count_calls     3174 non-null   float64  \n",
      " 4   duration_calls  3174 non-null   float64  \n",
      " 5   count_messages  2717 non-null   float64  \n",
      "dtypes: float64(4), int64(1), period[M](1)\n",
      "memory usage: 175.8 KB\n"
     ]
    }
   ],
   "source": [
    "df = session_count.merge(calls_count, on=['user_id', 'month'], how='outer')\n",
    "df = df.merge(message_count, on=['user_id', 'month'], how='left')\n",
    "df.info()"
   ]
  },
  {
   "cell_type": "code",
   "execution_count": 23,
   "id": "19c554b2",
   "metadata": {},
   "outputs": [
    {
     "name": "stdout",
     "output_type": "stream",
     "text": [
      "<class 'pandas.core.frame.DataFrame'>\n",
      "Int64Index: 3216 entries, 0 to 3215\n",
      "Data columns (total 15 columns):\n",
      " #   Column                 Non-Null Count  Dtype    \n",
      "---  ------                 --------------  -----    \n",
      " 0   user_id                3216 non-null   int64    \n",
      " 1   month                  3214 non-null   period[M]\n",
      " 2   gb_used                3203 non-null   float64  \n",
      " 3   count_calls            3174 non-null   float64  \n",
      " 4   duration_calls         3174 non-null   float64  \n",
      " 5   count_messages         2717 non-null   float64  \n",
      " 6   city                   3216 non-null   object   \n",
      " 7   tariff_name            3216 non-null   object   \n",
      " 8   messages_included      3216 non-null   int64    \n",
      " 9   gb_per_month_included  3216 non-null   float64  \n",
      " 10  minutes_included       3216 non-null   int64    \n",
      " 11  rub_monthly_fee        3216 non-null   int64    \n",
      " 12  rub_per_gb             3216 non-null   int64    \n",
      " 13  rub_per_message        3216 non-null   int64    \n",
      " 14  rub_per_minute         3216 non-null   int64    \n",
      "dtypes: float64(5), int64(7), object(2), period[M](1)\n",
      "memory usage: 402.0+ KB\n"
     ]
    }
   ],
   "source": [
    "users_df = users[['user_id', 'city', 'tariff']]\n",
    "users_df = (users_df\n",
    "            .rename(columns={'tariff':'tariff_name'})\n",
    "            .merge(tariffs, on='tariff_name', how='left')\n",
    "            )\n",
    "df = df.merge(users_df, on='user_id', how='outer')\n",
    "df.info()"
   ]
  },
  {
   "cell_type": "code",
   "execution_count": 24,
   "id": "44a38822",
   "metadata": {},
   "outputs": [
    {
     "data": {
      "text/plain": [
       "(3216, 15)"
      ]
     },
     "execution_count": 24,
     "metadata": {},
     "output_type": "execute_result"
    }
   ],
   "source": [
    "df.shape"
   ]
  },
  {
   "cell_type": "code",
   "execution_count": 25,
   "id": "bd713095",
   "metadata": {},
   "outputs": [
    {
     "data": {
      "text/plain": [
       "500"
      ]
     },
     "execution_count": 25,
     "metadata": {},
     "output_type": "execute_result"
    }
   ],
   "source": [
    "df.user_id.nunique()"
   ]
  },
  {
   "cell_type": "markdown",
   "id": "5f1c4118",
   "metadata": {},
   "source": [
    "#### Рассчет выручки"
   ]
  },
  {
   "cell_type": "code",
   "execution_count": 26,
   "id": "3cfe2d41",
   "metadata": {},
   "outputs": [],
   "source": [
    "def revenue(row):\n",
    "    payment = row['rub_monthly_fee']\n",
    "    if row['duration_calls'] > row['minutes_included']:\n",
    "        payment += (row['duration_calls'] - row['minutes_included']) * row['rub_per_minute']\n",
    "    if row['count_messages'] > row['messages_included']: \n",
    "        payment += (row['count_messages'] - row['messages_included']) * row['rub_per_message']\n",
    "    if row['gb_used'] > row['gb_per_month_included']:\n",
    "        payment += (row['gb_used'] - row['gb_per_month_included']) * row['rub_per_gb']\n",
    "    return payment"
   ]
  },
  {
   "cell_type": "code",
   "execution_count": 27,
   "id": "1907ef24",
   "metadata": {
    "scrolled": true
   },
   "outputs": [
    {
     "data": {
      "text/html": [
       "<div>\n",
       "<style scoped>\n",
       "    .dataframe tbody tr th:only-of-type {\n",
       "        vertical-align: middle;\n",
       "    }\n",
       "\n",
       "    .dataframe tbody tr th {\n",
       "        vertical-align: top;\n",
       "    }\n",
       "\n",
       "    .dataframe thead th {\n",
       "        text-align: right;\n",
       "    }\n",
       "</style>\n",
       "<table border=\"1\" class=\"dataframe\">\n",
       "  <thead>\n",
       "    <tr style=\"text-align: right;\">\n",
       "      <th></th>\n",
       "      <th>user_id</th>\n",
       "      <th>month</th>\n",
       "      <th>gb_used</th>\n",
       "      <th>count_calls</th>\n",
       "      <th>duration_calls</th>\n",
       "      <th>count_messages</th>\n",
       "      <th>city</th>\n",
       "      <th>tariff_name</th>\n",
       "      <th>messages_included</th>\n",
       "      <th>gb_per_month_included</th>\n",
       "      <th>minutes_included</th>\n",
       "      <th>rub_monthly_fee</th>\n",
       "      <th>rub_per_gb</th>\n",
       "      <th>rub_per_message</th>\n",
       "      <th>rub_per_minute</th>\n",
       "      <th>revenue</th>\n",
       "    </tr>\n",
       "  </thead>\n",
       "  <tbody>\n",
       "    <tr>\n",
       "      <th>0</th>\n",
       "      <td>1000</td>\n",
       "      <td>2018-05</td>\n",
       "      <td>3.0</td>\n",
       "      <td>22.0</td>\n",
       "      <td>151.0</td>\n",
       "      <td>22.0</td>\n",
       "      <td>Краснодар</td>\n",
       "      <td>ultra</td>\n",
       "      <td>1000</td>\n",
       "      <td>30.0</td>\n",
       "      <td>3000</td>\n",
       "      <td>1950</td>\n",
       "      <td>150</td>\n",
       "      <td>1</td>\n",
       "      <td>1</td>\n",
       "      <td>1950.0</td>\n",
       "    </tr>\n",
       "    <tr>\n",
       "      <th>1</th>\n",
       "      <td>1000</td>\n",
       "      <td>2018-06</td>\n",
       "      <td>23.0</td>\n",
       "      <td>43.0</td>\n",
       "      <td>159.0</td>\n",
       "      <td>60.0</td>\n",
       "      <td>Краснодар</td>\n",
       "      <td>ultra</td>\n",
       "      <td>1000</td>\n",
       "      <td>30.0</td>\n",
       "      <td>3000</td>\n",
       "      <td>1950</td>\n",
       "      <td>150</td>\n",
       "      <td>1</td>\n",
       "      <td>1</td>\n",
       "      <td>1950.0</td>\n",
       "    </tr>\n",
       "    <tr>\n",
       "      <th>2</th>\n",
       "      <td>1000</td>\n",
       "      <td>2018-07</td>\n",
       "      <td>14.0</td>\n",
       "      <td>47.0</td>\n",
       "      <td>319.0</td>\n",
       "      <td>75.0</td>\n",
       "      <td>Краснодар</td>\n",
       "      <td>ultra</td>\n",
       "      <td>1000</td>\n",
       "      <td>30.0</td>\n",
       "      <td>3000</td>\n",
       "      <td>1950</td>\n",
       "      <td>150</td>\n",
       "      <td>1</td>\n",
       "      <td>1</td>\n",
       "      <td>1950.0</td>\n",
       "    </tr>\n",
       "    <tr>\n",
       "      <th>3</th>\n",
       "      <td>1000</td>\n",
       "      <td>2018-08</td>\n",
       "      <td>14.0</td>\n",
       "      <td>52.0</td>\n",
       "      <td>390.0</td>\n",
       "      <td>81.0</td>\n",
       "      <td>Краснодар</td>\n",
       "      <td>ultra</td>\n",
       "      <td>1000</td>\n",
       "      <td>30.0</td>\n",
       "      <td>3000</td>\n",
       "      <td>1950</td>\n",
       "      <td>150</td>\n",
       "      <td>1</td>\n",
       "      <td>1</td>\n",
       "      <td>1950.0</td>\n",
       "    </tr>\n",
       "    <tr>\n",
       "      <th>4</th>\n",
       "      <td>1000</td>\n",
       "      <td>2018-09</td>\n",
       "      <td>15.0</td>\n",
       "      <td>58.0</td>\n",
       "      <td>441.0</td>\n",
       "      <td>57.0</td>\n",
       "      <td>Краснодар</td>\n",
       "      <td>ultra</td>\n",
       "      <td>1000</td>\n",
       "      <td>30.0</td>\n",
       "      <td>3000</td>\n",
       "      <td>1950</td>\n",
       "      <td>150</td>\n",
       "      <td>1</td>\n",
       "      <td>1</td>\n",
       "      <td>1950.0</td>\n",
       "    </tr>\n",
       "  </tbody>\n",
       "</table>\n",
       "</div>"
      ],
      "text/plain": [
       "   user_id    month  gb_used  count_calls  duration_calls  count_messages  \\\n",
       "0     1000  2018-05      3.0         22.0           151.0            22.0   \n",
       "1     1000  2018-06     23.0         43.0           159.0            60.0   \n",
       "2     1000  2018-07     14.0         47.0           319.0            75.0   \n",
       "3     1000  2018-08     14.0         52.0           390.0            81.0   \n",
       "4     1000  2018-09     15.0         58.0           441.0            57.0   \n",
       "\n",
       "        city tariff_name  messages_included  gb_per_month_included  \\\n",
       "0  Краснодар       ultra               1000                   30.0   \n",
       "1  Краснодар       ultra               1000                   30.0   \n",
       "2  Краснодар       ultra               1000                   30.0   \n",
       "3  Краснодар       ultra               1000                   30.0   \n",
       "4  Краснодар       ultra               1000                   30.0   \n",
       "\n",
       "   minutes_included  rub_monthly_fee  rub_per_gb  rub_per_message  \\\n",
       "0              3000             1950         150                1   \n",
       "1              3000             1950         150                1   \n",
       "2              3000             1950         150                1   \n",
       "3              3000             1950         150                1   \n",
       "4              3000             1950         150                1   \n",
       "\n",
       "   rub_per_minute  revenue  \n",
       "0               1   1950.0  \n",
       "1               1   1950.0  \n",
       "2               1   1950.0  \n",
       "3               1   1950.0  \n",
       "4               1   1950.0  "
      ]
     },
     "execution_count": 27,
     "metadata": {},
     "output_type": "execute_result"
    }
   ],
   "source": [
    "df['revenue'] = df.apply(revenue, axis=1)\n",
    "df.head()"
   ]
  },
  {
   "cell_type": "code",
   "execution_count": 28,
   "id": "0bf75ad8",
   "metadata": {},
   "outputs": [],
   "source": [
    "def revenue_upd(row):\n",
    "    payment = row['rub_monthly_fee']\n",
    "    if row['duration_calls'] > row['minutes_included']:\n",
    "        payment += (row['duration_calls'] - row['minutes_included']) * row['rub_per_minute']\n",
    "    if row['count_messages'] > row['messages_included']: \n",
    "        payment += (row['count_messages'] - row['messages_included']) * row['rub_per_message']\n",
    "    if row['gb_used'] > row['gb_per_month_included']:\n",
    "        payment += (row['gb_used'] - row['gb_per_month_included']) * row['rub_per_gb']\n",
    "    return payment"
   ]
  },
  {
   "cell_type": "code",
   "execution_count": 29,
   "id": "7e447cbd",
   "metadata": {},
   "outputs": [],
   "source": [
    "df['revenue_upd'] = df.apply(revenue_upd, axis=1)"
   ]
  },
  {
   "cell_type": "code",
   "execution_count": 30,
   "id": "4f75ea86",
   "metadata": {
    "scrolled": true
   },
   "outputs": [
    {
     "data": {
      "text/plain": [
       "count    3216.000000\n",
       "mean     1506.456779\n",
       "std       792.772579\n",
       "min       550.000000\n",
       "25%       741.250000\n",
       "50%      1565.500000\n",
       "75%      1950.000000\n",
       "max      6614.000000\n",
       "Name: revenue, dtype: float64"
      ]
     },
     "execution_count": 30,
     "metadata": {},
     "output_type": "execute_result"
    }
   ],
   "source": [
    "df['revenue'].describe()"
   ]
  },
  {
   "cell_type": "code",
   "execution_count": 31,
   "id": "c7653df8",
   "metadata": {},
   "outputs": [
    {
     "data": {
      "text/plain": [
       "count    3216.000000\n",
       "mean     1506.456779\n",
       "std       792.772579\n",
       "min       550.000000\n",
       "25%       741.250000\n",
       "50%      1565.500000\n",
       "75%      1950.000000\n",
       "max      6614.000000\n",
       "Name: revenue_upd, dtype: float64"
      ]
     },
     "execution_count": 31,
     "metadata": {},
     "output_type": "execute_result"
    }
   ],
   "source": [
    "df['revenue_upd'].describe()"
   ]
  },
  {
   "cell_type": "markdown",
   "id": "f9d2b0e5",
   "metadata": {},
   "source": [
    "### Вывод"
   ]
  },
  {
   "cell_type": "markdown",
   "id": "cb68f0ea",
   "metadata": {},
   "source": [
    "Подготовлена таблица, со всеми, интересующими нас значениями, для последующего анализа."
   ]
  },
  {
   "cell_type": "markdown",
   "id": "72a87db6",
   "metadata": {},
   "source": [
    "## Анализ данных"
   ]
  },
  {
   "cell_type": "markdown",
   "id": "b56d4c22",
   "metadata": {},
   "source": [
    "### Анализ тарифа `smart`"
   ]
  },
  {
   "cell_type": "markdown",
   "id": "06d7df29",
   "metadata": {},
   "source": [
    "#### Построение сводной таблицы средних значений"
   ]
  },
  {
   "cell_type": "code",
   "execution_count": 32,
   "id": "866ae1fe",
   "metadata": {},
   "outputs": [
    {
     "data": {
      "text/html": [
       "<div>\n",
       "<style scoped>\n",
       "    .dataframe tbody tr th:only-of-type {\n",
       "        vertical-align: middle;\n",
       "    }\n",
       "\n",
       "    .dataframe tbody tr th {\n",
       "        vertical-align: top;\n",
       "    }\n",
       "\n",
       "    .dataframe thead th {\n",
       "        text-align: right;\n",
       "    }\n",
       "</style>\n",
       "<table border=\"1\" class=\"dataframe\">\n",
       "  <thead>\n",
       "    <tr style=\"text-align: right;\">\n",
       "      <th></th>\n",
       "      <th>count_messages</th>\n",
       "      <th>duration_calls</th>\n",
       "      <th>gb_used</th>\n",
       "    </tr>\n",
       "  </thead>\n",
       "  <tbody>\n",
       "    <tr>\n",
       "      <th>count</th>\n",
       "      <td>302.000000</td>\n",
       "      <td>349.000000</td>\n",
       "      <td>350.000000</td>\n",
       "    </tr>\n",
       "    <tr>\n",
       "      <th>mean</th>\n",
       "      <td>37.575606</td>\n",
       "      <td>397.697371</td>\n",
       "      <td>16.318233</td>\n",
       "    </tr>\n",
       "    <tr>\n",
       "      <th>std</th>\n",
       "      <td>24.849738</td>\n",
       "      <td>135.570316</td>\n",
       "      <td>3.498822</td>\n",
       "    </tr>\n",
       "    <tr>\n",
       "      <th>min</th>\n",
       "      <td>1.000000</td>\n",
       "      <td>12.090909</td>\n",
       "      <td>5.727273</td>\n",
       "    </tr>\n",
       "    <tr>\n",
       "      <th>25%</th>\n",
       "      <td>19.000000</td>\n",
       "      <td>299.636364</td>\n",
       "      <td>14.027778</td>\n",
       "    </tr>\n",
       "    <tr>\n",
       "      <th>50%</th>\n",
       "      <td>33.000000</td>\n",
       "      <td>401.500000</td>\n",
       "      <td>16.333333</td>\n",
       "    </tr>\n",
       "    <tr>\n",
       "      <th>75%</th>\n",
       "      <td>54.000000</td>\n",
       "      <td>491.400000</td>\n",
       "      <td>18.691667</td>\n",
       "    </tr>\n",
       "    <tr>\n",
       "      <th>max</th>\n",
       "      <td>118.000000</td>\n",
       "      <td>843.000000</td>\n",
       "      <td>27.250000</td>\n",
       "    </tr>\n",
       "  </tbody>\n",
       "</table>\n",
       "</div>"
      ],
      "text/plain": [
       "       count_messages  duration_calls     gb_used\n",
       "count      302.000000      349.000000  350.000000\n",
       "mean        37.575606      397.697371   16.318233\n",
       "std         24.849738      135.570316    3.498822\n",
       "min          1.000000       12.090909    5.727273\n",
       "25%         19.000000      299.636364   14.027778\n",
       "50%         33.000000      401.500000   16.333333\n",
       "75%         54.000000      491.400000   18.691667\n",
       "max        118.000000      843.000000   27.250000"
      ]
     },
     "execution_count": 32,
     "metadata": {},
     "output_type": "execute_result"
    }
   ],
   "source": [
    "df_smart = (df\n",
    "            .query('tariff_name == \"smart\"')\n",
    "            .pivot_table(index=['user_id'],\n",
    "                         values=['duration_calls', 'count_messages', 'gb_used'],\n",
    "                         aggfunc='mean')\n",
    "            .reset_index(drop=True)\n",
    "            \n",
    ")\n",
    "df_smart.describe()"
   ]
  },
  {
   "cell_type": "markdown",
   "id": "5b8dd0c8",
   "metadata": {},
   "source": [
    "#### Рассчет дисперсии и стандартного отклонения"
   ]
  },
  {
   "cell_type": "code",
   "execution_count": 33,
   "id": "0ac851a3",
   "metadata": {},
   "outputs": [
    {
     "name": "stdout",
     "output_type": "stream",
     "text": [
      "Количество SMS\n",
      "\n",
      "Дисперсия: 617.51\n",
      "Стандартное отклонение: 24.85\n"
     ]
    }
   ],
   "source": [
    "print('Количество SMS', end='\\n\\n')\n",
    "print('Дисперсия:', round(np.var(df_smart['count_messages'], ddof=1), 2))\n",
    "print('Стандартное отклонение:', round(np.std(df_smart['count_messages'], ddof=1), 2))"
   ]
  },
  {
   "cell_type": "code",
   "execution_count": 34,
   "id": "1280f07b",
   "metadata": {},
   "outputs": [
    {
     "name": "stdout",
     "output_type": "stream",
     "text": [
      "Продолжительность звонков\n",
      "\n",
      "Дисперсия: 18379.31\n",
      "Стандартное отклонение: 135.57\n"
     ]
    }
   ],
   "source": [
    "print('Продолжительность звонков', end='\\n\\n')\n",
    "print('Дисперсия:', round(np.var(df_smart['duration_calls'], ddof=1), 2))\n",
    "print('Стандартное отклонение:', round(np.std(df_smart['duration_calls'], ddof=1), 2))"
   ]
  },
  {
   "cell_type": "code",
   "execution_count": 35,
   "id": "9f192a37",
   "metadata": {},
   "outputs": [
    {
     "name": "stdout",
     "output_type": "stream",
     "text": [
      "Объем трафика\n",
      "\n",
      "Дисперсия: 12.24\n",
      "Стандартное отклонение: 3.5\n"
     ]
    }
   ],
   "source": [
    "print('Объем трафика', end='\\n\\n')\n",
    "print('Дисперсия:', round(np.var(df_smart['gb_used'], ddof=1), 2))\n",
    "print('Стандартное отклонение:', round(np.std(df_smart['gb_used'], ddof=1), 2))"
   ]
  },
  {
   "cell_type": "markdown",
   "id": "3c6f3136",
   "metadata": {},
   "source": [
    "### Анализ тарифа `ultra`"
   ]
  },
  {
   "cell_type": "markdown",
   "id": "e9094d2c",
   "metadata": {},
   "source": [
    "#### Построение сводной таблицы средних значений"
   ]
  },
  {
   "cell_type": "code",
   "execution_count": 36,
   "id": "9528ca57",
   "metadata": {},
   "outputs": [
    {
     "data": {
      "text/html": [
       "<div>\n",
       "<style scoped>\n",
       "    .dataframe tbody tr th:only-of-type {\n",
       "        vertical-align: middle;\n",
       "    }\n",
       "\n",
       "    .dataframe tbody tr th {\n",
       "        vertical-align: top;\n",
       "    }\n",
       "\n",
       "    .dataframe thead th {\n",
       "        text-align: right;\n",
       "    }\n",
       "</style>\n",
       "<table border=\"1\" class=\"dataframe\">\n",
       "  <thead>\n",
       "    <tr style=\"text-align: right;\">\n",
       "      <th></th>\n",
       "      <th>count_messages</th>\n",
       "      <th>duration_calls</th>\n",
       "      <th>gb_used</th>\n",
       "    </tr>\n",
       "  </thead>\n",
       "  <tbody>\n",
       "    <tr>\n",
       "      <th>count</th>\n",
       "      <td>124.000000</td>\n",
       "      <td>143.000000</td>\n",
       "      <td>147.000000</td>\n",
       "    </tr>\n",
       "    <tr>\n",
       "      <th>mean</th>\n",
       "      <td>64.555802</td>\n",
       "      <td>516.580292</td>\n",
       "      <td>19.740824</td>\n",
       "    </tr>\n",
       "    <tr>\n",
       "      <th>std</th>\n",
       "      <td>43.390612</td>\n",
       "      <td>253.112247</td>\n",
       "      <td>7.970582</td>\n",
       "    </tr>\n",
       "    <tr>\n",
       "      <th>min</th>\n",
       "      <td>3.000000</td>\n",
       "      <td>9.285714</td>\n",
       "      <td>2.500000</td>\n",
       "    </tr>\n",
       "    <tr>\n",
       "      <th>25%</th>\n",
       "      <td>28.000000</td>\n",
       "      <td>324.700000</td>\n",
       "      <td>15.000000</td>\n",
       "    </tr>\n",
       "    <tr>\n",
       "      <th>50%</th>\n",
       "      <td>57.800000</td>\n",
       "      <td>497.625000</td>\n",
       "      <td>18.800000</td>\n",
       "    </tr>\n",
       "    <tr>\n",
       "      <th>75%</th>\n",
       "      <td>89.000000</td>\n",
       "      <td>708.000000</td>\n",
       "      <td>25.791667</td>\n",
       "    </tr>\n",
       "    <tr>\n",
       "      <th>max</th>\n",
       "      <td>192.000000</td>\n",
       "      <td>1114.727273</td>\n",
       "      <td>38.500000</td>\n",
       "    </tr>\n",
       "  </tbody>\n",
       "</table>\n",
       "</div>"
      ],
      "text/plain": [
       "       count_messages  duration_calls     gb_used\n",
       "count      124.000000      143.000000  147.000000\n",
       "mean        64.555802      516.580292   19.740824\n",
       "std         43.390612      253.112247    7.970582\n",
       "min          3.000000        9.285714    2.500000\n",
       "25%         28.000000      324.700000   15.000000\n",
       "50%         57.800000      497.625000   18.800000\n",
       "75%         89.000000      708.000000   25.791667\n",
       "max        192.000000     1114.727273   38.500000"
      ]
     },
     "execution_count": 36,
     "metadata": {},
     "output_type": "execute_result"
    }
   ],
   "source": [
    "df_ultra = (df\n",
    " .query('tariff_name == \"ultra\"')\n",
    " .pivot_table(index=['user_id'],\n",
    "              values=['duration_calls', 'count_messages', 'gb_used'],\n",
    "              aggfunc='mean')\n",
    " .reset_index(drop=True)\n",
    " \n",
    ")\n",
    "df_ultra.describe()"
   ]
  },
  {
   "cell_type": "markdown",
   "id": "b6c6bfa2",
   "metadata": {},
   "source": [
    "#### Рассчет дисперсии и стандартного отклонения"
   ]
  },
  {
   "cell_type": "code",
   "execution_count": 37,
   "id": "f2ca5d9f",
   "metadata": {},
   "outputs": [
    {
     "name": "stdout",
     "output_type": "stream",
     "text": [
      "Количество SMS\n",
      "\n",
      "Дисперсия: 1882.75\n",
      "Стандартное отклонение: 43.39\n"
     ]
    }
   ],
   "source": [
    "print('Количество SMS', end='\\n\\n')\n",
    "print('Дисперсия:', round(np.var(df_ultra['count_messages'], ddof=1), 2))\n",
    "print('Стандартное отклонение:', round(np.std(df_ultra['count_messages'], ddof=1), 2))"
   ]
  },
  {
   "cell_type": "code",
   "execution_count": 38,
   "id": "e68baf02",
   "metadata": {},
   "outputs": [
    {
     "name": "stdout",
     "output_type": "stream",
     "text": [
      "Продолжительность звонков\n",
      "\n",
      "Дисперсия: 64065.81\n",
      "Стандартное отклонение: 253.11\n"
     ]
    }
   ],
   "source": [
    "print('Продолжительность звонков', end='\\n\\n')\n",
    "print('Дисперсия:', round(np.var(df_ultra['duration_calls'], ddof=1), 2))\n",
    "print('Стандартное отклонение:', round(np.std(df_ultra['duration_calls'], ddof=1), 2))"
   ]
  },
  {
   "cell_type": "code",
   "execution_count": 39,
   "id": "de920f52",
   "metadata": {},
   "outputs": [
    {
     "name": "stdout",
     "output_type": "stream",
     "text": [
      "Объем трафика\n",
      "\n",
      "Дисперсия: 63.53\n",
      "Стандартное отклонение: 7.97\n"
     ]
    }
   ],
   "source": [
    "print('Объем трафика', end='\\n\\n')\n",
    "print('Дисперсия:', round(np.var(df_ultra['gb_used'], ddof=1), 2))\n",
    "print('Стандартное отклонение:', round(np.std(df_ultra['gb_used'], ddof=1), 2))"
   ]
  },
  {
   "cell_type": "markdown",
   "id": "12a797e7",
   "metadata": {},
   "source": [
    "### Построение графиков"
   ]
  },
  {
   "cell_type": "markdown",
   "id": "277dc544",
   "metadata": {},
   "source": [
    "#### График распределения продолжительности звонков"
   ]
  },
  {
   "cell_type": "code",
   "execution_count": 40,
   "id": "bf58b50e",
   "metadata": {},
   "outputs": [
    {
     "data": {
      "image/png": "[encoded data removed]",
      "text/plain": [
       "<Figure size 1080x720 with 1 Axes>"
      ]
     },
     "metadata": {
      "needs_background": "light"
     },
     "output_type": "display_data"
    }
   ],
   "source": [
    "plt.figure(figsize = (15, 10))\n",
    "plt.title('График распределения продолжительности звонков')\n",
    "plt.xlabel('Продолжительность, мин.')\n",
    "plt.ylabel('Частота')\n",
    "\n",
    "plt.annotate(\"\", xy=(500,20), xytext=(1700, 20),\n",
    "            arrowprops=dict(facecolor='black', shrink=0.05))\n",
    "plt.annotate(\"\", xy=(3000,20), xytext=(1700, 20),\n",
    "            arrowprops=dict(facecolor='black', shrink=0.05))\n",
    "plt.text(1400, 21, \"Лимиты по тарифам\", fontsize=15)\n",
    "\n",
    "plt.hist(df_smart['duration_calls'], bins=50, alpha=0.5, label='smart')\n",
    "plt.hist(df_ultra['duration_calls'], bins=50, alpha=0.5, label='ultra')\n",
    "plt.vlines(500, ymin=0, ymax=25,color = 'b')\n",
    "plt.vlines(3000, ymin=0, ymax=25,color = 'r')\n",
    "plt.legend(loc='upper center')\n",
    "plt.show()"
   ]
  },
  {
   "cell_type": "markdown",
   "id": "920bef94",
   "metadata": {},
   "source": [
    "#### График распределения sms сообщений"
   ]
  },
  {
   "cell_type": "code",
   "execution_count": 41,
   "id": "d80be643",
   "metadata": {},
   "outputs": [
    {
     "data": {
      "image/png": "[encoded data removed]",
      "text/plain": [
       "<Figure size 1080x720 with 1 Axes>"
      ]
     },
     "metadata": {
      "needs_background": "light"
     },
     "output_type": "display_data"
    }
   ],
   "source": [
    "plt.figure(figsize = (15, 10))\n",
    "plt.title('График распределения sms сообщений')\n",
    "plt.xlabel('Количество, шт.')\n",
    "plt.ylabel('Частота')\n",
    "\n",
    "plt.annotate(\"\", xy=(50,20), xytext=(500, 20),\n",
    "            arrowprops=dict(facecolor='black', shrink=0.05))\n",
    "plt.annotate(\"\", xy=(1000,20), xytext=(500, 20),\n",
    "            arrowprops=dict(facecolor='black', shrink=0.05))\n",
    "plt.text(400, 21, \"Лимиты по тарифам\", fontsize=15)\n",
    "\n",
    "plt.hist(df_smart['count_messages'], bins=40, alpha=0.5, label='smart')\n",
    "plt.hist(df_ultra['count_messages'], bins=40, alpha=0.5, label='ultra')\n",
    "plt.vlines(50, ymin=0, ymax=25,color = 'b')\n",
    "plt.vlines(1000, ymin=0, ymax=25,color = 'r')\n",
    "plt.legend(loc='upper center')\n",
    "plt.show()"
   ]
  },
  {
   "cell_type": "markdown",
   "id": "4c355a96",
   "metadata": {},
   "source": [
    "#### График распределения интернет трафика"
   ]
  },
  {
   "cell_type": "code",
   "execution_count": 42,
   "id": "bf3e580e",
   "metadata": {},
   "outputs": [
    {
     "data": {
      "image/png": "[encoded data removed]",
      "text/plain": [
       "<Figure size 1080x720 with 1 Axes>"
      ]
     },
     "metadata": {
      "needs_background": "light"
     },
     "output_type": "display_data"
    }
   ],
   "source": [
    "plt.figure(figsize = (15, 10))\n",
    "plt.title('График распределения интернет трафика')\n",
    "plt.xlabel('Объем, Гб')\n",
    "plt.ylabel('Частота')\n",
    "\n",
    "plt.annotate(\"\", xy=(15,27), xytext=(23, 27),\n",
    "            arrowprops=dict(facecolor='black', shrink=0.05))\n",
    "plt.annotate(\"\", xy=(30,27), xytext=(23, 27),\n",
    "            arrowprops=dict(facecolor='black', shrink=0.05))\n",
    "plt.text(19, 28, \"Лимиты по тарифам\", fontsize=15)\n",
    "\n",
    "plt.hist(df_smart['gb_used'], bins=50, alpha=0.5, label='smart')\n",
    "plt.hist(df_ultra['gb_used'], bins=50, alpha=0.5, label='ultra')\n",
    "plt.vlines(15, ymin=0, ymax=30,color = 'b')\n",
    "plt.vlines(30, ymin=0, ymax=30,color = 'r')\n",
    "plt.legend(loc='upper left')\n",
    "plt.show()"
   ]
  },
  {
   "cell_type": "markdown",
   "id": "30c8e2d2",
   "metadata": {},
   "source": [
    "### Анализ показателя `выручка`"
   ]
  },
  {
   "cell_type": "markdown",
   "id": "2e2c4bab",
   "metadata": {},
   "source": [
    "#### Тариф \"Смарт\""
   ]
  },
  {
   "cell_type": "code",
   "execution_count": 43,
   "id": "850fdab8",
   "metadata": {},
   "outputs": [
    {
     "name": "stdout",
     "output_type": "stream",
     "text": [
      "Доля средней выручки сверх абонентской платы: 94.87\n",
      "Значение средней выручки 1288.80\n",
      "Количество абонентов: 351\n",
      "Общая выручка по тарифу: 452367.92000000004\n",
      "Дисперсия: 351172.03\n",
      "Стандартное отклонение: 592.6\n"
     ]
    },
    {
     "data": {
      "text/html": [
       "<div>\n",
       "<style scoped>\n",
       "    .dataframe tbody tr th:only-of-type {\n",
       "        vertical-align: middle;\n",
       "    }\n",
       "\n",
       "    .dataframe tbody tr th {\n",
       "        vertical-align: top;\n",
       "    }\n",
       "\n",
       "    .dataframe thead th {\n",
       "        text-align: right;\n",
       "    }\n",
       "</style>\n",
       "<table border=\"1\" class=\"dataframe\">\n",
       "  <thead>\n",
       "    <tr style=\"text-align: right;\">\n",
       "      <th></th>\n",
       "      <th>smart</th>\n",
       "    </tr>\n",
       "  </thead>\n",
       "  <tbody>\n",
       "    <tr>\n",
       "      <th>count</th>\n",
       "      <td>351.00</td>\n",
       "    </tr>\n",
       "    <tr>\n",
       "      <th>mean</th>\n",
       "      <td>1288.80</td>\n",
       "    </tr>\n",
       "    <tr>\n",
       "      <th>std</th>\n",
       "      <td>592.60</td>\n",
       "    </tr>\n",
       "    <tr>\n",
       "      <th>min</th>\n",
       "      <td>550.00</td>\n",
       "    </tr>\n",
       "    <tr>\n",
       "      <th>25%</th>\n",
       "      <td>843.92</td>\n",
       "    </tr>\n",
       "    <tr>\n",
       "      <th>50%</th>\n",
       "      <td>1150.00</td>\n",
       "    </tr>\n",
       "    <tr>\n",
       "      <th>75%</th>\n",
       "      <td>1650.00</td>\n",
       "    </tr>\n",
       "    <tr>\n",
       "      <th>max</th>\n",
       "      <td>4241.33</td>\n",
       "    </tr>\n",
       "  </tbody>\n",
       "</table>\n",
       "</div>"
      ],
      "text/plain": [
       "         smart\n",
       "count   351.00\n",
       "mean   1288.80\n",
       "std     592.60\n",
       "min     550.00\n",
       "25%     843.92\n",
       "50%    1150.00\n",
       "75%    1650.00\n",
       "max    4241.33"
      ]
     },
     "execution_count": 43,
     "metadata": {},
     "output_type": "execute_result"
    }
   ],
   "source": [
    "revenue_df_smart = (df\n",
    "                    .query('tariff_name == \"smart\"')\n",
    "                    .pivot_table(index='user_id',\n",
    "                                 values= 'revenue',\n",
    "                                 aggfunc='mean')\n",
    "                    .reset_index(drop=True)\n",
    "                    .round(2)\n",
    ")\n",
    "revenue_df_smart.rename(columns={'revenue': 'smart'}, inplace=True)\n",
    "mean_revenue_sm = revenue_df_smart['smart'].mean()\n",
    "print('Доля средней выручки сверх абонентской платы:', \n",
    "      round(len(revenue_df_smart\n",
    "                .query('smart > 550')) / \n",
    "            len(revenue_df_smart) * 100, 2))\n",
    "print(f'Значение средней выручки {mean_revenue_sm:.2f}')\n",
    "print('Количество абонентов:', len(revenue_df_smart))\n",
    "print('Общая выручка по тарифу:', revenue_df_smart['smart'].sum())\n",
    "print('Дисперсия:', round(np.var(revenue_df_smart['smart'], ddof=1), 2))\n",
    "print('Стандартное отклонение:', round(np.std(revenue_df_smart['smart'], ddof=1), 2))\n",
    "revenue_df_smart.describe().round(2)"
   ]
  },
  {
   "cell_type": "markdown",
   "id": "e571acf9",
   "metadata": {},
   "source": [
    "#### Тариф \"Ультра\""
   ]
  },
  {
   "cell_type": "code",
   "execution_count": 44,
   "id": "fb68dc83",
   "metadata": {},
   "outputs": [
    {
     "name": "stdout",
     "output_type": "stream",
     "text": [
      "Доля выручки сверх абонентской платы: 28.86\n",
      "Значение средней выручки 2085.55\n",
      "Количество абонентов: 149\n",
      "Общая выручка по тарифу: 310746.77\n",
      "Дисперсия: 88644.59\n",
      "Стандартное отклонение: 297.73\n"
     ]
    },
    {
     "data": {
      "text/html": [
       "<div>\n",
       "<style scoped>\n",
       "    .dataframe tbody tr th:only-of-type {\n",
       "        vertical-align: middle;\n",
       "    }\n",
       "\n",
       "    .dataframe tbody tr th {\n",
       "        vertical-align: top;\n",
       "    }\n",
       "\n",
       "    .dataframe thead th {\n",
       "        text-align: right;\n",
       "    }\n",
       "</style>\n",
       "<table border=\"1\" class=\"dataframe\">\n",
       "  <thead>\n",
       "    <tr style=\"text-align: right;\">\n",
       "      <th></th>\n",
       "      <th>ultra</th>\n",
       "    </tr>\n",
       "  </thead>\n",
       "  <tbody>\n",
       "    <tr>\n",
       "      <th>count</th>\n",
       "      <td>149.00</td>\n",
       "    </tr>\n",
       "    <tr>\n",
       "      <th>mean</th>\n",
       "      <td>2085.55</td>\n",
       "    </tr>\n",
       "    <tr>\n",
       "      <th>std</th>\n",
       "      <td>297.73</td>\n",
       "    </tr>\n",
       "    <tr>\n",
       "      <th>min</th>\n",
       "      <td>1950.00</td>\n",
       "    </tr>\n",
       "    <tr>\n",
       "      <th>25%</th>\n",
       "      <td>1950.00</td>\n",
       "    </tr>\n",
       "    <tr>\n",
       "      <th>50%</th>\n",
       "      <td>1950.00</td>\n",
       "    </tr>\n",
       "    <tr>\n",
       "      <th>75%</th>\n",
       "      <td>1987.50</td>\n",
       "    </tr>\n",
       "    <tr>\n",
       "      <th>max</th>\n",
       "      <td>3225.00</td>\n",
       "    </tr>\n",
       "  </tbody>\n",
       "</table>\n",
       "</div>"
      ],
      "text/plain": [
       "         ultra\n",
       "count   149.00\n",
       "mean   2085.55\n",
       "std     297.73\n",
       "min    1950.00\n",
       "25%    1950.00\n",
       "50%    1950.00\n",
       "75%    1987.50\n",
       "max    3225.00"
      ]
     },
     "execution_count": 44,
     "metadata": {},
     "output_type": "execute_result"
    }
   ],
   "source": [
    "revenue_df_ultra = (df\n",
    "                    .query('tariff_name == \"ultra\"')\n",
    "                    .pivot_table(index='user_id',\n",
    "                                 values= 'revenue',\n",
    "                                 aggfunc='mean')\n",
    "                    .reset_index(drop=True)\n",
    "                    )\n",
    "revenue_df_ultra.rename(columns={'revenue': 'ultra'}, inplace=True)\n",
    "mean_revenue_ul = revenue_df_ultra['ultra'].mean()\n",
    "print('Доля выручки сверх абонентской платы:', \n",
    "      round((len(revenue_df_ultra\n",
    "                 .query('ultra > 1950')) / \n",
    "             len(revenue_df_ultra) * 100), 2))\n",
    "print(f'Значение средней выручки {mean_revenue_ul:.2f}')\n",
    "print('Количество абонентов:', len(revenue_df_ultra))\n",
    "print('Общая выручка по тарифу:', revenue_df_ultra['ultra'].sum().round(2))\n",
    "print('Дисперсия:', round(np.var(revenue_df_ultra['ultra'], ddof=1), 2))\n",
    "print('Стандартное отклонение:', round(np.std(revenue_df_ultra['ultra'], ddof=1), 2))\n",
    "revenue_df_ultra.describe().round(2)"
   ]
  },
  {
   "cell_type": "markdown",
   "id": "76a4daa3",
   "metadata": {},
   "source": [
    "#### График распределения средней выручки"
   ]
  },
  {
   "cell_type": "code",
   "execution_count": 45,
   "id": "226d5651",
   "metadata": {},
   "outputs": [
    {
     "data": {
      "image/png": "[encoded data removed]",
      "text/plain": [
       "<Figure size 1080x720 with 1 Axes>"
      ]
     },
     "metadata": {
      "needs_background": "light"
     },
     "output_type": "display_data"
    }
   ],
   "source": [
    "plt.figure(figsize = (15, 10))\n",
    "plt.title('График распределения средней выручки')\n",
    "plt.xlabel('Количество, руб.')\n",
    "plt.ylabel('Частота')\n",
    "\n",
    "plt.hist(revenue_df_smart, bins=50, alpha=0.5, label='smart')\n",
    "plt.hist(revenue_df_ultra, bins=50, alpha=0.5, label='ultra')\n",
    "plt.vlines(550, ymin=0, ymax=100, color = 'b')\n",
    "plt.vlines(1950, ymin=0, ymax=100, color = 'r')\n",
    "plt.legend(loc='upper right')\n",
    "plt.show()"
   ]
  },
  {
   "cell_type": "markdown",
   "id": "7ec024f6",
   "metadata": {},
   "source": [
    "### Вывод"
   ]
  },
  {
   "cell_type": "markdown",
   "id": "8b9a8455",
   "metadata": {},
   "source": [
    "Проанализировав поведение пользователей обоих тарифов, можно сделать следующие выводы:\n",
    "\n",
    "1. **Длительность разговоров в месяц**\n",
    "    - в среднем, менее 35% пользователей тарифа \"Смарт\" не укладываются в лимит *500 минут* по времени разговора в месяц\n",
    "    - в среднем, только 10% пользователей тарифа \"Ультра\" расходуют больше 1000 минут, в то время как в пакет включено 3000\n",
    "2. **Количество sms сообщений в месяц**\n",
    "    - около половины пользователей тарифа \"Смарт\" превышают лимит *50 шт.* сообщений в месяц\n",
    "    - в среднем пользователи тарифа \"Ультра\" отправляют около *60 сообщений*, при лимите 1000 шт.\n",
    "3. **Объем интернет трафика**\n",
    "    - больше половины пользователей тарифа \"Смарт\" доплачивают за дополнительные Гб интернет трафика\n",
    "    - около 20% пользователей тарифа \"Ультра\" также вынуждены доплачивать за доп объем\n",
    "4. **Выручка**\n",
    "    1. *тариф \"Смарт\"*\n",
    "        - доля переплат сверх абонентской платы составляет около 95%\n",
    "        - общая выручка по выборке, в среднем, 327 тыс. руб.\n",
    "        - средняя выручка состовляет 937 руб.\n",
    "        \n",
    "    2.  *тариф \"Ультра\"*\n",
    "        - доля переплат сверх абонентской платы - около 30%\n",
    "        - общая выручка по тарифу - 308 тыс. руб.\n",
    "        - средняя выручка состовляет 2086 руб.\n",
    "        \n",
    "Не смотря на то, что пользователи тарифа \"Смарт\" доплачивают сверх тарифа в **95%**, они приносят примерно столько же денег, сколько пользователи тарифа \"Ультра\", которые доплачивают только в **30%**. <br>\n",
    "Так же необходимо учесть, что в предоставленной выборке пользователей тарифа \"Ультра\" вдвое меньше, чем пользователей \"Смарт\". <br>\n",
    "Соответственно, при равном количестве пользователей, тариф **\"Ультра\"** принесет **бОльшую** прибыль."
   ]
  },
  {
   "cell_type": "markdown",
   "id": "0a9f8fdd",
   "metadata": {},
   "source": [
    "## Проверка гипотез"
   ]
  },
  {
   "cell_type": "markdown",
   "id": "4eae1635",
   "metadata": {},
   "source": [
    "### Первая гипотеза"
   ]
  },
  {
   "cell_type": "markdown",
   "id": "a097e1b2",
   "metadata": {},
   "source": [
    "#### Формируем нулевую $H_0$ и альтернативную $H_1$ гипотезы"
   ]
  },
  {
   "cell_type": "markdown",
   "id": "336503f6",
   "metadata": {},
   "source": [
    "$H_0$ - средняя выручка тарифов \"Ультра\" и \"Смарт\" равны <br>\n",
    "$H_1$ - средние выручки тарифов не равны"
   ]
  },
  {
   "cell_type": "markdown",
   "id": "48dad447",
   "metadata": {},
   "source": [
    "#### Формируем выборки для проверки"
   ]
  },
  {
   "cell_type": "code",
   "execution_count": 46,
   "id": "cb303e24",
   "metadata": {},
   "outputs": [
    {
     "name": "stdout",
     "output_type": "stream",
     "text": [
      "Тариф \"Смарт\"\n"
     ]
    },
    {
     "data": {
      "text/plain": [
       "count    2230.000000\n",
       "mean     1257.271300\n",
       "std       800.876105\n",
       "min       550.000000\n",
       "25%       550.000000\n",
       "50%       961.500000\n",
       "75%      1731.500000\n",
       "max      6614.000000\n",
       "Name: revenue, dtype: float64"
      ]
     },
     "metadata": {},
     "output_type": "display_data"
    },
    {
     "name": "stdout",
     "output_type": "stream",
     "text": [
      "Дисперсия: 641402.54\n",
      "\n",
      "Тариф \"Ультра\"\n"
     ]
    },
    {
     "data": {
      "text/plain": [
       "count     986.000000\n",
       "mean     2070.030426\n",
       "std       376.015578\n",
       "min      1950.000000\n",
       "25%      1950.000000\n",
       "50%      1950.000000\n",
       "75%      1950.000000\n",
       "max      4800.000000\n",
       "Name: revenue, dtype: float64"
      ]
     },
     "metadata": {},
     "output_type": "display_data"
    },
    {
     "name": "stdout",
     "output_type": "stream",
     "text": [
      "Дисперсия: 141387.71\n"
     ]
    }
   ],
   "source": [
    "print('Тариф \"Смарт\"', end='\\n')\n",
    "revenue_smart = df.query('tariff_name == \"smart\"')['revenue']\n",
    "display(revenue_smart.describe())\n",
    "print('Дисперсия:', round(np.var(revenue_smart, ddof=1), 2), end='\\n\\n')\n",
    "print('Тариф \"Ультра\"', end='\\n')\n",
    "revenue_ultra = df.query('tariff_name == \"ultra\"')['revenue']\n",
    "display(revenue_ultra.describe())\n",
    "print('Дисперсия:', round(np.var(revenue_ultra, ddof=1), 2))"
   ]
  },
  {
   "cell_type": "markdown",
   "id": "a0eb86bc",
   "metadata": {},
   "source": [
    "#### Проверяем гипотезу о равенстве двух совокупностей"
   ]
  },
  {
   "cell_type": "code",
   "execution_count": 47,
   "id": "5c22a171",
   "metadata": {},
   "outputs": [],
   "source": [
    "def hyp(df1, df2, alp, equal_var):\n",
    "    alpha = alp\n",
    "    result = st.ttest_ind(df1, df2,equal_var = equal_var)\n",
    "\n",
    "    print('p-значение:', result.pvalue)\n",
    "\n",
    "    if result.pvalue < alpha:\n",
    "        print('Отвергаем нулевую гипотезу')\n",
    "    else:\n",
    "        print('Не получилось отвергнуть нулевую гипотезу')"
   ]
  },
  {
   "cell_type": "code",
   "execution_count": 48,
   "id": "1611bc51",
   "metadata": {},
   "outputs": [
    {
     "name": "stdout",
     "output_type": "stream",
     "text": [
      "p-значение: 2.6421117114478516e-274\n",
      "Отвергаем нулевую гипотезу\n"
     ]
    }
   ],
   "source": [
    "hyp(revenue_smart, revenue_ultra, .05, False)"
   ]
  },
  {
   "cell_type": "markdown",
   "id": "717e8df6",
   "metadata": {},
   "source": [
    "#### Вывод"
   ]
  },
  {
   "cell_type": "markdown",
   "id": "5b1d21b5",
   "metadata": {},
   "source": [
    "Проведя тест мы вынуждены отвергнуть нулевую гипотезу о том, что выручки тарифов \"Смарт\" и \"Ультра\" равны. <br>\n",
    "И мы можем предположить, что выручка тарифа \"Ультра\" больше выручки тарифа \"Смарт\"."
   ]
  },
  {
   "cell_type": "markdown",
   "id": "c989fd29",
   "metadata": {},
   "source": [
    "### Вторая гипотеза"
   ]
  },
  {
   "cell_type": "markdown",
   "id": "c98cd176",
   "metadata": {},
   "source": [
    "#### Формируем нулевую $H_0$ и альтернитивную $H_1$ гипотезы"
   ]
  },
  {
   "cell_type": "markdown",
   "id": "7a4b13c1",
   "metadata": {},
   "source": [
    "$H_0$ - средняя выручка пользователей из Москвы равна средней выручке пользователей из других регионов <br>\n",
    "$H_1$ - средняя выручка пользователей из Москвы и регионов не равны"
   ]
  },
  {
   "cell_type": "markdown",
   "id": "46d6bb26",
   "metadata": {},
   "source": [
    "#### Формируем выборки для проверки"
   ]
  },
  {
   "cell_type": "code",
   "execution_count": 49,
   "id": "6885173f",
   "metadata": {},
   "outputs": [
    {
     "name": "stdout",
     "output_type": "stream",
     "text": [
      "Москва\n"
     ]
    },
    {
     "data": {
      "text/plain": [
       "count     611.000000\n",
       "mean     1526.837971\n",
       "std       750.221433\n",
       "min       550.000000\n",
       "25%       750.000000\n",
       "50%      1750.000000\n",
       "75%      1950.000000\n",
       "max      5186.000000\n",
       "Name: revenue, dtype: float64"
      ]
     },
     "metadata": {},
     "output_type": "display_data"
    },
    {
     "name": "stdout",
     "output_type": "stream",
     "text": [
      "Дисперсия: 562832.2\n",
      "\n",
      "Другие регионы\n"
     ]
    },
    {
     "data": {
      "text/plain": [
       "count    2605.000000\n",
       "mean     1501.676392\n",
       "std       802.489671\n",
       "min       550.000000\n",
       "25%       715.000000\n",
       "50%      1550.000000\n",
       "75%      1950.000000\n",
       "max      6614.000000\n",
       "Name: revenue, dtype: float64"
      ]
     },
     "metadata": {},
     "output_type": "display_data"
    },
    {
     "name": "stdout",
     "output_type": "stream",
     "text": [
      "Дисперсия: 643989.67\n",
      "\n"
     ]
    }
   ],
   "source": [
    "print('Москва', end='\\n')\n",
    "revenue_moscow = df.query('city == \"Москва\"')['revenue']\n",
    "display(revenue_moscow.describe())\n",
    "print('Дисперсия:', round(np.var(revenue_moscow, ddof=1), 2), end='\\n\\n')\n",
    "\n",
    "print('Другие регионы', end='\\n')\n",
    "revenue_another_cities = df.query('city != \"Москва\"')['revenue']\n",
    "display(revenue_another_cities.describe())\n",
    "print('Дисперсия:', round(np.var(revenue_another_cities, ddof=1), 2), end='\\n\\n')\n"
   ]
  },
  {
   "cell_type": "markdown",
   "id": "39d36f79",
   "metadata": {},
   "source": [
    "#### Проверяем гипотезу о равенстве двух совокупностей"
   ]
  },
  {
   "cell_type": "code",
   "execution_count": 50,
   "id": "94d77c43",
   "metadata": {},
   "outputs": [
    {
     "name": "stdout",
     "output_type": "stream",
     "text": [
      "p-значение: 0.46183914667656145\n",
      "Не получилось отвергнуть нулевую гипотезу\n"
     ]
    }
   ],
   "source": [
    "hyp(revenue_moscow, revenue_another_cities, .05, False)"
   ]
  },
  {
   "cell_type": "markdown",
   "id": "b8717b54",
   "metadata": {},
   "source": [
    "#### Вывод"
   ]
  },
  {
   "cell_type": "markdown",
   "id": "99da10c7",
   "metadata": {},
   "source": [
    "Проведя тест у нас не получилось отвергнуть нулевую гипотезу о том, что средние выручки москвичей и пользователей из других регионов равны."
   ]
  },
  {
   "cell_type": "markdown",
   "id": "3b6c67da",
   "metadata": {},
   "source": [
    "## Общий вывод"
   ]
  },
  {
   "cell_type": "markdown",
   "id": "7d518a69",
   "metadata": {},
   "source": [
    "На основании анализа предоставленных данных, а так же по результатам проверки гипотез, могу предположить, что реклама тарифа \"Ультра\" будет более выгодным вложением и принесет бОльшую прибыль компании."
   ]
  }
 ],
 "metadata": {
  "ExecuteTimeLog": [
   {
    "duration": 2053,
    "start_time": "2022-02-17T17:22:16.098Z"
   },
   {
    "duration": 962,
    "start_time": "2022-02-17T17:22:18.154Z"
   },
   {
    "duration": 11,
    "start_time": "2022-02-17T17:22:19.120Z"
   },
   {
    "duration": 39,
    "start_time": "2022-02-17T17:22:19.133Z"
   },
   {
    "duration": 23,
    "start_time": "2022-02-17T17:22:19.175Z"
   },
   {
    "duration": 52,
    "start_time": "2022-02-17T17:22:19.201Z"
   },
   {
    "duration": 10,
    "start_time": "2022-02-17T17:22:19.256Z"
   },
   {
    "duration": 24,
    "start_time": "2022-02-17T17:22:19.268Z"
   },
   {
    "duration": 61,
    "start_time": "2022-02-17T17:22:19.298Z"
   },
   {
    "duration": 11,
    "start_time": "2022-02-17T17:22:19.363Z"
   },
   {
    "duration": 118,
    "start_time": "2022-02-17T17:22:19.377Z"
   },
   {
    "duration": 11,
    "start_time": "2022-02-17T17:22:19.499Z"
   },
   {
    "duration": 79,
    "start_time": "2022-02-17T17:22:19.512Z"
   },
   {
    "duration": 13,
    "start_time": "2022-02-17T17:22:19.593Z"
   },
   {
    "duration": 103,
    "start_time": "2022-02-17T17:22:19.608Z"
   },
   {
    "duration": 38,
    "start_time": "2022-02-17T17:22:19.714Z"
   },
   {
    "duration": 94,
    "start_time": "2022-02-17T17:22:19.755Z"
   },
   {
    "duration": 45,
    "start_time": "2022-02-17T17:22:19.852Z"
   },
   {
    "duration": 66,
    "start_time": "2022-02-17T17:22:19.900Z"
   },
   {
    "duration": 23,
    "start_time": "2022-02-17T17:22:19.969Z"
   },
   {
    "duration": 54,
    "start_time": "2022-02-17T17:22:19.995Z"
   },
   {
    "duration": 6,
    "start_time": "2022-02-17T17:22:20.051Z"
   },
   {
    "duration": 297,
    "start_time": "2022-02-17T17:22:20.060Z"
   },
   {
    "duration": 39,
    "start_time": "2022-02-17T17:22:20.360Z"
   },
   {
    "duration": 8,
    "start_time": "2022-02-17T17:22:20.401Z"
   },
   {
    "duration": 39,
    "start_time": "2022-02-17T17:22:20.411Z"
   },
   {
    "duration": 10,
    "start_time": "2022-02-17T17:22:20.456Z"
   },
   {
    "duration": 43,
    "start_time": "2022-02-17T17:22:20.469Z"
   },
   {
    "duration": 34,
    "start_time": "2022-02-17T17:22:20.514Z"
   },
   {
    "duration": 7,
    "start_time": "2022-02-17T17:22:20.550Z"
   },
   {
    "duration": 16,
    "start_time": "2022-02-17T17:22:20.559Z"
   },
   {
    "duration": 830,
    "start_time": "2022-02-17T17:22:20.577Z"
   },
   {
    "duration": 766,
    "start_time": "2022-02-17T17:22:21.410Z"
   },
   {
    "duration": 862,
    "start_time": "2022-02-17T17:22:22.179Z"
   },
   {
    "duration": 47,
    "start_time": "2022-02-17T17:22:23.048Z"
   },
   {
    "duration": 72,
    "start_time": "2022-02-17T17:22:23.098Z"
   },
   {
    "duration": 79366,
    "start_time": "2022-02-17T17:22:23.172Z"
   },
   {
    "duration": 33,
    "start_time": "2022-02-17T17:23:42.540Z"
   },
   {
    "duration": 7,
    "start_time": "2022-02-17T17:23:42.576Z"
   },
   {
    "duration": 69,
    "start_time": "2022-02-17T17:23:42.586Z"
   },
   {
    "duration": 6,
    "start_time": "2022-02-17T17:23:42.658Z"
   },
   {
    "duration": 6,
    "start_time": "2022-02-17T17:24:25.619Z"
   },
   {
    "duration": 7,
    "start_time": "2022-02-17T17:24:31.499Z"
   },
   {
    "duration": 12,
    "start_time": "2022-02-17T17:24:43.071Z"
   },
   {
    "duration": 15,
    "start_time": "2022-02-17T17:26:08.738Z"
   },
   {
    "duration": 521,
    "start_time": "2022-02-17T17:27:14.023Z"
   },
   {
    "duration": 38,
    "start_time": "2022-02-17T17:27:17.980Z"
   },
   {
    "duration": 6,
    "start_time": "2022-02-17T17:28:39.160Z"
   },
   {
    "duration": 330,
    "start_time": "2022-02-17T17:28:53.552Z"
   },
   {
    "duration": 12,
    "start_time": "2022-02-17T17:29:05.623Z"
   },
   {
    "duration": 8,
    "start_time": "2022-02-17T17:33:34.254Z"
   }
  ],
  "kernelspec": {
   "display_name": "Python 3 (ipykernel)",
   "language": "python",
   "name": "python3"
  },
  "language_info": {
   "codemirror_mode": {
    "name": "ipython",
    "version": 3
   },
   "file_extension": ".py",
   "mimetype": "text/x-python",
   "name": "python",
   "nbconvert_exporter": "python",
   "pygments_lexer": "ipython3",
   "version": "3.9.7"
  },
  "toc": {
   "base_numbering": 1,
   "nav_menu": {
    "height": "201px",
    "width": "160px"
   },
   "number_sections": true,
   "sideBar": true,
   "skip_h1_title": true,
   "title_cell": "Содержание",
   "title_sidebar": "Contents",
   "toc_cell": true,
   "toc_position": {
    "height": "calc(100% - 180px)",
    "left": "10px",
    "top": "150px",
    "width": "208px"
   },
   "toc_section_display": true,
   "toc_window_display": true
  }
 },
 "nbformat": 4,
 "nbformat_minor": 5
}
