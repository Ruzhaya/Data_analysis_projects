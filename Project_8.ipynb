{
 "cells": [
  {
   "cell_type": "markdown",
   "metadata": {
    "toc": true
   },
   "source": [
    "<h1>Содержание<span class=\"tocSkip\"></span></h1>\n",
    "<div class=\"toc\"><ul class=\"toc-item\"><li><span><a href=\"#Подготовка-данных\" data-toc-modified-id=\"Подготовка-данных-1\"><span class=\"toc-item-num\">1&nbsp;&nbsp;</span>Подготовка данных</a></span><ul class=\"toc-item\"><li><span><a href=\"#Импорт-библиотек\" data-toc-modified-id=\"Импорт-библиотек-1.1\"><span class=\"toc-item-num\">1.1&nbsp;&nbsp;</span>Импорт библиотек</a></span></li><li><span><a href=\"#Загрузка-данных-из-таблиц\" data-toc-modified-id=\"Загрузка-данных-из-таблиц-1.2\"><span class=\"toc-item-num\">1.2&nbsp;&nbsp;</span>Загрузка данных из таблиц</a></span></li><li><span><a href=\"#Функция-для-первичного-анализа\" data-toc-modified-id=\"Функция-для-первичного-анализа-1.3\"><span class=\"toc-item-num\">1.3&nbsp;&nbsp;</span>Функция для первичного анализа</a></span></li></ul></li><li><span><a href=\"#Приоритизация-гипотез\" data-toc-modified-id=\"Приоритизация-гипотез-2\"><span class=\"toc-item-num\">2&nbsp;&nbsp;</span>Приоритизация гипотез</a></span><ul class=\"toc-item\"><li><span><a href=\"#Изучение-таблицы-hypothesis\" data-toc-modified-id=\"Изучение-таблицы-hypothesis-2.1\"><span class=\"toc-item-num\">2.1&nbsp;&nbsp;</span>Изучение таблицы <code>hypothesis</code></a></span></li><li><span><a href=\"#Применение-фреймворка-ICE\" data-toc-modified-id=\"Применение-фреймворка-ICE-2.2\"><span class=\"toc-item-num\">2.2&nbsp;&nbsp;</span>Применение фреймворка <code>ICE</code></a></span></li><li><span><a href=\"#Применение-фреймворка-RICE\" data-toc-modified-id=\"Применение-фреймворка-RICE-2.3\"><span class=\"toc-item-num\">2.3&nbsp;&nbsp;</span>Применение фреймворка <code>RICE</code></a></span></li><li><span><a href=\"#Вывод\" data-toc-modified-id=\"Вывод-2.4\"><span class=\"toc-item-num\">2.4&nbsp;&nbsp;</span>Вывод</a></span></li></ul></li><li><span><a href=\"#Анализ-A/B-теста\" data-toc-modified-id=\"Анализ-A/B-теста-3\"><span class=\"toc-item-num\">3&nbsp;&nbsp;</span>Анализ A/B-теста</a></span><ul class=\"toc-item\"><li><span><a href=\"#Первичный-анализ-таблиц\" data-toc-modified-id=\"Первичный-анализ-таблиц-3.1\"><span class=\"toc-item-num\">3.1&nbsp;&nbsp;</span>Первичный анализ таблиц</a></span><ul class=\"toc-item\"><li><span><a href=\"#Таблица-orders\" data-toc-modified-id=\"Таблица-orders-3.1.1\"><span class=\"toc-item-num\">3.1.1&nbsp;&nbsp;</span>Таблица <code>orders</code></a></span></li><li><span><a href=\"#Таблица-visitors\" data-toc-modified-id=\"Таблица-visitors-3.1.2\"><span class=\"toc-item-num\">3.1.2&nbsp;&nbsp;</span>Таблица <code>visitors</code></a></span></li></ul></li><li><span><a href=\"#Проверка-на-дубликаты\" data-toc-modified-id=\"Проверка-на-дубликаты-3.2\"><span class=\"toc-item-num\">3.2&nbsp;&nbsp;</span>Проверка на дубликаты</a></span></li><li><span><a href=\"#Приведение-типов-данных\" data-toc-modified-id=\"Приведение-типов-данных-3.3\"><span class=\"toc-item-num\">3.3&nbsp;&nbsp;</span>Приведение типов данных</a></span></li><li><span><a href=\"#Графики-кумулятивных-данных\" data-toc-modified-id=\"Графики-кумулятивных-данных-3.4\"><span class=\"toc-item-num\">3.4&nbsp;&nbsp;</span>Графики кумулятивных данных</a></span><ul class=\"toc-item\"><li><span><a href=\"#Сбор-кумулятивных-данных\" data-toc-modified-id=\"Сбор-кумулятивных-данных-3.4.1\"><span class=\"toc-item-num\">3.4.1&nbsp;&nbsp;</span>Сбор кумулятивных данных</a></span></li><li><span><a href=\"#Формирования-таблиц-кумулятивных-данных-по-группам\" data-toc-modified-id=\"Формирования-таблиц-кумулятивных-данных-по-группам-3.4.2\"><span class=\"toc-item-num\">3.4.2&nbsp;&nbsp;</span>Формирования таблиц кумулятивных данных по группам</a></span></li><li><span><a href=\"#График-кумулятивной-выручки-по-группам\" data-toc-modified-id=\"График-кумулятивной-выручки-по-группам-3.4.3\"><span class=\"toc-item-num\">3.4.3&nbsp;&nbsp;</span>График кумулятивной выручки по группам</a></span></li><li><span><a href=\"#График-кумулятивного-среднего-чека\" data-toc-modified-id=\"График-кумулятивного-среднего-чека-3.4.4\"><span class=\"toc-item-num\">3.4.4&nbsp;&nbsp;</span>График кумулятивного среднего чека</a></span></li></ul></li><li><span><a href=\"#График-относительного-различия-среднего-чека\" data-toc-modified-id=\"График-относительного-различия-среднего-чека-3.5\"><span class=\"toc-item-num\">3.5&nbsp;&nbsp;</span>График относительного различия среднего чека</a></span></li><li><span><a href=\"#График-кумулятивной-конверсии\" data-toc-modified-id=\"График-кумулятивной-конверсии-3.6\"><span class=\"toc-item-num\">3.6&nbsp;&nbsp;</span>График кумулятивной конверсии</a></span></li><li><span><a href=\"#График-относительного-различия-конверсий\" data-toc-modified-id=\"График-относительного-различия-конверсий-3.7\"><span class=\"toc-item-num\">3.7&nbsp;&nbsp;</span>График относительного различия конверсий</a></span></li><li><span><a href=\"#Границы-аномальных-значений\" data-toc-modified-id=\"Границы-аномальных-значений-3.8\"><span class=\"toc-item-num\">3.8&nbsp;&nbsp;</span>Границы аномальных значений</a></span><ul class=\"toc-item\"><li><span><a href=\"#Определение-границы-аномальных-пользователей\" data-toc-modified-id=\"Определение-границы-аномальных-пользователей-3.8.1\"><span class=\"toc-item-num\">3.8.1&nbsp;&nbsp;</span>Определение границы аномальных пользователей</a></span></li><li><span><a href=\"#Определение-границы-аномальных-заказов\" data-toc-modified-id=\"Определение-границы-аномальных-заказов-3.8.2\"><span class=\"toc-item-num\">3.8.2&nbsp;&nbsp;</span>Определение границы аномальных заказов</a></span></li></ul></li><li><span><a href=\"#Статистическая-значимость\" data-toc-modified-id=\"Статистическая-значимость-3.9\"><span class=\"toc-item-num\">3.9&nbsp;&nbsp;</span>Статистическая значимость</a></span><ul class=\"toc-item\"><li><span><a href=\"#Статистическая-значимость-различий-в-конверсии-по-&quot;сырым&quot;-данным\" data-toc-modified-id=\"Статистическая-значимость-различий-в-конверсии-по-&quot;сырым&quot;-данным-3.9.1\"><span class=\"toc-item-num\">3.9.1&nbsp;&nbsp;</span>Статистическая значимость различий в конверсии по \"сырым\" данным</a></span></li><li><span><a href=\"#Статистическая-значимость-различий-в-среднем-чеке-по-&quot;сырым&quot;-данным\" data-toc-modified-id=\"Статистическая-значимость-различий-в-среднем-чеке-по-&quot;сырым&quot;-данным-3.9.2\"><span class=\"toc-item-num\">3.9.2&nbsp;&nbsp;</span>Статистическая значимость различий в среднем чеке по \"сырым\" данным</a></span></li><li><span><a href=\"#Статистическая-значимость-различий-в-конверсии-по-&quot;очищенным&quot;-данным\" data-toc-modified-id=\"Статистическая-значимость-различий-в-конверсии-по-&quot;очищенным&quot;-данным-3.9.3\"><span class=\"toc-item-num\">3.9.3&nbsp;&nbsp;</span>Статистическая значимость различий в конверсии по \"очищенным\" данным</a></span></li><li><span><a href=\"#Статистическая-значимость-различий-в-среднем-чеке-по-&quot;очищенным&quot;-данным\" data-toc-modified-id=\"Статистическая-значимость-различий-в-среднем-чеке-по-&quot;очищенным&quot;-данным-3.9.4\"><span class=\"toc-item-num\">3.9.4&nbsp;&nbsp;</span>Статистическая значимость различий в среднем чеке по \"очищенным\" данным</a></span></li></ul></li></ul></li><li><span><a href=\"#Выводы\" data-toc-modified-id=\"Выводы-4\"><span class=\"toc-item-num\">4&nbsp;&nbsp;</span>Выводы</a></span></li></ul></div>"
   ]
  },
  {
   "cell_type": "markdown",
   "metadata": {},
   "source": [
    "# Приоритизация гипотез. A/B тестирование.\n",
    "\n",
    "**Описание данных**<br>\n",
    "\n",
    "`hypothesis`<br>\n",
    "* Hypothesis — краткое описание гипотезы;\n",
    "* Reach — охват пользователей по 10-балльной шкале;\n",
    "* Impact — влияние на пользователей по 10-балльной шкале;\n",
    "* Confidence — уверенность в гипотезе по 10-балльной шкале;\n",
    "* Efforts — затраты ресурсов на проверку гипотезы по 10-балльной шкале. Чем больше значение Efforts, тем дороже проверка гипотезы.\n",
    "\n",
    "`orders`<br>\n",
    "* transactionId — идентификатор заказа;\n",
    "* visitorId — идентификатор пользователя, совершившего заказ;\n",
    "* date — дата, когда был совершён заказ;\n",
    "* revenue — выручка заказа;\n",
    "* group — группа A/B-теста, в которую попал заказ.\n",
    "\n",
    "`visitors`<br>\n",
    "* date — дата;\n",
    "* group — группа A/B-теста;\n",
    "* visitors — количество пользователей в указанную дату в указанной группе A/B-теста"
   ]
  },
  {
   "cell_type": "markdown",
   "metadata": {},
   "source": [
    "## Подготовка данных"
   ]
  },
  {
   "cell_type": "markdown",
   "metadata": {},
   "source": [
    "### Импорт библиотек"
   ]
  },
  {
   "cell_type": "code",
   "execution_count": 1,
   "metadata": {},
   "outputs": [],
   "source": [
    "import pandas as pd\n",
    "import numpy as np\n",
    "import datetime as dt\n",
    "import scipy.stats as stats\n",
    "from matplotlib import pyplot as plt\n",
    "pd.set_option('display.max_colwidth', None)\n",
    "pd.set_option('display.float_format', '{:.2f}'.format)"
   ]
  },
  {
   "cell_type": "markdown",
   "metadata": {},
   "source": [
    "### Загрузка данных из таблиц"
   ]
  },
  {
   "cell_type": "code",
   "execution_count": 2,
   "metadata": {},
   "outputs": [],
   "source": [
    "try: \n",
    "    hypothesis = pd.read_csv('hypothesis.csv')\n",
    "    orders = pd.read_csv('orders.csv')\n",
    "    visitors = pd.read_csv('visitors.csv')\n",
    "except:\n",
    "    hypothesis = pd.read_csv('/datasets/hypothesis.csv')\n",
    "    orders = pd.read_csv('/datasets/orders.csv')\n",
    "    visitors = pd.read_csv('/datasets/visitors.csv')"
   ]
  },
  {
   "cell_type": "markdown",
   "metadata": {},
   "source": [
    "### Функция для первичного анализа "
   ]
  },
  {
   "cell_type": "code",
   "execution_count": 3,
   "metadata": {},
   "outputs": [],
   "source": [
    "def data_info(data):\n",
    "    data.info()\n",
    "    print('')\n",
    "    print('*'*50)\n",
    "    display(data.head())\n",
    "    print('')\n",
    "    print('*'*50)\n",
    "    display(data.describe())"
   ]
  },
  {
   "cell_type": "markdown",
   "metadata": {},
   "source": [
    "## Приоритизация гипотез"
   ]
  },
  {
   "cell_type": "markdown",
   "metadata": {},
   "source": [
    "### Изучение таблицы `hypothesis`"
   ]
  },
  {
   "cell_type": "code",
   "execution_count": 4,
   "metadata": {},
   "outputs": [
    {
     "data": {
      "text/html": [
       "<div>\n",
       "<style scoped>\n",
       "    .dataframe tbody tr th:only-of-type {\n",
       "        vertical-align: middle;\n",
       "    }\n",
       "\n",
       "    .dataframe tbody tr th {\n",
       "        vertical-align: top;\n",
       "    }\n",
       "\n",
       "    .dataframe thead th {\n",
       "        text-align: right;\n",
       "    }\n",
       "</style>\n",
       "<table border=\"1\" class=\"dataframe\">\n",
       "  <thead>\n",
       "    <tr style=\"text-align: right;\">\n",
       "      <th></th>\n",
       "      <th>Hypothesis</th>\n",
       "      <th>Reach</th>\n",
       "      <th>Impact</th>\n",
       "      <th>Confidence</th>\n",
       "      <th>Efforts</th>\n",
       "    </tr>\n",
       "  </thead>\n",
       "  <tbody>\n",
       "    <tr>\n",
       "      <th>0</th>\n",
       "      <td>Добавить два новых канала привлечения трафика, что позволит привлекать на 30% больше пользователей</td>\n",
       "      <td>3</td>\n",
       "      <td>10</td>\n",
       "      <td>8</td>\n",
       "      <td>6</td>\n",
       "    </tr>\n",
       "    <tr>\n",
       "      <th>1</th>\n",
       "      <td>Запустить собственную службу доставки, что сократит срок доставки заказов</td>\n",
       "      <td>2</td>\n",
       "      <td>5</td>\n",
       "      <td>4</td>\n",
       "      <td>10</td>\n",
       "    </tr>\n",
       "    <tr>\n",
       "      <th>2</th>\n",
       "      <td>Добавить блоки рекомендаций товаров на сайт интернет магазина, чтобы повысить конверсию и средний чек заказа</td>\n",
       "      <td>8</td>\n",
       "      <td>3</td>\n",
       "      <td>7</td>\n",
       "      <td>3</td>\n",
       "    </tr>\n",
       "    <tr>\n",
       "      <th>3</th>\n",
       "      <td>Изменить структура категорий, что увеличит конверсию, т.к. пользователи быстрее найдут нужный товар</td>\n",
       "      <td>8</td>\n",
       "      <td>3</td>\n",
       "      <td>3</td>\n",
       "      <td>8</td>\n",
       "    </tr>\n",
       "    <tr>\n",
       "      <th>4</th>\n",
       "      <td>Изменить цвет фона главной страницы, чтобы увеличить вовлеченность пользователей</td>\n",
       "      <td>3</td>\n",
       "      <td>1</td>\n",
       "      <td>1</td>\n",
       "      <td>1</td>\n",
       "    </tr>\n",
       "    <tr>\n",
       "      <th>5</th>\n",
       "      <td>Добавить страницу отзывов клиентов о магазине, что позволит увеличить количество заказов</td>\n",
       "      <td>3</td>\n",
       "      <td>2</td>\n",
       "      <td>2</td>\n",
       "      <td>3</td>\n",
       "    </tr>\n",
       "    <tr>\n",
       "      <th>6</th>\n",
       "      <td>Показать на главной странице баннеры с актуальными акциями и распродажами, чтобы увеличить конверсию</td>\n",
       "      <td>5</td>\n",
       "      <td>3</td>\n",
       "      <td>8</td>\n",
       "      <td>3</td>\n",
       "    </tr>\n",
       "    <tr>\n",
       "      <th>7</th>\n",
       "      <td>Добавить форму подписки на все основные страницы, чтобы собрать базу клиентов для email-рассылок</td>\n",
       "      <td>10</td>\n",
       "      <td>7</td>\n",
       "      <td>8</td>\n",
       "      <td>5</td>\n",
       "    </tr>\n",
       "    <tr>\n",
       "      <th>8</th>\n",
       "      <td>Запустить акцию, дающую скидку на товар в день рождения</td>\n",
       "      <td>1</td>\n",
       "      <td>9</td>\n",
       "      <td>9</td>\n",
       "      <td>5</td>\n",
       "    </tr>\n",
       "  </tbody>\n",
       "</table>\n",
       "</div>"
      ],
      "text/plain": [
       "                                                                                                     Hypothesis  \\\n",
       "0            Добавить два новых канала привлечения трафика, что позволит привлекать на 30% больше пользователей   \n",
       "1                                     Запустить собственную службу доставки, что сократит срок доставки заказов   \n",
       "2  Добавить блоки рекомендаций товаров на сайт интернет магазина, чтобы повысить конверсию и средний чек заказа   \n",
       "3           Изменить структура категорий, что увеличит конверсию, т.к. пользователи быстрее найдут нужный товар   \n",
       "4                              Изменить цвет фона главной страницы, чтобы увеличить вовлеченность пользователей   \n",
       "5                      Добавить страницу отзывов клиентов о магазине, что позволит увеличить количество заказов   \n",
       "6          Показать на главной странице баннеры с актуальными акциями и распродажами, чтобы увеличить конверсию   \n",
       "7              Добавить форму подписки на все основные страницы, чтобы собрать базу клиентов для email-рассылок   \n",
       "8                                                       Запустить акцию, дающую скидку на товар в день рождения   \n",
       "\n",
       "   Reach  Impact  Confidence  Efforts  \n",
       "0      3      10           8        6  \n",
       "1      2       5           4       10  \n",
       "2      8       3           7        3  \n",
       "3      8       3           3        8  \n",
       "4      3       1           1        1  \n",
       "5      3       2           2        3  \n",
       "6      5       3           8        3  \n",
       "7     10       7           8        5  \n",
       "8      1       9           9        5  "
      ]
     },
     "execution_count": 4,
     "metadata": {},
     "output_type": "execute_result"
    }
   ],
   "source": [
    "hypothesis"
   ]
  },
  {
   "cell_type": "markdown",
   "metadata": {},
   "source": [
    "### Применение фреймворка `ICE`"
   ]
  },
  {
   "cell_type": "code",
   "execution_count": 5,
   "metadata": {},
   "outputs": [],
   "source": [
    "hypothesis['ICE'] = hypothesis['Impact']*hypothesis['Confidence']/hypothesis['Efforts']\n",
    "hypothesis = hypothesis.sort_values(by='ICE', ascending=False)"
   ]
  },
  {
   "cell_type": "code",
   "execution_count": 6,
   "metadata": {},
   "outputs": [
    {
     "data": {
      "text/html": [
       "<div>\n",
       "<style scoped>\n",
       "    .dataframe tbody tr th:only-of-type {\n",
       "        vertical-align: middle;\n",
       "    }\n",
       "\n",
       "    .dataframe tbody tr th {\n",
       "        vertical-align: top;\n",
       "    }\n",
       "\n",
       "    .dataframe thead th {\n",
       "        text-align: right;\n",
       "    }\n",
       "</style>\n",
       "<table border=\"1\" class=\"dataframe\">\n",
       "  <thead>\n",
       "    <tr style=\"text-align: right;\">\n",
       "      <th></th>\n",
       "      <th>Hypothesis</th>\n",
       "      <th>Reach</th>\n",
       "      <th>Impact</th>\n",
       "      <th>Confidence</th>\n",
       "      <th>Efforts</th>\n",
       "      <th>ICE</th>\n",
       "    </tr>\n",
       "  </thead>\n",
       "  <tbody>\n",
       "    <tr>\n",
       "      <th>8</th>\n",
       "      <td>Запустить акцию, дающую скидку на товар в день рождения</td>\n",
       "      <td>1</td>\n",
       "      <td>9</td>\n",
       "      <td>9</td>\n",
       "      <td>5</td>\n",
       "      <td>16.20</td>\n",
       "    </tr>\n",
       "    <tr>\n",
       "      <th>0</th>\n",
       "      <td>Добавить два новых канала привлечения трафика, что позволит привлекать на 30% больше пользователей</td>\n",
       "      <td>3</td>\n",
       "      <td>10</td>\n",
       "      <td>8</td>\n",
       "      <td>6</td>\n",
       "      <td>13.33</td>\n",
       "    </tr>\n",
       "    <tr>\n",
       "      <th>7</th>\n",
       "      <td>Добавить форму подписки на все основные страницы, чтобы собрать базу клиентов для email-рассылок</td>\n",
       "      <td>10</td>\n",
       "      <td>7</td>\n",
       "      <td>8</td>\n",
       "      <td>5</td>\n",
       "      <td>11.20</td>\n",
       "    </tr>\n",
       "  </tbody>\n",
       "</table>\n",
       "</div>"
      ],
      "text/plain": [
       "                                                                                           Hypothesis  \\\n",
       "8                                             Запустить акцию, дающую скидку на товар в день рождения   \n",
       "0  Добавить два новых канала привлечения трафика, что позволит привлекать на 30% больше пользователей   \n",
       "7    Добавить форму подписки на все основные страницы, чтобы собрать базу клиентов для email-рассылок   \n",
       "\n",
       "   Reach  Impact  Confidence  Efforts   ICE  \n",
       "8      1       9           9        5 16.20  \n",
       "0      3      10           8        6 13.33  \n",
       "7     10       7           8        5 11.20  "
      ]
     },
     "execution_count": 6,
     "metadata": {},
     "output_type": "execute_result"
    }
   ],
   "source": [
    "hypothesis.head(3)"
   ]
  },
  {
   "cell_type": "markdown",
   "metadata": {},
   "source": [
    "### Применение фреймворка `RICE`"
   ]
  },
  {
   "cell_type": "code",
   "execution_count": 7,
   "metadata": {},
   "outputs": [],
   "source": [
    "hypothesis['RICE'] = hypothesis['Reach']*hypothesis['Impact']*hypothesis['Confidence']/hypothesis['Efforts']\n",
    "hypothesis = hypothesis.sort_values(by='RICE', ascending=False)"
   ]
  },
  {
   "cell_type": "code",
   "execution_count": 8,
   "metadata": {},
   "outputs": [
    {
     "data": {
      "text/html": [
       "<div>\n",
       "<style scoped>\n",
       "    .dataframe tbody tr th:only-of-type {\n",
       "        vertical-align: middle;\n",
       "    }\n",
       "\n",
       "    .dataframe tbody tr th {\n",
       "        vertical-align: top;\n",
       "    }\n",
       "\n",
       "    .dataframe thead th {\n",
       "        text-align: right;\n",
       "    }\n",
       "</style>\n",
       "<table border=\"1\" class=\"dataframe\">\n",
       "  <thead>\n",
       "    <tr style=\"text-align: right;\">\n",
       "      <th></th>\n",
       "      <th>Hypothesis</th>\n",
       "      <th>Reach</th>\n",
       "      <th>Impact</th>\n",
       "      <th>Confidence</th>\n",
       "      <th>Efforts</th>\n",
       "      <th>ICE</th>\n",
       "      <th>RICE</th>\n",
       "    </tr>\n",
       "  </thead>\n",
       "  <tbody>\n",
       "    <tr>\n",
       "      <th>7</th>\n",
       "      <td>Добавить форму подписки на все основные страницы, чтобы собрать базу клиентов для email-рассылок</td>\n",
       "      <td>10</td>\n",
       "      <td>7</td>\n",
       "      <td>8</td>\n",
       "      <td>5</td>\n",
       "      <td>11.20</td>\n",
       "      <td>112.00</td>\n",
       "    </tr>\n",
       "    <tr>\n",
       "      <th>2</th>\n",
       "      <td>Добавить блоки рекомендаций товаров на сайт интернет магазина, чтобы повысить конверсию и средний чек заказа</td>\n",
       "      <td>8</td>\n",
       "      <td>3</td>\n",
       "      <td>7</td>\n",
       "      <td>3</td>\n",
       "      <td>7.00</td>\n",
       "      <td>56.00</td>\n",
       "    </tr>\n",
       "    <tr>\n",
       "      <th>0</th>\n",
       "      <td>Добавить два новых канала привлечения трафика, что позволит привлекать на 30% больше пользователей</td>\n",
       "      <td>3</td>\n",
       "      <td>10</td>\n",
       "      <td>8</td>\n",
       "      <td>6</td>\n",
       "      <td>13.33</td>\n",
       "      <td>40.00</td>\n",
       "    </tr>\n",
       "  </tbody>\n",
       "</table>\n",
       "</div>"
      ],
      "text/plain": [
       "                                                                                                     Hypothesis  \\\n",
       "7              Добавить форму подписки на все основные страницы, чтобы собрать базу клиентов для email-рассылок   \n",
       "2  Добавить блоки рекомендаций товаров на сайт интернет магазина, чтобы повысить конверсию и средний чек заказа   \n",
       "0            Добавить два новых канала привлечения трафика, что позволит привлекать на 30% больше пользователей   \n",
       "\n",
       "   Reach  Impact  Confidence  Efforts   ICE   RICE  \n",
       "7     10       7           8        5 11.20 112.00  \n",
       "2      8       3           7        3  7.00  56.00  \n",
       "0      3      10           8        6 13.33  40.00  "
      ]
     },
     "execution_count": 8,
     "metadata": {},
     "output_type": "execute_result"
    }
   ],
   "source": [
    "hypothesis.head(3)"
   ]
  },
  {
   "cell_type": "markdown",
   "metadata": {},
   "source": [
    "### Вывод"
   ]
  },
  {
   "cell_type": "markdown",
   "metadata": {},
   "source": [
    "Фреймворк `ICE` не учитывает параметр **Reach** - определяющий охват пользователей, которых затронет вносимое изменение. Поэтому при использовании этого способа в приоритете оказываюся гипотезы с меньшим охватом.\n",
    "\n",
    "Имея данные по всем 4-м компонентам, а именно:\n",
    "\n",
    "* Reach - охват\n",
    "* Impact - влияние\n",
    "* Confidence - уверенность\n",
    "* Efforts - затраты\n",
    "\n",
    "эффективнее использовать фреймворк `RICE`, он более точен, так как использует больше параметров для приоритизации гипотез."
   ]
  },
  {
   "cell_type": "markdown",
   "metadata": {},
   "source": [
    "## Анализ A/B-теста"
   ]
  },
  {
   "cell_type": "markdown",
   "metadata": {},
   "source": [
    "### Первичный анализ таблиц"
   ]
  },
  {
   "cell_type": "markdown",
   "metadata": {},
   "source": [
    "#### Таблица `orders`"
   ]
  },
  {
   "cell_type": "code",
   "execution_count": 9,
   "metadata": {},
   "outputs": [
    {
     "name": "stdout",
     "output_type": "stream",
     "text": [
      "<class 'pandas.core.frame.DataFrame'>\n",
      "RangeIndex: 1197 entries, 0 to 1196\n",
      "Data columns (total 5 columns):\n",
      " #   Column         Non-Null Count  Dtype \n",
      "---  ------         --------------  ----- \n",
      " 0   transactionId  1197 non-null   int64 \n",
      " 1   visitorId      1197 non-null   int64 \n",
      " 2   date           1197 non-null   object\n",
      " 3   revenue        1197 non-null   int64 \n",
      " 4   group          1197 non-null   object\n",
      "dtypes: int64(3), object(2)\n",
      "memory usage: 46.9+ KB\n",
      "\n",
      "**************************************************\n"
     ]
    },
    {
     "data": {
      "text/html": [
       "<div>\n",
       "<style scoped>\n",
       "    .dataframe tbody tr th:only-of-type {\n",
       "        vertical-align: middle;\n",
       "    }\n",
       "\n",
       "    .dataframe tbody tr th {\n",
       "        vertical-align: top;\n",
       "    }\n",
       "\n",
       "    .dataframe thead th {\n",
       "        text-align: right;\n",
       "    }\n",
       "</style>\n",
       "<table border=\"1\" class=\"dataframe\">\n",
       "  <thead>\n",
       "    <tr style=\"text-align: right;\">\n",
       "      <th></th>\n",
       "      <th>transactionId</th>\n",
       "      <th>visitorId</th>\n",
       "      <th>date</th>\n",
       "      <th>revenue</th>\n",
       "      <th>group</th>\n",
       "    </tr>\n",
       "  </thead>\n",
       "  <tbody>\n",
       "    <tr>\n",
       "      <th>0</th>\n",
       "      <td>3667963787</td>\n",
       "      <td>3312258926</td>\n",
       "      <td>2019-08-15</td>\n",
       "      <td>1650</td>\n",
       "      <td>B</td>\n",
       "    </tr>\n",
       "    <tr>\n",
       "      <th>1</th>\n",
       "      <td>2804400009</td>\n",
       "      <td>3642806036</td>\n",
       "      <td>2019-08-15</td>\n",
       "      <td>730</td>\n",
       "      <td>B</td>\n",
       "    </tr>\n",
       "    <tr>\n",
       "      <th>2</th>\n",
       "      <td>2961555356</td>\n",
       "      <td>4069496402</td>\n",
       "      <td>2019-08-15</td>\n",
       "      <td>400</td>\n",
       "      <td>A</td>\n",
       "    </tr>\n",
       "    <tr>\n",
       "      <th>3</th>\n",
       "      <td>3797467345</td>\n",
       "      <td>1196621759</td>\n",
       "      <td>2019-08-15</td>\n",
       "      <td>9759</td>\n",
       "      <td>B</td>\n",
       "    </tr>\n",
       "    <tr>\n",
       "      <th>4</th>\n",
       "      <td>2282983706</td>\n",
       "      <td>2322279887</td>\n",
       "      <td>2019-08-15</td>\n",
       "      <td>2308</td>\n",
       "      <td>B</td>\n",
       "    </tr>\n",
       "  </tbody>\n",
       "</table>\n",
       "</div>"
      ],
      "text/plain": [
       "   transactionId   visitorId        date  revenue group\n",
       "0     3667963787  3312258926  2019-08-15     1650     B\n",
       "1     2804400009  3642806036  2019-08-15      730     B\n",
       "2     2961555356  4069496402  2019-08-15      400     A\n",
       "3     3797467345  1196621759  2019-08-15     9759     B\n",
       "4     2282983706  2322279887  2019-08-15     2308     B"
      ]
     },
     "metadata": {},
     "output_type": "display_data"
    },
    {
     "name": "stdout",
     "output_type": "stream",
     "text": [
      "\n",
      "**************************************************\n"
     ]
    },
    {
     "data": {
      "text/html": [
       "<div>\n",
       "<style scoped>\n",
       "    .dataframe tbody tr th:only-of-type {\n",
       "        vertical-align: middle;\n",
       "    }\n",
       "\n",
       "    .dataframe tbody tr th {\n",
       "        vertical-align: top;\n",
       "    }\n",
       "\n",
       "    .dataframe thead th {\n",
       "        text-align: right;\n",
       "    }\n",
       "</style>\n",
       "<table border=\"1\" class=\"dataframe\">\n",
       "  <thead>\n",
       "    <tr style=\"text-align: right;\">\n",
       "      <th></th>\n",
       "      <th>transactionId</th>\n",
       "      <th>visitorId</th>\n",
       "      <th>revenue</th>\n",
       "    </tr>\n",
       "  </thead>\n",
       "  <tbody>\n",
       "    <tr>\n",
       "      <th>count</th>\n",
       "      <td>1197.00</td>\n",
       "      <td>1197.00</td>\n",
       "      <td>1197.00</td>\n",
       "    </tr>\n",
       "    <tr>\n",
       "      <th>mean</th>\n",
       "      <td>2155621385.53</td>\n",
       "      <td>2165960143.10</td>\n",
       "      <td>8348.01</td>\n",
       "    </tr>\n",
       "    <tr>\n",
       "      <th>std</th>\n",
       "      <td>1229084904.76</td>\n",
       "      <td>1236014192.15</td>\n",
       "      <td>39191.13</td>\n",
       "    </tr>\n",
       "    <tr>\n",
       "      <th>min</th>\n",
       "      <td>1062393.00</td>\n",
       "      <td>5114589.00</td>\n",
       "      <td>50.00</td>\n",
       "    </tr>\n",
       "    <tr>\n",
       "      <th>25%</th>\n",
       "      <td>1166775572.00</td>\n",
       "      <td>1111826046.00</td>\n",
       "      <td>1220.00</td>\n",
       "    </tr>\n",
       "    <tr>\n",
       "      <th>50%</th>\n",
       "      <td>2145193898.00</td>\n",
       "      <td>2217984702.00</td>\n",
       "      <td>2978.00</td>\n",
       "    </tr>\n",
       "    <tr>\n",
       "      <th>75%</th>\n",
       "      <td>3237740112.00</td>\n",
       "      <td>3177606451.00</td>\n",
       "      <td>8290.00</td>\n",
       "    </tr>\n",
       "    <tr>\n",
       "      <th>max</th>\n",
       "      <td>4293855558.00</td>\n",
       "      <td>4283872382.00</td>\n",
       "      <td>1294500.00</td>\n",
       "    </tr>\n",
       "  </tbody>\n",
       "</table>\n",
       "</div>"
      ],
      "text/plain": [
       "       transactionId     visitorId    revenue\n",
       "count        1197.00       1197.00    1197.00\n",
       "mean   2155621385.53 2165960143.10    8348.01\n",
       "std    1229084904.76 1236014192.15   39191.13\n",
       "min       1062393.00    5114589.00      50.00\n",
       "25%    1166775572.00 1111826046.00    1220.00\n",
       "50%    2145193898.00 2217984702.00    2978.00\n",
       "75%    3237740112.00 3177606451.00    8290.00\n",
       "max    4293855558.00 4283872382.00 1294500.00"
      ]
     },
     "metadata": {},
     "output_type": "display_data"
    }
   ],
   "source": [
    "data_info(orders)"
   ]
  },
  {
   "cell_type": "markdown",
   "metadata": {},
   "source": [
    "#### Таблица `visitors`"
   ]
  },
  {
   "cell_type": "code",
   "execution_count": 10,
   "metadata": {},
   "outputs": [
    {
     "name": "stdout",
     "output_type": "stream",
     "text": [
      "<class 'pandas.core.frame.DataFrame'>\n",
      "RangeIndex: 62 entries, 0 to 61\n",
      "Data columns (total 3 columns):\n",
      " #   Column    Non-Null Count  Dtype \n",
      "---  ------    --------------  ----- \n",
      " 0   date      62 non-null     object\n",
      " 1   group     62 non-null     object\n",
      " 2   visitors  62 non-null     int64 \n",
      "dtypes: int64(1), object(2)\n",
      "memory usage: 1.6+ KB\n",
      "\n",
      "**************************************************\n"
     ]
    },
    {
     "data": {
      "text/html": [
       "<div>\n",
       "<style scoped>\n",
       "    .dataframe tbody tr th:only-of-type {\n",
       "        vertical-align: middle;\n",
       "    }\n",
       "\n",
       "    .dataframe tbody tr th {\n",
       "        vertical-align: top;\n",
       "    }\n",
       "\n",
       "    .dataframe thead th {\n",
       "        text-align: right;\n",
       "    }\n",
       "</style>\n",
       "<table border=\"1\" class=\"dataframe\">\n",
       "  <thead>\n",
       "    <tr style=\"text-align: right;\">\n",
       "      <th></th>\n",
       "      <th>date</th>\n",
       "      <th>group</th>\n",
       "      <th>visitors</th>\n",
       "    </tr>\n",
       "  </thead>\n",
       "  <tbody>\n",
       "    <tr>\n",
       "      <th>0</th>\n",
       "      <td>2019-08-01</td>\n",
       "      <td>A</td>\n",
       "      <td>719</td>\n",
       "    </tr>\n",
       "    <tr>\n",
       "      <th>1</th>\n",
       "      <td>2019-08-02</td>\n",
       "      <td>A</td>\n",
       "      <td>619</td>\n",
       "    </tr>\n",
       "    <tr>\n",
       "      <th>2</th>\n",
       "      <td>2019-08-03</td>\n",
       "      <td>A</td>\n",
       "      <td>507</td>\n",
       "    </tr>\n",
       "    <tr>\n",
       "      <th>3</th>\n",
       "      <td>2019-08-04</td>\n",
       "      <td>A</td>\n",
       "      <td>717</td>\n",
       "    </tr>\n",
       "    <tr>\n",
       "      <th>4</th>\n",
       "      <td>2019-08-05</td>\n",
       "      <td>A</td>\n",
       "      <td>756</td>\n",
       "    </tr>\n",
       "  </tbody>\n",
       "</table>\n",
       "</div>"
      ],
      "text/plain": [
       "         date group  visitors\n",
       "0  2019-08-01     A       719\n",
       "1  2019-08-02     A       619\n",
       "2  2019-08-03     A       507\n",
       "3  2019-08-04     A       717\n",
       "4  2019-08-05     A       756"
      ]
     },
     "metadata": {},
     "output_type": "display_data"
    },
    {
     "name": "stdout",
     "output_type": "stream",
     "text": [
      "\n",
      "**************************************************\n"
     ]
    },
    {
     "data": {
      "text/html": [
       "<div>\n",
       "<style scoped>\n",
       "    .dataframe tbody tr th:only-of-type {\n",
       "        vertical-align: middle;\n",
       "    }\n",
       "\n",
       "    .dataframe tbody tr th {\n",
       "        vertical-align: top;\n",
       "    }\n",
       "\n",
       "    .dataframe thead th {\n",
       "        text-align: right;\n",
       "    }\n",
       "</style>\n",
       "<table border=\"1\" class=\"dataframe\">\n",
       "  <thead>\n",
       "    <tr style=\"text-align: right;\">\n",
       "      <th></th>\n",
       "      <th>visitors</th>\n",
       "    </tr>\n",
       "  </thead>\n",
       "  <tbody>\n",
       "    <tr>\n",
       "      <th>count</th>\n",
       "      <td>62.00</td>\n",
       "    </tr>\n",
       "    <tr>\n",
       "      <th>mean</th>\n",
       "      <td>607.29</td>\n",
       "    </tr>\n",
       "    <tr>\n",
       "      <th>std</th>\n",
       "      <td>114.40</td>\n",
       "    </tr>\n",
       "    <tr>\n",
       "      <th>min</th>\n",
       "      <td>361.00</td>\n",
       "    </tr>\n",
       "    <tr>\n",
       "      <th>25%</th>\n",
       "      <td>534.00</td>\n",
       "    </tr>\n",
       "    <tr>\n",
       "      <th>50%</th>\n",
       "      <td>624.50</td>\n",
       "    </tr>\n",
       "    <tr>\n",
       "      <th>75%</th>\n",
       "      <td>710.50</td>\n",
       "    </tr>\n",
       "    <tr>\n",
       "      <th>max</th>\n",
       "      <td>770.00</td>\n",
       "    </tr>\n",
       "  </tbody>\n",
       "</table>\n",
       "</div>"
      ],
      "text/plain": [
       "       visitors\n",
       "count     62.00\n",
       "mean     607.29\n",
       "std      114.40\n",
       "min      361.00\n",
       "25%      534.00\n",
       "50%      624.50\n",
       "75%      710.50\n",
       "max      770.00"
      ]
     },
     "metadata": {},
     "output_type": "display_data"
    }
   ],
   "source": [
    "data_info(visitors)"
   ]
  },
  {
   "cell_type": "markdown",
   "metadata": {},
   "source": [
    "### Проверка на дубликаты"
   ]
  },
  {
   "cell_type": "markdown",
   "metadata": {},
   "source": [
    "Проверяем таблицу `orders` на наличие пользователей в обоих группах теста, удаляем их для дальнейшего корректного анализа теста."
   ]
  },
  {
   "cell_type": "code",
   "execution_count": 11,
   "metadata": {},
   "outputs": [
    {
     "name": "stdout",
     "output_type": "stream",
     "text": [
      "<class 'pandas.core.frame.DataFrame'>\n",
      "Int64Index: 1016 entries, 0 to 1196\n",
      "Data columns (total 5 columns):\n",
      " #   Column         Non-Null Count  Dtype \n",
      "---  ------         --------------  ----- \n",
      " 0   transactionId  1016 non-null   int64 \n",
      " 1   visitorId      1016 non-null   int64 \n",
      " 2   date           1016 non-null   object\n",
      " 3   revenue        1016 non-null   int64 \n",
      " 4   group          1016 non-null   object\n",
      "dtypes: int64(3), object(2)\n",
      "memory usage: 47.6+ KB\n"
     ]
    }
   ],
   "source": [
    "duplicated_users = np.intersect1d(orders.query('group == \"A\"')['visitorId'].unique(),\n",
    "                                  orders.query('group == \"B\"')['visitorId'].unique())\n",
    "orders = orders.query('visitorId not in @duplicated_users')\n",
    "orders.info()"
   ]
  },
  {
   "cell_type": "markdown",
   "metadata": {},
   "source": [
    "### Приведение типов данных"
   ]
  },
  {
   "cell_type": "code",
   "execution_count": 12,
   "metadata": {},
   "outputs": [],
   "source": [
    "orders['date'] = orders['date'].map(\n",
    "    lambda x: dt.datetime.strptime(x, '%Y-%m-%d')\n",
    ")\n",
    "visitors['date'] = visitors['date'].map(\n",
    "    lambda x: dt.datetime.strptime(x, '%Y-%m-%d')\n",
    ")"
   ]
  },
  {
   "cell_type": "markdown",
   "metadata": {},
   "source": [
    "### Графики кумулятивных данных"
   ]
  },
  {
   "cell_type": "markdown",
   "metadata": {},
   "source": [
    "#### Сбор кумулятивных данных"
   ]
  },
  {
   "cell_type": "code",
   "execution_count": 13,
   "metadata": {},
   "outputs": [
    {
     "data": {
      "text/html": [
       "<div>\n",
       "<style scoped>\n",
       "    .dataframe tbody tr th:only-of-type {\n",
       "        vertical-align: middle;\n",
       "    }\n",
       "\n",
       "    .dataframe tbody tr th {\n",
       "        vertical-align: top;\n",
       "    }\n",
       "\n",
       "    .dataframe thead th {\n",
       "        text-align: right;\n",
       "    }\n",
       "</style>\n",
       "<table border=\"1\" class=\"dataframe\">\n",
       "  <thead>\n",
       "    <tr style=\"text-align: right;\">\n",
       "      <th></th>\n",
       "      <th>date</th>\n",
       "      <th>group</th>\n",
       "      <th>orders</th>\n",
       "      <th>buyers</th>\n",
       "      <th>revenue</th>\n",
       "      <th>visitors</th>\n",
       "    </tr>\n",
       "  </thead>\n",
       "  <tbody>\n",
       "    <tr>\n",
       "      <th>0</th>\n",
       "      <td>2019-08-01</td>\n",
       "      <td>A</td>\n",
       "      <td>23</td>\n",
       "      <td>19</td>\n",
       "      <td>142779</td>\n",
       "      <td>719</td>\n",
       "    </tr>\n",
       "    <tr>\n",
       "      <th>1</th>\n",
       "      <td>2019-08-01</td>\n",
       "      <td>B</td>\n",
       "      <td>17</td>\n",
       "      <td>17</td>\n",
       "      <td>59758</td>\n",
       "      <td>713</td>\n",
       "    </tr>\n",
       "    <tr>\n",
       "      <th>2</th>\n",
       "      <td>2019-08-02</td>\n",
       "      <td>A</td>\n",
       "      <td>42</td>\n",
       "      <td>36</td>\n",
       "      <td>234381</td>\n",
       "      <td>1338</td>\n",
       "    </tr>\n",
       "    <tr>\n",
       "      <th>3</th>\n",
       "      <td>2019-08-02</td>\n",
       "      <td>B</td>\n",
       "      <td>40</td>\n",
       "      <td>39</td>\n",
       "      <td>221801</td>\n",
       "      <td>1294</td>\n",
       "    </tr>\n",
       "    <tr>\n",
       "      <th>4</th>\n",
       "      <td>2019-08-03</td>\n",
       "      <td>A</td>\n",
       "      <td>66</td>\n",
       "      <td>60</td>\n",
       "      <td>346854</td>\n",
       "      <td>1845</td>\n",
       "    </tr>\n",
       "  </tbody>\n",
       "</table>\n",
       "</div>"
      ],
      "text/plain": [
       "        date group  orders  buyers  revenue  visitors\n",
       "0 2019-08-01     A      23      19   142779       719\n",
       "1 2019-08-01     B      17      17    59758       713\n",
       "2 2019-08-02     A      42      36   234381      1338\n",
       "3 2019-08-02     B      40      39   221801      1294\n",
       "4 2019-08-03     A      66      60   346854      1845"
      ]
     },
     "execution_count": 13,
     "metadata": {},
     "output_type": "execute_result"
    }
   ],
   "source": [
    "dates_groups = orders[['date', 'group']].drop_duplicates()\n",
    "orders_agg = (dates_groups\n",
    "              .apply(lambda x: orders[np.logical_and(orders['date'] <= x['date'], \n",
    "                                                     orders['group'] == x['group'])]\n",
    "                     .agg({\n",
    "                         'date':'max',\n",
    "                         'group': 'max',\n",
    "                         'transactionId':'nunique',\n",
    "                         'visitorId':'nunique',\n",
    "                         'revenue':'sum'\n",
    "                     }), axis=1)\n",
    "              .sort_values(by=['date', 'group'])\n",
    "             )\n",
    "visitors_agg = (dates_groups\n",
    "                .apply(lambda x: visitors[np.logical_and(visitors['date'] <= x['date'], \n",
    "                                                         visitors['group'] == x['group'])]\n",
    "                       .agg({\n",
    "                           'date':'max',\n",
    "                           'group':'max',\n",
    "                           'visitors':'sum'\n",
    "                       }), axis=1\n",
    "                      )\n",
    "                .sort_values(by=['date', 'group'])\n",
    "               )\n",
    "cumulative_data = orders_agg.merge(visitors_agg, left_on=['date','group'], right_on=['date','group'])\n",
    "cumulative_data.columns = ['date', 'group', 'orders', 'buyers', 'revenue', 'visitors']\n",
    "cumulative_data.head()"
   ]
  },
  {
   "cell_type": "markdown",
   "metadata": {},
   "source": [
    "#### Формирования таблиц кумулятивных данных по группам"
   ]
  },
  {
   "cell_type": "code",
   "execution_count": 14,
   "metadata": {},
   "outputs": [],
   "source": [
    "cumulative_data_a = cumulative_data[cumulative_data['group'] == 'A'][['date', 'revenue', 'orders', 'visitors']]\n",
    "cumulative_data_b = cumulative_data[cumulative_data['group'] == 'B'][['date', 'revenue', 'orders', 'visitors']]"
   ]
  },
  {
   "cell_type": "markdown",
   "metadata": {},
   "source": [
    "#### График кумулятивной выручки по группам"
   ]
  },
  {
   "cell_type": "code",
   "execution_count": 15,
   "metadata": {},
   "outputs": [
    {
     "data": {
      "image/png": "[encoded data removed]",
      "text/plain": [
       "<Figure size 720x720 with 1 Axes>"
      ]
     },
     "metadata": {
      "needs_background": "light"
     },
     "output_type": "display_data"
    }
   ],
   "source": [
    "plt.figure(figsize=(10,10))\n",
    "plt.plot(cumulative_data_a['date'], \n",
    "         cumulative_data_a['revenue'], \n",
    "         label = 'A')\n",
    "plt.plot(cumulative_data_b['date'], \n",
    "         cumulative_data_b['revenue'], \n",
    "         label = 'B')\n",
    "plt.title('Кумулятивная выручка')\n",
    "plt.xlabel('Даты проведения теста', fontsize=12)\n",
    "plt.ylabel('Кумулятивная выручка', fontsize=12)\n",
    "plt.legend()\n",
    "plt.show()"
   ]
  },
  {
   "cell_type": "markdown",
   "metadata": {},
   "source": [
    "Кумулятивные выручки групп А и В растут на протяжении всего периода, график группы В имеет резкие скачки, что может говорить о выбросах в данных."
   ]
  },
  {
   "cell_type": "markdown",
   "metadata": {},
   "source": [
    "#### График кумулятивного среднего чека"
   ]
  },
  {
   "cell_type": "code",
   "execution_count": 16,
   "metadata": {},
   "outputs": [
    {
     "data": {
      "image/png": "[encoded data removed]",
      "text/plain": [
       "<Figure size 720x720 with 1 Axes>"
      ]
     },
     "metadata": {
      "needs_background": "light"
     },
     "output_type": "display_data"
    }
   ],
   "source": [
    "plt.figure(figsize=(10,10))\n",
    "plt.plot(cumulative_data_a['date'], \n",
    "         cumulative_data_a['revenue']/cumulative_data_a['orders'], \n",
    "         label = 'A')\n",
    "plt.plot(cumulative_data_b['date'], \n",
    "         cumulative_data_b['revenue']/cumulative_data_b['orders'], \n",
    "         label = 'B')\n",
    "plt.title('Кумулятивный средний чек')\n",
    "plt.xlabel('Даты проведения теста', fontsize=12)\n",
    "plt.ylabel('Кумулятивная средний чек', fontsize=12)\n",
    "plt.legend()\n",
    "plt.show()"
   ]
  },
  {
   "cell_type": "markdown",
   "metadata": {},
   "source": [
    "Средний чек обоих групп неравномерен, так же имеются резкие скачки, что говорит о возможных выбросах (крупные заказы)."
   ]
  },
  {
   "cell_type": "markdown",
   "metadata": {},
   "source": [
    "### График относительного различия среднего чека"
   ]
  },
  {
   "cell_type": "code",
   "execution_count": 17,
   "metadata": {},
   "outputs": [
    {
     "data": {
      "image/png": "[encoded data removed]",
      "text/plain": [
       "<Figure size 720x720 with 1 Axes>"
      ]
     },
     "metadata": {
      "needs_background": "light"
     },
     "output_type": "display_data"
    }
   ],
   "source": [
    "merged_cumulative_data = cumulative_data_a.merge(cumulative_data_b, \n",
    "                                                 left_on='date', \n",
    "                                                 right_on='date', \n",
    "                                                 how='left',\n",
    "                                                 suffixes=['A','B'])\n",
    "plt.figure(figsize=(10,10))\n",
    "plt.plot(merged_cumulative_data['date'], \n",
    "        (merged_cumulative_data['revenueB']/\n",
    "        merged_cumulative_data['ordersB'])/\n",
    "        (merged_cumulative_data['revenueA']/\n",
    "        merged_cumulative_data['ordersA'])-1)\n",
    "plt.axhline(y=0, color='black', linestyle='--')\n",
    "plt.title('Относительное различие среднего чека')\n",
    "plt.xlabel('Даты проведения теста', fontsize=12)\n",
    "plt.ylabel('Отношение среднего чека B/A', fontsize=12)\n",
    "plt.show()"
   ]
  },
  {
   "cell_type": "markdown",
   "metadata": {},
   "source": [
    "График различия среднего чека подтверждает гипотезу о наличии всплексов по числу заказов или их сумме."
   ]
  },
  {
   "cell_type": "markdown",
   "metadata": {},
   "source": [
    "### График кумулятивной конверсии"
   ]
  },
  {
   "cell_type": "code",
   "execution_count": 18,
   "metadata": {},
   "outputs": [],
   "source": [
    "cumulative_data_a['conversion'] = cumulative_data_a['orders']/cumulative_data_a['visitors']\n",
    "cumulative_data_b['conversion'] = cumulative_data_b['orders']/cumulative_data_b['visitors']"
   ]
  },
  {
   "cell_type": "code",
   "execution_count": 19,
   "metadata": {},
   "outputs": [
    {
     "data": {
      "image/png": "[encoded data removed]",
      "text/plain": [
       "<Figure size 720x720 with 1 Axes>"
      ]
     },
     "metadata": {
      "needs_background": "light"
     },
     "output_type": "display_data"
    }
   ],
   "source": [
    "plt.figure(figsize=(10,10))\n",
    "plt.plot(cumulative_data_a['date'], cumulative_data_a['conversion'], label='A')\n",
    "plt.plot(cumulative_data_b['date'], cumulative_data_b['conversion'], label='B')\n",
    "plt.title('Кумулятивная конверсия')\n",
    "plt.xlabel('Даты проведения теста', fontsize=12)\n",
    "plt.ylabel('Кумулятивная конверсия', fontsize=12)\n",
    "plt.legend()\n",
    "plt.show()"
   ]
  },
  {
   "cell_type": "markdown",
   "metadata": {},
   "source": [
    "Конверсии групп А и В колеблются практически симметрично, однако конверсия группы В довольно быстро вырвалась вперед, в то время как конверсия группы А просела и продолжает падать."
   ]
  },
  {
   "cell_type": "markdown",
   "metadata": {},
   "source": [
    "### График относительного различия конверсий"
   ]
  },
  {
   "cell_type": "code",
   "execution_count": 20,
   "metadata": {},
   "outputs": [
    {
     "data": {
      "image/png": "[encoded data removed]",
      "text/plain": [
       "<Figure size 720x720 with 1 Axes>"
      ]
     },
     "metadata": {
      "needs_background": "light"
     },
     "output_type": "display_data"
    }
   ],
   "source": [
    "merged_conversion = (cumulative_data_a[['date', 'conversion']]\n",
    "                     .merge(cumulative_data_b[['date', 'conversion']],\n",
    "                            left_on='date',\n",
    "                            right_on='date',\n",
    "                            how='left',\n",
    "                            suffixes=['A', 'B'])\n",
    "                    )\n",
    "plt.figure(figsize=(10,10))\n",
    "plt.plot(merged_conversion['date'], \n",
    "         merged_conversion['conversionB']/merged_conversion['conversionA']-1)\n",
    "plt.axhline(y=0, color='black', linestyle='--')\n",
    "plt.axhline(y=0.16, color='grey', linestyle='--')\n",
    "plt.title('Относительный прирост конверсии группы B')\n",
    "plt.xlabel('Даты проведения теста', fontsize=12)\n",
    "plt.ylabel('Отношение конверсии B/A', fontsize=12)\n",
    "plt.show()"
   ]
  },
  {
   "cell_type": "markdown",
   "metadata": {},
   "source": [
    "В начале теста группа В проигрывала группе А, но быстро вырвалась вперед, далее были скачки, но конверсия группы В не опускалась ниже 0 на протяжении всего теста, а к концу снова начала расти."
   ]
  },
  {
   "cell_type": "markdown",
   "metadata": {},
   "source": [
    "### Границы аномальных значений"
   ]
  },
  {
   "cell_type": "markdown",
   "metadata": {},
   "source": [
    "#### Определение границы аномальных пользователей"
   ]
  },
  {
   "cell_type": "code",
   "execution_count": 21,
   "metadata": {},
   "outputs": [],
   "source": [
    "orders_by_user = (\n",
    "    orders.groupby('visitorId', as_index=False)\n",
    "    .agg({'transactionId':'nunique'})\n",
    ")\n",
    "orders_by_user.columns = ['user_id', 'orders']"
   ]
  },
  {
   "cell_type": "code",
   "execution_count": 22,
   "metadata": {},
   "outputs": [
    {
     "data": {
      "image/png": "[encoded data removed]",
      "text/plain": [
       "<Figure size 720x720 with 1 Axes>"
      ]
     },
     "metadata": {
      "needs_background": "light"
     },
     "output_type": "display_data"
    },
    {
     "name": "stdout",
     "output_type": "stream",
     "text": [
      "95 и 99 перцентили количества заказов: [1. 2.]\n"
     ]
    }
   ],
   "source": [
    "x_values = pd.Series(range(0, len(orders_by_user)))\n",
    "\n",
    "plt.figure(figsize=(10,10))\n",
    "plt.scatter(x_values, orders_by_user['orders'])\n",
    "plt.title('График распределения количества заказов по пользователям')\n",
    "plt.xlabel('Пользователи', fontsize=12)\n",
    "plt.ylabel('Количество заказов', fontsize=12)\n",
    "plt.show()\n",
    "print('95 и 99 перцентили количества заказов:' ,np.percentile(orders_by_user['orders'], [95,99]))"
   ]
  },
  {
   "cell_type": "markdown",
   "metadata": {},
   "source": [
    "Не более *5%* пользователей оформляли больше **одного заказа** и не более *1%* - больше **2-х**.\n",
    "Примем за границу **2 заказа** на одного пользователя, всех кто оформил больше будем считать *аномальными пользователями*."
   ]
  },
  {
   "cell_type": "markdown",
   "metadata": {},
   "source": [
    "#### Определение границы аномальных заказов"
   ]
  },
  {
   "cell_type": "code",
   "execution_count": 23,
   "metadata": {},
   "outputs": [
    {
     "data": {
      "image/png": "[encoded data removed]",
      "text/plain": [
       "<Figure size 720x720 with 1 Axes>"
      ]
     },
     "metadata": {
      "needs_background": "light"
     },
     "output_type": "display_data"
    },
    {
     "name": "stdout",
     "output_type": "stream",
     "text": [
      "95 и 99 перцентили стоимости заказов: [26785. 53904.]\n"
     ]
    }
   ],
   "source": [
    "x_values = pd.Series(range(0, len(orders['revenue'])))\n",
    "\n",
    "plt.figure(figsize=(10,10))\n",
    "plt.scatter(x_values, orders['revenue'])\n",
    "plt.title('График распределения стоимости заказов')\n",
    "plt.xlabel('Пользователи', fontsize=12)\n",
    "plt.ylabel('Стоимость заказа', fontsize=12)\n",
    "plt.show()\n",
    "print('95 и 99 перцентили стоимости заказов:' ,np.percentile(orders['revenue'], [95,99]))"
   ]
  },
  {
   "cell_type": "markdown",
   "metadata": {},
   "source": [
    "Не более *5%* заказов дороже **26785** и не более *1%* дороже **53904**. За границу выручки примем **27000**, всё что дороже будем считать *аномальными заказами*."
   ]
  },
  {
   "cell_type": "markdown",
   "metadata": {},
   "source": [
    "### Статистическая значимость"
   ]
  },
  {
   "cell_type": "markdown",
   "metadata": {},
   "source": [
    "#### Статистическая значимость различий в конверсии по \"сырым\" данным"
   ]
  },
  {
   "cell_type": "markdown",
   "metadata": {},
   "source": [
    "Для проверки статистической значимости формируем нулевую и альтернативную гипотезы:\n",
    "\n",
    "$H_0$ - конверсии групп А и В равны <br>\n",
    "$H_1$ - в конверсиях групп А и В есть различия"
   ]
  },
  {
   "cell_type": "markdown",
   "metadata": {},
   "source": [
    "Формируем таблицу, содержащую данные о количестве заказов, суммарной выручке и количестве пользователей в выбранную дату, а так же суммарные количества заказов, пользователей и выручки до выбранной даты включительно."
   ]
  },
  {
   "cell_type": "code",
   "execution_count": 24,
   "metadata": {},
   "outputs": [
    {
     "data": {
      "text/html": [
       "<div>\n",
       "<style scoped>\n",
       "    .dataframe tbody tr th:only-of-type {\n",
       "        vertical-align: middle;\n",
       "    }\n",
       "\n",
       "    .dataframe tbody tr th {\n",
       "        vertical-align: top;\n",
       "    }\n",
       "\n",
       "    .dataframe thead th {\n",
       "        text-align: right;\n",
       "    }\n",
       "</style>\n",
       "<table border=\"1\" class=\"dataframe\">\n",
       "  <thead>\n",
       "    <tr style=\"text-align: right;\">\n",
       "      <th></th>\n",
       "      <th>date</th>\n",
       "      <th>ordersPerDateA</th>\n",
       "      <th>revenuePerDateA</th>\n",
       "      <th>ordersPerDateB</th>\n",
       "      <th>revenuePerDateB</th>\n",
       "      <th>visitorsPerDayA</th>\n",
       "      <th>visitorsPerDayB</th>\n",
       "      <th>revenueA</th>\n",
       "      <th>ordersA</th>\n",
       "      <th>visitorsA</th>\n",
       "      <th>revenueB</th>\n",
       "      <th>ordersB</th>\n",
       "      <th>visitorsB</th>\n",
       "    </tr>\n",
       "  </thead>\n",
       "  <tbody>\n",
       "    <tr>\n",
       "      <th>0</th>\n",
       "      <td>2019-08-01</td>\n",
       "      <td>23</td>\n",
       "      <td>142779</td>\n",
       "      <td>17</td>\n",
       "      <td>59758</td>\n",
       "      <td>719</td>\n",
       "      <td>713</td>\n",
       "      <td>142779</td>\n",
       "      <td>23</td>\n",
       "      <td>719</td>\n",
       "      <td>59758</td>\n",
       "      <td>17</td>\n",
       "      <td>713</td>\n",
       "    </tr>\n",
       "    <tr>\n",
       "      <th>1</th>\n",
       "      <td>2019-08-02</td>\n",
       "      <td>19</td>\n",
       "      <td>91602</td>\n",
       "      <td>23</td>\n",
       "      <td>162043</td>\n",
       "      <td>619</td>\n",
       "      <td>581</td>\n",
       "      <td>234381</td>\n",
       "      <td>42</td>\n",
       "      <td>1338</td>\n",
       "      <td>221801</td>\n",
       "      <td>40</td>\n",
       "      <td>1294</td>\n",
       "    </tr>\n",
       "    <tr>\n",
       "      <th>2</th>\n",
       "      <td>2019-08-03</td>\n",
       "      <td>24</td>\n",
       "      <td>112473</td>\n",
       "      <td>14</td>\n",
       "      <td>67049</td>\n",
       "      <td>507</td>\n",
       "      <td>509</td>\n",
       "      <td>346854</td>\n",
       "      <td>66</td>\n",
       "      <td>1845</td>\n",
       "      <td>288850</td>\n",
       "      <td>54</td>\n",
       "      <td>1803</td>\n",
       "    </tr>\n",
       "    <tr>\n",
       "      <th>3</th>\n",
       "      <td>2019-08-04</td>\n",
       "      <td>11</td>\n",
       "      <td>41176</td>\n",
       "      <td>14</td>\n",
       "      <td>96890</td>\n",
       "      <td>717</td>\n",
       "      <td>770</td>\n",
       "      <td>388030</td>\n",
       "      <td>77</td>\n",
       "      <td>2562</td>\n",
       "      <td>385740</td>\n",
       "      <td>68</td>\n",
       "      <td>2573</td>\n",
       "    </tr>\n",
       "    <tr>\n",
       "      <th>4</th>\n",
       "      <td>2019-08-05</td>\n",
       "      <td>22</td>\n",
       "      <td>86383</td>\n",
       "      <td>21</td>\n",
       "      <td>89908</td>\n",
       "      <td>756</td>\n",
       "      <td>707</td>\n",
       "      <td>474413</td>\n",
       "      <td>99</td>\n",
       "      <td>3318</td>\n",
       "      <td>475648</td>\n",
       "      <td>89</td>\n",
       "      <td>3280</td>\n",
       "    </tr>\n",
       "  </tbody>\n",
       "</table>\n",
       "</div>"
      ],
      "text/plain": [
       "        date  ordersPerDateA  revenuePerDateA  ordersPerDateB  \\\n",
       "0 2019-08-01              23           142779              17   \n",
       "1 2019-08-02              19            91602              23   \n",
       "2 2019-08-03              24           112473              14   \n",
       "3 2019-08-04              11            41176              14   \n",
       "4 2019-08-05              22            86383              21   \n",
       "\n",
       "   revenuePerDateB  visitorsPerDayA  visitorsPerDayB  revenueA  ordersA  \\\n",
       "0            59758              719              713    142779       23   \n",
       "1           162043              619              581    234381       42   \n",
       "2            67049              507              509    346854       66   \n",
       "3            96890              717              770    388030       77   \n",
       "4            89908              756              707    474413       99   \n",
       "\n",
       "   visitorsA  revenueB  ordersB  visitorsB  \n",
       "0        719     59758       17        713  \n",
       "1       1338    221801       40       1294  \n",
       "2       1845    288850       54       1803  \n",
       "3       2562    385740       68       2573  \n",
       "4       3318    475648       89       3280  "
      ]
     },
     "execution_count": 24,
     "metadata": {},
     "output_type": "execute_result"
    }
   ],
   "source": [
    "orders_daily_a = (\n",
    "    orders[orders['group'] == 'A'][['date', 'transactionId','revenue']]\n",
    "    .groupby('date', as_index=False)\n",
    "    .agg({'transactionId':'nunique', 'revenue':'sum'})\n",
    ")\n",
    "orders_daily_a.columns = ['date', 'ordersPerDateA', 'revenuePerDateA']\n",
    "orders_daily_b = (\n",
    "    orders[orders['group'] == 'B'][['date', 'transactionId','revenue']]\n",
    "    .groupby('date', as_index=False)\n",
    "    .agg({'transactionId':'nunique', 'revenue':'sum'})\n",
    ")\n",
    "orders_daily_b.columns = ['date', 'ordersPerDateB', 'revenuePerDateB']\n",
    "visitors_daily_a = visitors[visitors['group'] == 'A'][['date', 'visitors']]\n",
    "visitors_daily_a.columns=['date','visitorsPerDayA']\n",
    "visitors_daily_b = visitors[visitors['group'] == 'B'][['date', 'visitors']]\n",
    "visitors_daily_b.columns=['date','visitorsPerDayB']\n",
    "merged_data = (\n",
    "    orders_daily_a.merge(orders_daily_b, left_on='date', right_on='date', how='left')\n",
    "    .merge(visitors_daily_a, left_on='date', right_on='date', how='left')\n",
    "    .merge(visitors_daily_b, left_on='date', right_on='date', how='left')\n",
    "    .merge(merged_cumulative_data, left_on='date', right_on='date', how='left')\n",
    ")\n",
    "merged_data.head()"
   ]
  },
  {
   "cell_type": "markdown",
   "metadata": {},
   "source": [
    "Формируем таблицы по группам, содержащие идентификатор пользователя и соответствующее ему количество заказов."
   ]
  },
  {
   "cell_type": "code",
   "execution_count": 25,
   "metadata": {},
   "outputs": [],
   "source": [
    "orders_users_a = (\n",
    "    orders[orders['group'] == 'A']\n",
    "    .groupby('visitorId', as_index=False)\n",
    "    .agg({'transactionId':'nunique'})\n",
    ")\n",
    "orders_users_a.columns=['visitorId', 'orders']\n",
    "orders_users_b = (\n",
    "    orders[orders['group'] == 'B']\n",
    "    .groupby('visitorId', as_index=False)\n",
    "    .agg({'transactionId':'nunique'})\n",
    ")\n",
    "orders_users_b.columns=['visitorId', 'orders']"
   ]
  },
  {
   "cell_type": "markdown",
   "metadata": {},
   "source": [
    "Создаем переменные `exam_a` и `exam_b`, содержащие список с количеством заказов для каждого пользователя, а так же нули для пользователей, которые ничего не заказывали."
   ]
  },
  {
   "cell_type": "code",
   "execution_count": 26,
   "metadata": {},
   "outputs": [],
   "source": [
    "exam_a = pd.concat(\n",
    "    [\n",
    "        orders_users_a['orders'],\n",
    "        pd.Series(\n",
    "            0,\n",
    "            index=np.arange(\n",
    "                merged_data['visitorsPerDayA'].sum() - len(orders_users_a['orders'])\n",
    "            ),\n",
    "            name='orders'\n",
    "        )\n",
    "    ],\n",
    "    axis=0\n",
    ")\n",
    "exam_b = pd.concat(\n",
    "    [\n",
    "        orders_users_b['orders'],\n",
    "        pd.Series(\n",
    "            0,\n",
    "            index=np.arange(\n",
    "                merged_data['visitorsPerDayB'].sum() - len(orders_users_b['orders'])\n",
    "            ),\n",
    "            name='orders'\n",
    "        )\n",
    "    ],\n",
    "    axis=0\n",
    ")"
   ]
  },
  {
   "cell_type": "markdown",
   "metadata": {},
   "source": [
    "Проводим проверку статистической значимости **критерием Манна-Уитни**."
   ]
  },
  {
   "cell_type": "code",
   "execution_count": 27,
   "metadata": {},
   "outputs": [
    {
     "name": "stdout",
     "output_type": "stream",
     "text": [
      "p-значение: 0.011\n",
      "Отвергаем нулевую гипотезу, разница статистически значима\n",
      "\n",
      "Относительный прирост конверсии группы B: 0.160\n"
     ]
    }
   ],
   "source": [
    "alpha = .05\n",
    "result = stats.mannwhitneyu(exam_a, exam_b, alternative=\"two-sided\")\n",
    "\n",
    "\n",
    "print('p-значение:', '{0:.3f}'.format(result.pvalue))\n",
    "\n",
    "if result.pvalue < alpha:\n",
    "    print('Отвергаем нулевую гипотезу, разница статистически значима')\n",
    "else:\n",
    "    print('Не получилось отвергнуть нулевую гипотезу, вывод о различии сделать нельзя')\n",
    "print('')    \n",
    "print('Относительный прирост конверсии группы B:', '{0:.3f}'.format(exam_b.mean()/exam_a.mean() - 1))"
   ]
  },
  {
   "cell_type": "markdown",
   "metadata": {},
   "source": [
    "**Вывод**\n",
    "\n",
    "По \"сырым\" данным различие в конверсии групп А и В есть, мы вынуждены отвергнуть нулевую гипотезу о равенстве конверсий. Относительный прирост группы В - 16%"
   ]
  },
  {
   "cell_type": "markdown",
   "metadata": {},
   "source": [
    "#### Статистическая значимость различий в среднем чеке по \"сырым\" данным"
   ]
  },
  {
   "cell_type": "markdown",
   "metadata": {},
   "source": [
    "Для проверки статистической значимости формируем нулевую и альтернативную гипотезы:\n",
    "\n",
    "$H_0$ - средние чеки групп А и В равны <br>\n",
    "$H_1$ - в средних чеках групп А и В есть различия"
   ]
  },
  {
   "cell_type": "code",
   "execution_count": 28,
   "metadata": {},
   "outputs": [
    {
     "name": "stdout",
     "output_type": "stream",
     "text": [
      "p-значение: 0.829\n",
      "Не получилось отвергнуть нулевую гипотезу, вывод о различии сделать нельзя\n",
      "\n",
      "Средний чек группы B / средний чек группы А: 0.287\n"
     ]
    }
   ],
   "source": [
    "alpha = .05\n",
    "result = stats.mannwhitneyu(orders[orders['group']=='A']['revenue'], \n",
    "                            orders[orders['group']=='B']['revenue'], alternative=\"two-sided\")\n",
    "\n",
    "\n",
    "print('p-значение:', '{0:.3f}'.format(result.pvalue))\n",
    "\n",
    "if result.pvalue < alpha:\n",
    "    print('Отвергаем нулевую гипотезу, разница статистически значима')\n",
    "else:\n",
    "    print('Не получилось отвергнуть нулевую гипотезу, вывод о различии сделать нельзя')\n",
    "print('')    \n",
    "print('Средний чек группы B / средний чек группы А:', '{0:.3f}'.format(orders[orders['group']=='B']['revenue'].mean()/\n",
    "                                                                         orders[orders['group']=='A']['revenue'].mean()-1))"
   ]
  },
  {
   "cell_type": "markdown",
   "metadata": {},
   "source": [
    "**Вывод**\n",
    "\n",
    "Не получилось отвергнуть нулевую гипотезу, вывод о различии средних чеков по группам сделать нельзя.\n",
    "В то же время средний чек группы В выше среднего чека группы А на 28,7%."
   ]
  },
  {
   "cell_type": "markdown",
   "metadata": {},
   "source": [
    "#### Статистическая значимость различий в конверсии по \"очищенным\" данным"
   ]
  },
  {
   "cell_type": "markdown",
   "metadata": {},
   "source": [
    "Формируем таблицу с аномальными пользователями, т.е. теми кто совершил больше 2-х заказов или заказ на сумму, больше 27000."
   ]
  },
  {
   "cell_type": "code",
   "execution_count": 29,
   "metadata": {},
   "outputs": [
    {
     "data": {
      "text/plain": [
       "568     113298937\n",
       "1099    148427295\n",
       "928     204675465\n",
       "684     358944393\n",
       "648     382846391\n",
       "Name: visitorId, dtype: int64"
      ]
     },
     "metadata": {},
     "output_type": "display_data"
    },
    {
     "data": {
      "text/plain": [
       "(56,)"
      ]
     },
     "execution_count": 29,
     "metadata": {},
     "output_type": "execute_result"
    }
   ],
   "source": [
    "many_orders_users = pd.concat(\n",
    "    [\n",
    "        orders_users_a[orders_users_a['orders'] > 2]['visitorId'],\n",
    "        orders_users_a[orders_users_a['orders'] > 2]['visitorId']\n",
    "    ],\n",
    "    axis=0\n",
    ")\n",
    "expensive_orders_users = orders[orders['revenue'] > 27000]['visitorId']\n",
    "anomal_users = (\n",
    "    pd.concat(\n",
    "        [\n",
    "            many_orders_users,\n",
    "            expensive_orders_users\n",
    "        ],\n",
    "        axis=0)\n",
    "    .drop_duplicates()\n",
    "    .sort_values()\n",
    ")\n",
    "display(anomal_users.head())\n",
    "anomal_users.shape"
   ]
  },
  {
   "cell_type": "markdown",
   "metadata": {},
   "source": [
    "Фильтруем выборки для проверки статистической значимости критерием Манна-Уитни от аномальных пользователей."
   ]
  },
  {
   "cell_type": "code",
   "execution_count": 30,
   "metadata": {},
   "outputs": [],
   "source": [
    "exam_a_filtered = pd.concat(\n",
    "    [\n",
    "        orders_users_a[np.logical_not(orders_users_a['visitorId'].isin(anomal_users))]['orders'],\n",
    "        pd.Series(\n",
    "            0,\n",
    "            index=np.arange(\n",
    "                merged_data['visitorsPerDayA'].sum() - len(orders_users_a['orders'])\n",
    "            ),\n",
    "            name='orders'\n",
    "        )\n",
    "    ],\n",
    "    axis=0\n",
    ")\n",
    "exam_b_filtered = pd.concat(\n",
    "    [\n",
    "        orders_users_b[np.logical_not(orders_users_b['visitorId'].isin(anomal_users))]['orders'],\n",
    "        pd.Series(\n",
    "            0,\n",
    "            index=np.arange(\n",
    "                merged_data['visitorsPerDayB'].sum() - len(orders_users_a['orders'])\n",
    "            ),\n",
    "            name='orders'\n",
    "        )\n",
    "    ],\n",
    "    axis=0\n",
    ")"
   ]
  },
  {
   "cell_type": "markdown",
   "metadata": {},
   "source": [
    "Для проверки статистической значимости формируем нулевую и альтернативную гипотезы:\n",
    "\n",
    "$H_0$ - конверсии \"очищенных\" групп А и В равны <br>\n",
    "$H_1$ - в конверсиях \"очищенных\" групп А и В есть различия"
   ]
  },
  {
   "cell_type": "code",
   "execution_count": 31,
   "metadata": {},
   "outputs": [
    {
     "name": "stdout",
     "output_type": "stream",
     "text": [
      "p-значение: 0.012\n",
      "Отвергаем нулевую гипотезу, разница статистически значима\n",
      "\n",
      "Относительный прирост конверсии группы B: 0.190\n"
     ]
    }
   ],
   "source": [
    "alpha = .05\n",
    "result = stats.mannwhitneyu(exam_a_filtered, exam_b_filtered, alternative=\"two-sided\")\n",
    "\n",
    "\n",
    "print('p-значение:', '{0:.3f}'.format(result.pvalue))\n",
    "\n",
    "if result.pvalue < alpha:\n",
    "    print('Отвергаем нулевую гипотезу, разница статистически значима')\n",
    "else:\n",
    "    print('Не получилось отвергнуть нулевую гипотезу, вывод о различии сделать нельзя')\n",
    "print('')    \n",
    "print('Относительный прирост конверсии группы B:', '{0:.3f}'.format(exam_b_filtered.mean()/\n",
    "                                                                    exam_a_filtered.mean() - 1))"
   ]
  },
  {
   "cell_type": "markdown",
   "metadata": {},
   "source": [
    "**Вывод**\n",
    "\n",
    "По очищенным данным различия в конверсиях групп А и В так же значимы, прирост группы В поднялся с *16%* до *19%*."
   ]
  },
  {
   "cell_type": "markdown",
   "metadata": {},
   "source": [
    "#### Статистическая значимость различий в среднем чеке по \"очищенным\" данным"
   ]
  },
  {
   "cell_type": "markdown",
   "metadata": {},
   "source": [
    "Для проверки статистической значимости формируем нулевую и альтернативную гипотезы:\n",
    "\n",
    "$H_0$ - средние чеки \"очищенных\" групп А и В равны <br>\n",
    "$H_1$ - в средних чеках \"очищенных\" групп А и В есть различия"
   ]
  },
  {
   "cell_type": "code",
   "execution_count": 32,
   "metadata": {},
   "outputs": [
    {
     "name": "stdout",
     "output_type": "stream",
     "text": [
      "p-значение: 0.698\n",
      "Не получилось отвергнуть нулевую гипотезу, вывод о различии сделать нельзя\n",
      "\n",
      "Средний чек группы B / средний чек группы А: -0.041\n"
     ]
    }
   ],
   "source": [
    "alpha = .05\n",
    "result = stats.mannwhitneyu(orders[np.logical_and(orders['group'] == 'A',\n",
    "                                                  np.logical_not(orders['visitorId']\n",
    "                                                                 .isin(anomal_users)))]['revenue'],\n",
    "                            orders[np.logical_and(orders['group'] == 'B',\n",
    "                                                  np.logical_not(orders['visitorId']\n",
    "                                                                 .isin(anomal_users)))]['revenue'], alternative=\"two-sided\")\n",
    "\n",
    "\n",
    "print('p-значение:', '{0:.3f}'.format(result.pvalue))\n",
    "\n",
    "if result.pvalue < alpha:\n",
    "    print('Отвергаем нулевую гипотезу, разница статистически значима')\n",
    "else:\n",
    "    print('Не получилось отвергнуть нулевую гипотезу, вывод о различии сделать нельзя')\n",
    "print('')    \n",
    "print('Средний чек группы B / средний чек группы А:', \n",
    "      '{0:.3f}'.format(orders[np.logical_and(orders['group'] == 'B',\n",
    "                                             np.logical_not(orders['visitorId']\n",
    "                                                            .isin(anomal_users)))]['revenue'].mean()/ \n",
    "                       orders[np.logical_and(orders['group'] == 'A',\n",
    "                                             np.logical_not(orders['visitorId']\n",
    "                                                            .isin(anomal_users)))]['revenue'].mean()- 1\n",
    "                      )\n",
    "     )"
   ]
  },
  {
   "cell_type": "markdown",
   "metadata": {},
   "source": [
    "**Вывод**\n",
    "\n",
    "После фильтрации данных вывод о различии средних чеков группы А и В сделать не представляется возможным. Но средний чек группы В упал на 4,1% по сравнению со средним чеком группы А."
   ]
  },
  {
   "cell_type": "markdown",
   "metadata": {},
   "source": [
    "## Выводы"
   ]
  },
  {
   "cell_type": "markdown",
   "metadata": {},
   "source": [
    "Проанализировав A/B-тест, имеем:\n",
    "\n",
    "* Есть статистически значимое различие по конверсии между группами, как по \"сырым\" данным, так и после фильтрации\n",
    "* Нет статистически значимого различия по среднему чеку как по \"сырым\" данным, так и по отчищенным, но после фильтрации средний чек группы B упал ниже среднего чека группы A на 4,1%\n",
    "* График различия среднего чека сильно колеблется, однозначные выводы по нему сделать нельзя\n",
    "* График различия конверсии между группами говорит нам о том, что результаты группы B лучше группы A и имеют тенденцию к росту\n",
    "\n",
    "Исходя из вышеизложенных фактов, предлагаю остановить тест и зафиксировать победу группы B."
   ]
  }
 ],
 "metadata": {
  "ExecuteTimeLog": [
   {
    "duration": 1052,
    "start_time": "2022-04-21T13:45:43.362Z"
   },
   {
    "duration": 157,
    "start_time": "2022-04-21T13:45:44.416Z"
   },
   {
    "duration": 3,
    "start_time": "2022-04-21T13:45:44.575Z"
   },
   {
    "duration": 16,
    "start_time": "2022-04-21T13:45:44.580Z"
   },
   {
    "duration": 8,
    "start_time": "2022-04-21T13:45:44.598Z"
   },
   {
    "duration": 8,
    "start_time": "2022-04-21T13:45:44.608Z"
   },
   {
    "duration": 7,
    "start_time": "2022-04-21T13:45:44.617Z"
   },
   {
    "duration": 13,
    "start_time": "2022-04-21T13:45:44.626Z"
   },
   {
    "duration": 33,
    "start_time": "2022-04-21T13:45:44.640Z"
   },
   {
    "duration": 21,
    "start_time": "2022-04-21T13:45:44.675Z"
   },
   {
    "duration": 16,
    "start_time": "2022-04-21T13:45:44.697Z"
   },
   {
    "duration": 46,
    "start_time": "2022-04-21T13:45:44.714Z"
   },
   {
    "duration": 275,
    "start_time": "2022-04-21T13:45:44.762Z"
   },
   {
    "duration": 6,
    "start_time": "2022-04-21T13:45:45.040Z"
   },
   {
    "duration": 269,
    "start_time": "2022-04-21T13:45:45.055Z"
   },
   {
    "duration": 202,
    "start_time": "2022-04-21T13:45:45.326Z"
   },
   {
    "duration": 309,
    "start_time": "2022-04-21T13:45:45.530Z"
   },
   {
    "duration": 13,
    "start_time": "2022-04-21T13:45:45.841Z"
   },
   {
    "duration": 200,
    "start_time": "2022-04-21T13:45:45.857Z"
   },
   {
    "duration": 290,
    "start_time": "2022-04-21T13:45:46.059Z"
   },
   {
    "duration": 8,
    "start_time": "2022-04-21T13:45:46.355Z"
   },
   {
    "duration": 222,
    "start_time": "2022-04-21T13:45:46.365Z"
   },
   {
    "duration": 150,
    "start_time": "2022-04-21T13:45:46.588Z"
   },
   {
    "duration": 41,
    "start_time": "2022-04-21T13:45:46.740Z"
   },
   {
    "duration": 10,
    "start_time": "2022-04-21T13:45:46.783Z"
   },
   {
    "duration": 26,
    "start_time": "2022-04-21T13:45:46.795Z"
   },
   {
    "duration": 36,
    "start_time": "2022-04-21T13:45:46.823Z"
   },
   {
    "duration": 12,
    "start_time": "2022-04-21T13:45:46.862Z"
   },
   {
    "duration": 31,
    "start_time": "2022-04-21T13:45:46.876Z"
   },
   {
    "duration": 50,
    "start_time": "2022-04-21T13:45:46.909Z"
   },
   {
    "duration": 1287,
    "start_time": "2022-04-22T07:47:51.586Z"
   },
   {
    "duration": 168,
    "start_time": "2022-04-22T07:47:52.876Z"
   },
   {
    "duration": 3,
    "start_time": "2022-04-22T07:47:53.046Z"
   },
   {
    "duration": 14,
    "start_time": "2022-04-22T07:47:53.051Z"
   },
   {
    "duration": 8,
    "start_time": "2022-04-22T07:47:53.068Z"
   },
   {
    "duration": 11,
    "start_time": "2022-04-22T07:47:53.077Z"
   },
   {
    "duration": 10,
    "start_time": "2022-04-22T07:47:53.089Z"
   },
   {
    "duration": 11,
    "start_time": "2022-04-22T07:47:53.101Z"
   },
   {
    "duration": 41,
    "start_time": "2022-04-22T07:47:53.114Z"
   },
   {
    "duration": 21,
    "start_time": "2022-04-22T07:47:53.157Z"
   },
   {
    "duration": 16,
    "start_time": "2022-04-22T07:47:53.179Z"
   },
   {
    "duration": 13,
    "start_time": "2022-04-22T07:47:53.196Z"
   },
   {
    "duration": 296,
    "start_time": "2022-04-22T07:47:53.210Z"
   },
   {
    "duration": 6,
    "start_time": "2022-04-22T07:47:53.509Z"
   },
   {
    "duration": 285,
    "start_time": "2022-04-22T07:47:53.517Z"
   },
   {
    "duration": 211,
    "start_time": "2022-04-22T07:47:53.804Z"
   },
   {
    "duration": 385,
    "start_time": "2022-04-22T07:47:54.017Z"
   },
   {
    "duration": 5,
    "start_time": "2022-04-22T07:47:54.404Z"
   },
   {
    "duration": 209,
    "start_time": "2022-04-22T07:47:54.410Z"
   },
   {
    "duration": 318,
    "start_time": "2022-04-22T07:47:54.621Z"
   },
   {
    "duration": 13,
    "start_time": "2022-04-22T07:47:54.941Z"
   },
   {
    "duration": 167,
    "start_time": "2022-04-22T07:47:54.956Z"
   },
   {
    "duration": 158,
    "start_time": "2022-04-22T07:47:55.125Z"
   },
   {
    "duration": 33,
    "start_time": "2022-04-22T07:47:55.284Z"
   },
   {
    "duration": 9,
    "start_time": "2022-04-22T07:47:55.319Z"
   },
   {
    "duration": 24,
    "start_time": "2022-04-22T07:47:55.330Z"
   },
   {
    "duration": 24,
    "start_time": "2022-04-22T07:47:55.356Z"
   },
   {
    "duration": 11,
    "start_time": "2022-04-22T07:47:55.381Z"
   },
   {
    "duration": 9,
    "start_time": "2022-04-22T07:47:55.394Z"
   },
   {
    "duration": 9,
    "start_time": "2022-04-22T07:47:55.405Z"
   },
   {
    "duration": 52,
    "start_time": "2022-04-22T07:47:55.415Z"
   },
   {
    "duration": 14,
    "start_time": "2022-04-22T07:47:55.469Z"
   }
  ],
  "kernelspec": {
   "display_name": "Python 3 (ipykernel)",
   "language": "python",
   "name": "python3"
  },
  "language_info": {
   "codemirror_mode": {
    "name": "ipython",
    "version": 3
   },
   "file_extension": ".py",
   "mimetype": "text/x-python",
   "name": "python",
   "nbconvert_exporter": "python",
   "pygments_lexer": "ipython3",
   "version": "3.9.7"
  },
  "toc": {
   "base_numbering": 1,
   "nav_menu": {},
   "number_sections": true,
   "sideBar": true,
   "skip_h1_title": true,
   "title_cell": "Содержание",
   "title_sidebar": "Contents",
   "toc_cell": true,
   "toc_position": {
    "height": "calc(100% - 180px)",
    "left": "10px",
    "top": "150px",
    "width": "165px"
   },
   "toc_section_display": true,
   "toc_window_display": true
  }
 },
 "nbformat": 4,
 "nbformat_minor": 4
}
